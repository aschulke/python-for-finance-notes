{
 "cells": [
  {
   "cell_type": "markdown",
   "metadata": {},
   "source": [
    "# STOCK PICKING 2 - THE FUTURE IS NOT WHAT IT USED TO BE \n",
    "\n",
    "What is the correlation between sharpe ratio and cumulative return? \n",
    "\n",
    "Let's pick \n",
    "\n",
    "  * __long_positions__: the best 10 securities by cumulative return and the best 10 securities by sharpe ratio\n",
    "  * __short_positions__: the worst 10 securities by cumulative return and the worst 10 securities by sharpe ratio\n",
    "    \n",
    "\n",
    "__What is the probability that the top/bottom 3 securities by cumulative return are included in this set?__\n",
    "\n",
    "Let's assume as __universe the top 1500 “tradeable” stocks by 200-day average dollar volume__, capped at 30% of equities allocated to any single sector. A stock is considered “tradeable” if it meets the following criteria:\n",
    "\n",
    "* the stock must be the primary share class for its company.\n",
    "* the company issuing the stock must have known market capitalization.\n",
    "* the stock must not be a depository receipt.\n",
    "* the stock must not be traded over the counter (OTC).\n",
    "* the stock must not be for a limited partnership.\n",
    "* the stock must have a known previous-day close price.\n",
    "* the stock must have had nonzero volume on the previous trading day"
   ]
  },
  {
   "cell_type": "code",
   "execution_count": 79,
   "metadata": {
    "collapsed": true
   },
   "outputs": [],
   "source": [
    "from quantopian.interactive.data.sentdex import sentiment \n",
    "from quantopian.pipeline.filters.morningstar import Q1500US\n",
    "from quantopian.pipeline import Pipeline \n",
    "from quantopian.research import run_pipeline\n",
    "import matplotlib.pyplot as plt \n",
    "import datetime \n",
    "import numpy as np\n",
    "import pandas as pd"
   ]
  },
  {
   "cell_type": "code",
   "execution_count": 80,
   "metadata": {
    "collapsed": true
   },
   "outputs": [],
   "source": [
    "def fill_missing_values(df_data):\n",
    "    \"\"\"Fill missing values in data frame, in place.\"\"\"\n",
    "    df_data.fillna(method='ffill',inplace=True)\n",
    "    df_data.fillna(method='backfill',inplace=True)\n",
    "    return df_data\n",
    "\n",
    "def compute_daily_returns(df):\n",
    "    \"\"\"Compute and return the daily return values.\"\"\"\n",
    "    # Note: Returned DataFrame must have the same number of rows\n",
    "    daily_returns = (df / df.shift(1)) - 1 \n",
    "    daily_returns.ix[0,:] = 0 \n",
    "    return daily_returns\n",
    "\n",
    "def cumulative_returns(df):\n",
    "    return df/df.ix[0,:] - 1 \n",
    "\n",
    "def sharpe_ratio(df,sample_freq='d',risk_free_rate=0.0):\n",
    "    \n",
    "    sr = (df - risk_free_rate).mean() / df.std()\n",
    "    \n",
    "    if sample_freq == 'd':\n",
    "        sr = sr * np.sqrt(252)\n",
    "    elif sample_freq == 'w':\n",
    "        sr = sr * np.sqrt(52)\n",
    "    elif sample_freq == 'm':\n",
    "        sr = sr * np.sqrt(12)\n",
    "    else:\n",
    "        raise Exception('unkown sample frequency :'+str(sample_freq))\n",
    "        \n",
    "    sr = sr.replace(np.inf, np.nan)\n",
    "        \n",
    "    return sr\n",
    "\n",
    "sharpe = (data[stock].returns() / np.std(data[stock].returns())) * np.sqrt(365.25)  "
   ]
  },
  {
   "cell_type": "markdown",
   "metadata": {},
   "source": [
    "# 3 MONTHS - Let's see the correlation cumulative return / sharpe ratio in the past 3 months "
   ]
  },
  {
   "cell_type": "code",
   "execution_count": 81,
   "metadata": {
    "collapsed": true
   },
   "outputs": [],
   "source": [
    "DELTA = 30*3"
   ]
  },
  {
   "cell_type": "code",
   "execution_count": 82,
   "metadata": {
    "collapsed": false
   },
   "outputs": [
    {
     "name": "stdout",
     "output_type": "stream",
     "text": [
      "('start_date', '01-15-2017')\n"
     ]
    }
   ],
   "source": [
    "start_date = (datetime.date.today() - datetime.timedelta(DELTA)).strftime(\"%m-%d-%Y\")\n",
    "print(\"start_date\",start_date)"
   ]
  },
  {
   "cell_type": "code",
   "execution_count": 83,
   "metadata": {
    "collapsed": false
   },
   "outputs": [
    {
     "name": "stdout",
     "output_type": "stream",
     "text": [
      "('end_date', '04-15-2017')\n"
     ]
    }
   ],
   "source": [
    "end_date = (datetime.date.today()).strftime(\"%m-%d-%Y\")\n",
    "print(\"end_date\",end_date)"
   ]
  },
  {
   "cell_type": "code",
   "execution_count": 84,
   "metadata": {
    "collapsed": false
   },
   "outputs": [
    {
     "data": {
      "text/html": [
       "<div>\n",
       "<table border=\"1\" class=\"dataframe\">\n",
       "  <thead>\n",
       "    <tr style=\"text-align: right;\">\n",
       "      <th></th>\n",
       "      <th></th>\n",
       "    </tr>\n",
       "  </thead>\n",
       "  <tbody>\n",
       "    <tr>\n",
       "      <th rowspan=\"5\" valign=\"top\">2017-01-17 00:00:00+00:00</th>\n",
       "      <th>Equity(24 [AAPL])</th>\n",
       "    </tr>\n",
       "    <tr>\n",
       "      <th>Equity(52 [ABM])</th>\n",
       "    </tr>\n",
       "    <tr>\n",
       "      <th>Equity(53 [ABMD])</th>\n",
       "    </tr>\n",
       "    <tr>\n",
       "      <th>Equity(62 [ABT])</th>\n",
       "    </tr>\n",
       "    <tr>\n",
       "      <th>Equity(67 [ADSK])</th>\n",
       "    </tr>\n",
       "  </tbody>\n",
       "</table>\n",
       "</div>"
      ],
      "text/plain": [
       "Empty DataFrame\n",
       "Columns: []\n",
       "Index: [(2017-01-17 00:00:00+00:00, Equity(24 [AAPL])), (2017-01-17 00:00:00+00:00, Equity(52 [ABM])), (2017-01-17 00:00:00+00:00, Equity(53 [ABMD])), (2017-01-17 00:00:00+00:00, Equity(62 [ABT])), (2017-01-17 00:00:00+00:00, Equity(67 [ADSK]))]"
      ]
     },
     "execution_count": 84,
     "metadata": {},
     "output_type": "execute_result"
    }
   ],
   "source": [
    "def make_pipeline():\n",
    "    universe = (Q1500US())\n",
    "    pipe = Pipeline( screen = universe)\n",
    "    return pipe\n",
    "\n",
    "result = run_pipeline(pipeline=make_pipeline(),start_date=start_date,end_date=end_date)\n",
    "result.head()"
   ]
  },
  {
   "cell_type": "code",
   "execution_count": 85,
   "metadata": {
    "collapsed": false
   },
   "outputs": [
    {
     "name": "stdout",
     "output_type": "stream",
     "text": [
      "('# assets:', 1553)\n"
     ]
    }
   ],
   "source": [
    "assets = result.index.levels[1].unique()\n",
    "print(\"# assets:\",len(assets))"
   ]
  },
  {
   "cell_type": "code",
   "execution_count": 86,
   "metadata": {
    "collapsed": false
   },
   "outputs": [],
   "source": [
    "pricing = fill_missing_values(get_pricing(assets,start_date=start_date,end_date=end_date,fields='close_price'))"
   ]
  },
  {
   "cell_type": "code",
   "execution_count": 87,
   "metadata": {
    "collapsed": false
   },
   "outputs": [
    {
     "data": {
      "text/html": [
       "<div>\n",
       "<table border=\"1\" class=\"dataframe\">\n",
       "  <thead>\n",
       "    <tr style=\"text-align: right;\">\n",
       "      <th></th>\n",
       "      <th>Equity(24 [AAPL])</th>\n",
       "      <th>Equity(52 [ABM])</th>\n",
       "      <th>Equity(53 [ABMD])</th>\n",
       "      <th>Equity(62 [ABT])</th>\n",
       "      <th>Equity(67 [ADSK])</th>\n",
       "      <th>Equity(76 [TAP])</th>\n",
       "      <th>Equity(114 [ADBE])</th>\n",
       "      <th>Equity(122 [ADI])</th>\n",
       "      <th>Equity(128 [ADM])</th>\n",
       "      <th>Equity(161 [AEP])</th>\n",
       "      <th>...</th>\n",
       "      <th>Equity(49760 [WBT])</th>\n",
       "      <th>Equity(49881 [LSXM_A])</th>\n",
       "      <th>Equity(49891 [MGP])</th>\n",
       "      <th>Equity(50138 [PI])</th>\n",
       "      <th>Equity(50181 [FHB])</th>\n",
       "      <th>Equity(50288 [TTD])</th>\n",
       "      <th>Equity(50357 [ARCH])</th>\n",
       "      <th>Equity(50533 [CNDT])</th>\n",
       "      <th>Equity(50535 [PK])</th>\n",
       "      <th>Equity(50595 [BIVV])</th>\n",
       "    </tr>\n",
       "  </thead>\n",
       "  <tbody>\n",
       "    <tr>\n",
       "      <th>2017-01-17 00:00:00+00:00</th>\n",
       "      <td>119.472</td>\n",
       "      <td>39.631</td>\n",
       "      <td>113.97</td>\n",
       "      <td>40.641</td>\n",
       "      <td>78.62</td>\n",
       "      <td>97.499</td>\n",
       "      <td>108.00</td>\n",
       "      <td>71.887</td>\n",
       "      <td>44.368</td>\n",
       "      <td>63.231</td>\n",
       "      <td>...</td>\n",
       "      <td>18.885</td>\n",
       "      <td>35.19</td>\n",
       "      <td>24.705</td>\n",
       "      <td>31.71</td>\n",
       "      <td>31.811</td>\n",
       "      <td>28.96</td>\n",
       "      <td>73.00</td>\n",
       "      <td>14.19</td>\n",
       "      <td>25.927</td>\n",
       "      <td>44.05</td>\n",
       "    </tr>\n",
       "    <tr>\n",
       "      <th>2017-01-18 00:00:00+00:00</th>\n",
       "      <td>119.472</td>\n",
       "      <td>39.661</td>\n",
       "      <td>113.23</td>\n",
       "      <td>40.482</td>\n",
       "      <td>79.72</td>\n",
       "      <td>97.788</td>\n",
       "      <td>108.79</td>\n",
       "      <td>72.613</td>\n",
       "      <td>44.622</td>\n",
       "      <td>62.884</td>\n",
       "      <td>...</td>\n",
       "      <td>18.970</td>\n",
       "      <td>35.70</td>\n",
       "      <td>24.636</td>\n",
       "      <td>30.65</td>\n",
       "      <td>32.020</td>\n",
       "      <td>29.03</td>\n",
       "      <td>73.05</td>\n",
       "      <td>14.52</td>\n",
       "      <td>25.750</td>\n",
       "      <td>44.05</td>\n",
       "    </tr>\n",
       "    <tr>\n",
       "      <th>2017-01-19 00:00:00+00:00</th>\n",
       "      <td>119.253</td>\n",
       "      <td>39.222</td>\n",
       "      <td>112.19</td>\n",
       "      <td>40.154</td>\n",
       "      <td>79.98</td>\n",
       "      <td>97.130</td>\n",
       "      <td>109.79</td>\n",
       "      <td>72.046</td>\n",
       "      <td>44.180</td>\n",
       "      <td>62.121</td>\n",
       "      <td>...</td>\n",
       "      <td>18.860</td>\n",
       "      <td>35.30</td>\n",
       "      <td>24.449</td>\n",
       "      <td>30.43</td>\n",
       "      <td>31.722</td>\n",
       "      <td>29.00</td>\n",
       "      <td>72.25</td>\n",
       "      <td>14.50</td>\n",
       "      <td>25.582</td>\n",
       "      <td>43.32</td>\n",
       "    </tr>\n",
       "    <tr>\n",
       "      <th>2017-01-20 00:00:00+00:00</th>\n",
       "      <td>119.482</td>\n",
       "      <td>39.501</td>\n",
       "      <td>111.73</td>\n",
       "      <td>40.204</td>\n",
       "      <td>81.67</td>\n",
       "      <td>97.220</td>\n",
       "      <td>110.73</td>\n",
       "      <td>72.484</td>\n",
       "      <td>44.408</td>\n",
       "      <td>62.319</td>\n",
       "      <td>...</td>\n",
       "      <td>18.850</td>\n",
       "      <td>35.55</td>\n",
       "      <td>24.594</td>\n",
       "      <td>31.12</td>\n",
       "      <td>32.396</td>\n",
       "      <td>29.27</td>\n",
       "      <td>73.45</td>\n",
       "      <td>14.44</td>\n",
       "      <td>25.602</td>\n",
       "      <td>42.83</td>\n",
       "    </tr>\n",
       "    <tr>\n",
       "      <th>2017-01-23 00:00:00+00:00</th>\n",
       "      <td>119.572</td>\n",
       "      <td>39.302</td>\n",
       "      <td>111.57</td>\n",
       "      <td>40.115</td>\n",
       "      <td>81.54</td>\n",
       "      <td>95.806</td>\n",
       "      <td>110.98</td>\n",
       "      <td>72.385</td>\n",
       "      <td>44.398</td>\n",
       "      <td>62.141</td>\n",
       "      <td>...</td>\n",
       "      <td>18.750</td>\n",
       "      <td>35.27</td>\n",
       "      <td>24.676</td>\n",
       "      <td>33.63</td>\n",
       "      <td>32.427</td>\n",
       "      <td>29.81</td>\n",
       "      <td>73.95</td>\n",
       "      <td>14.56</td>\n",
       "      <td>25.582</td>\n",
       "      <td>42.20</td>\n",
       "    </tr>\n",
       "  </tbody>\n",
       "</table>\n",
       "<p>5 rows × 1553 columns</p>\n",
       "</div>"
      ],
      "text/plain": [
       "                           Equity(24 [AAPL])  Equity(52 [ABM])  \\\n",
       "2017-01-17 00:00:00+00:00            119.472            39.631   \n",
       "2017-01-18 00:00:00+00:00            119.472            39.661   \n",
       "2017-01-19 00:00:00+00:00            119.253            39.222   \n",
       "2017-01-20 00:00:00+00:00            119.482            39.501   \n",
       "2017-01-23 00:00:00+00:00            119.572            39.302   \n",
       "\n",
       "                           Equity(53 [ABMD])  Equity(62 [ABT])  \\\n",
       "2017-01-17 00:00:00+00:00             113.97            40.641   \n",
       "2017-01-18 00:00:00+00:00             113.23            40.482   \n",
       "2017-01-19 00:00:00+00:00             112.19            40.154   \n",
       "2017-01-20 00:00:00+00:00             111.73            40.204   \n",
       "2017-01-23 00:00:00+00:00             111.57            40.115   \n",
       "\n",
       "                           Equity(67 [ADSK])  Equity(76 [TAP])  \\\n",
       "2017-01-17 00:00:00+00:00              78.62            97.499   \n",
       "2017-01-18 00:00:00+00:00              79.72            97.788   \n",
       "2017-01-19 00:00:00+00:00              79.98            97.130   \n",
       "2017-01-20 00:00:00+00:00              81.67            97.220   \n",
       "2017-01-23 00:00:00+00:00              81.54            95.806   \n",
       "\n",
       "                           Equity(114 [ADBE])  Equity(122 [ADI])  \\\n",
       "2017-01-17 00:00:00+00:00              108.00             71.887   \n",
       "2017-01-18 00:00:00+00:00              108.79             72.613   \n",
       "2017-01-19 00:00:00+00:00              109.79             72.046   \n",
       "2017-01-20 00:00:00+00:00              110.73             72.484   \n",
       "2017-01-23 00:00:00+00:00              110.98             72.385   \n",
       "\n",
       "                           Equity(128 [ADM])  Equity(161 [AEP])  \\\n",
       "2017-01-17 00:00:00+00:00             44.368             63.231   \n",
       "2017-01-18 00:00:00+00:00             44.622             62.884   \n",
       "2017-01-19 00:00:00+00:00             44.180             62.121   \n",
       "2017-01-20 00:00:00+00:00             44.408             62.319   \n",
       "2017-01-23 00:00:00+00:00             44.398             62.141   \n",
       "\n",
       "                                   ...           Equity(49760 [WBT])  \\\n",
       "2017-01-17 00:00:00+00:00          ...                        18.885   \n",
       "2017-01-18 00:00:00+00:00          ...                        18.970   \n",
       "2017-01-19 00:00:00+00:00          ...                        18.860   \n",
       "2017-01-20 00:00:00+00:00          ...                        18.850   \n",
       "2017-01-23 00:00:00+00:00          ...                        18.750   \n",
       "\n",
       "                           Equity(49881 [LSXM_A])  Equity(49891 [MGP])  \\\n",
       "2017-01-17 00:00:00+00:00                   35.19               24.705   \n",
       "2017-01-18 00:00:00+00:00                   35.70               24.636   \n",
       "2017-01-19 00:00:00+00:00                   35.30               24.449   \n",
       "2017-01-20 00:00:00+00:00                   35.55               24.594   \n",
       "2017-01-23 00:00:00+00:00                   35.27               24.676   \n",
       "\n",
       "                           Equity(50138 [PI])  Equity(50181 [FHB])  \\\n",
       "2017-01-17 00:00:00+00:00               31.71               31.811   \n",
       "2017-01-18 00:00:00+00:00               30.65               32.020   \n",
       "2017-01-19 00:00:00+00:00               30.43               31.722   \n",
       "2017-01-20 00:00:00+00:00               31.12               32.396   \n",
       "2017-01-23 00:00:00+00:00               33.63               32.427   \n",
       "\n",
       "                           Equity(50288 [TTD])  Equity(50357 [ARCH])  \\\n",
       "2017-01-17 00:00:00+00:00                28.96                 73.00   \n",
       "2017-01-18 00:00:00+00:00                29.03                 73.05   \n",
       "2017-01-19 00:00:00+00:00                29.00                 72.25   \n",
       "2017-01-20 00:00:00+00:00                29.27                 73.45   \n",
       "2017-01-23 00:00:00+00:00                29.81                 73.95   \n",
       "\n",
       "                           Equity(50533 [CNDT])  Equity(50535 [PK])  \\\n",
       "2017-01-17 00:00:00+00:00                 14.19              25.927   \n",
       "2017-01-18 00:00:00+00:00                 14.52              25.750   \n",
       "2017-01-19 00:00:00+00:00                 14.50              25.582   \n",
       "2017-01-20 00:00:00+00:00                 14.44              25.602   \n",
       "2017-01-23 00:00:00+00:00                 14.56              25.582   \n",
       "\n",
       "                           Equity(50595 [BIVV])  \n",
       "2017-01-17 00:00:00+00:00                 44.05  \n",
       "2017-01-18 00:00:00+00:00                 44.05  \n",
       "2017-01-19 00:00:00+00:00                 43.32  \n",
       "2017-01-20 00:00:00+00:00                 42.83  \n",
       "2017-01-23 00:00:00+00:00                 42.20  \n",
       "\n",
       "[5 rows x 1553 columns]"
      ]
     },
     "execution_count": 87,
     "metadata": {},
     "output_type": "execute_result"
    }
   ],
   "source": [
    "pricing.head()"
   ]
  },
  {
   "cell_type": "code",
   "execution_count": 88,
   "metadata": {
    "collapsed": false
   },
   "outputs": [
    {
     "data": {
      "text/plain": [
       "<class 'pandas.core.frame.DataFrame'>"
      ]
     },
     "execution_count": 88,
     "metadata": {},
     "output_type": "execute_result"
    }
   ],
   "source": [
    "type(pricing)"
   ]
  },
  {
   "cell_type": "code",
   "execution_count": 89,
   "metadata": {
    "collapsed": false
   },
   "outputs": [
    {
     "data": {
      "image/png": "[encoded data removed]",
      "text/plain": [
       "<matplotlib.figure.Figure at 0x7f84101f1c50>"
      ]
     },
     "metadata": {},
     "output_type": "display_data"
    }
   ],
   "source": [
    "pricing = pricing.sort_index()\n",
    "ax = pricing.ix[:,0:10].plot(title=\"Stock Data\")\n",
    "ax.set_xlabel(\"Date\")\n",
    "ax.set_ylabel(\"Price\")\n",
    "ax.legend_.remove()\n",
    "plt.show()"
   ]
  },
  {
   "cell_type": "markdown",
   "metadata": {},
   "source": [
    "## Cumulative returns"
   ]
  },
  {
   "cell_type": "code",
   "execution_count": 90,
   "metadata": {
    "collapsed": false
   },
   "outputs": [
    {
     "data": {
      "text/html": [
       "<div>\n",
       "<table border=\"1\" class=\"dataframe\">\n",
       "  <thead>\n",
       "    <tr style=\"text-align: right;\">\n",
       "      <th></th>\n",
       "      <th>Equity(24 [AAPL])</th>\n",
       "      <th>Equity(52 [ABM])</th>\n",
       "      <th>Equity(53 [ABMD])</th>\n",
       "      <th>Equity(62 [ABT])</th>\n",
       "      <th>Equity(67 [ADSK])</th>\n",
       "      <th>Equity(76 [TAP])</th>\n",
       "      <th>Equity(114 [ADBE])</th>\n",
       "      <th>Equity(122 [ADI])</th>\n",
       "      <th>Equity(128 [ADM])</th>\n",
       "      <th>Equity(161 [AEP])</th>\n",
       "      <th>...</th>\n",
       "      <th>Equity(49760 [WBT])</th>\n",
       "      <th>Equity(49881 [LSXM_A])</th>\n",
       "      <th>Equity(49891 [MGP])</th>\n",
       "      <th>Equity(50138 [PI])</th>\n",
       "      <th>Equity(50181 [FHB])</th>\n",
       "      <th>Equity(50288 [TTD])</th>\n",
       "      <th>Equity(50357 [ARCH])</th>\n",
       "      <th>Equity(50533 [CNDT])</th>\n",
       "      <th>Equity(50535 [PK])</th>\n",
       "      <th>Equity(50595 [BIVV])</th>\n",
       "    </tr>\n",
       "  </thead>\n",
       "  <tbody>\n",
       "    <tr>\n",
       "      <th>2017-01-17 00:00:00+00:00</th>\n",
       "      <td>0.000000</td>\n",
       "      <td>0.000000</td>\n",
       "      <td>0.000000</td>\n",
       "      <td>0.000000</td>\n",
       "      <td>0.000000</td>\n",
       "      <td>0.000000</td>\n",
       "      <td>0.000000</td>\n",
       "      <td>0.000000</td>\n",
       "      <td>0.000000</td>\n",
       "      <td>0.000000</td>\n",
       "      <td>...</td>\n",
       "      <td>0.000000</td>\n",
       "      <td>0.000000</td>\n",
       "      <td>0.000000</td>\n",
       "      <td>0.000000</td>\n",
       "      <td>0.000000</td>\n",
       "      <td>0.000000</td>\n",
       "      <td>0.000000</td>\n",
       "      <td>0.000000</td>\n",
       "      <td>0.000000</td>\n",
       "      <td>0.000000</td>\n",
       "    </tr>\n",
       "    <tr>\n",
       "      <th>2017-01-18 00:00:00+00:00</th>\n",
       "      <td>0.000000</td>\n",
       "      <td>0.000757</td>\n",
       "      <td>-0.006493</td>\n",
       "      <td>-0.003912</td>\n",
       "      <td>0.013991</td>\n",
       "      <td>0.002964</td>\n",
       "      <td>0.007315</td>\n",
       "      <td>0.010099</td>\n",
       "      <td>0.005725</td>\n",
       "      <td>-0.005488</td>\n",
       "      <td>...</td>\n",
       "      <td>0.004501</td>\n",
       "      <td>0.014493</td>\n",
       "      <td>-0.002793</td>\n",
       "      <td>-0.033428</td>\n",
       "      <td>0.006570</td>\n",
       "      <td>0.002417</td>\n",
       "      <td>0.000685</td>\n",
       "      <td>0.023256</td>\n",
       "      <td>-0.006827</td>\n",
       "      <td>0.000000</td>\n",
       "    </tr>\n",
       "    <tr>\n",
       "      <th>2017-01-19 00:00:00+00:00</th>\n",
       "      <td>-0.001833</td>\n",
       "      <td>-0.010320</td>\n",
       "      <td>-0.015618</td>\n",
       "      <td>-0.011983</td>\n",
       "      <td>0.017298</td>\n",
       "      <td>-0.003785</td>\n",
       "      <td>0.016574</td>\n",
       "      <td>0.002212</td>\n",
       "      <td>-0.004237</td>\n",
       "      <td>-0.017555</td>\n",
       "      <td>...</td>\n",
       "      <td>-0.001324</td>\n",
       "      <td>0.003126</td>\n",
       "      <td>-0.010362</td>\n",
       "      <td>-0.040366</td>\n",
       "      <td>-0.002798</td>\n",
       "      <td>0.001381</td>\n",
       "      <td>-0.010274</td>\n",
       "      <td>0.021846</td>\n",
       "      <td>-0.013307</td>\n",
       "      <td>-0.016572</td>\n",
       "    </tr>\n",
       "    <tr>\n",
       "      <th>2017-01-20 00:00:00+00:00</th>\n",
       "      <td>0.000084</td>\n",
       "      <td>-0.003280</td>\n",
       "      <td>-0.019654</td>\n",
       "      <td>-0.010753</td>\n",
       "      <td>0.038794</td>\n",
       "      <td>-0.002862</td>\n",
       "      <td>0.025278</td>\n",
       "      <td>0.008305</td>\n",
       "      <td>0.000902</td>\n",
       "      <td>-0.014423</td>\n",
       "      <td>...</td>\n",
       "      <td>-0.001853</td>\n",
       "      <td>0.010230</td>\n",
       "      <td>-0.004493</td>\n",
       "      <td>-0.018606</td>\n",
       "      <td>0.018390</td>\n",
       "      <td>0.010704</td>\n",
       "      <td>0.006164</td>\n",
       "      <td>0.017618</td>\n",
       "      <td>-0.012535</td>\n",
       "      <td>-0.027696</td>\n",
       "    </tr>\n",
       "    <tr>\n",
       "      <th>2017-01-23 00:00:00+00:00</th>\n",
       "      <td>0.000837</td>\n",
       "      <td>-0.008302</td>\n",
       "      <td>-0.021058</td>\n",
       "      <td>-0.012943</td>\n",
       "      <td>0.037141</td>\n",
       "      <td>-0.017364</td>\n",
       "      <td>0.027593</td>\n",
       "      <td>0.006928</td>\n",
       "      <td>0.000676</td>\n",
       "      <td>-0.017238</td>\n",
       "      <td>...</td>\n",
       "      <td>-0.007149</td>\n",
       "      <td>0.002273</td>\n",
       "      <td>-0.001174</td>\n",
       "      <td>0.060549</td>\n",
       "      <td>0.019364</td>\n",
       "      <td>0.029351</td>\n",
       "      <td>0.013014</td>\n",
       "      <td>0.026075</td>\n",
       "      <td>-0.013307</td>\n",
       "      <td>-0.041998</td>\n",
       "    </tr>\n",
       "  </tbody>\n",
       "</table>\n",
       "<p>5 rows × 1553 columns</p>\n",
       "</div>"
      ],
      "text/plain": [
       "                           Equity(24 [AAPL])  Equity(52 [ABM])  \\\n",
       "2017-01-17 00:00:00+00:00           0.000000          0.000000   \n",
       "2017-01-18 00:00:00+00:00           0.000000          0.000757   \n",
       "2017-01-19 00:00:00+00:00          -0.001833         -0.010320   \n",
       "2017-01-20 00:00:00+00:00           0.000084         -0.003280   \n",
       "2017-01-23 00:00:00+00:00           0.000837         -0.008302   \n",
       "\n",
       "                           Equity(53 [ABMD])  Equity(62 [ABT])  \\\n",
       "2017-01-17 00:00:00+00:00           0.000000          0.000000   \n",
       "2017-01-18 00:00:00+00:00          -0.006493         -0.003912   \n",
       "2017-01-19 00:00:00+00:00          -0.015618         -0.011983   \n",
       "2017-01-20 00:00:00+00:00          -0.019654         -0.010753   \n",
       "2017-01-23 00:00:00+00:00          -0.021058         -0.012943   \n",
       "\n",
       "                           Equity(67 [ADSK])  Equity(76 [TAP])  \\\n",
       "2017-01-17 00:00:00+00:00           0.000000          0.000000   \n",
       "2017-01-18 00:00:00+00:00           0.013991          0.002964   \n",
       "2017-01-19 00:00:00+00:00           0.017298         -0.003785   \n",
       "2017-01-20 00:00:00+00:00           0.038794         -0.002862   \n",
       "2017-01-23 00:00:00+00:00           0.037141         -0.017364   \n",
       "\n",
       "                           Equity(114 [ADBE])  Equity(122 [ADI])  \\\n",
       "2017-01-17 00:00:00+00:00            0.000000           0.000000   \n",
       "2017-01-18 00:00:00+00:00            0.007315           0.010099   \n",
       "2017-01-19 00:00:00+00:00            0.016574           0.002212   \n",
       "2017-01-20 00:00:00+00:00            0.025278           0.008305   \n",
       "2017-01-23 00:00:00+00:00            0.027593           0.006928   \n",
       "\n",
       "                           Equity(128 [ADM])  Equity(161 [AEP])  \\\n",
       "2017-01-17 00:00:00+00:00           0.000000           0.000000   \n",
       "2017-01-18 00:00:00+00:00           0.005725          -0.005488   \n",
       "2017-01-19 00:00:00+00:00          -0.004237          -0.017555   \n",
       "2017-01-20 00:00:00+00:00           0.000902          -0.014423   \n",
       "2017-01-23 00:00:00+00:00           0.000676          -0.017238   \n",
       "\n",
       "                                   ...           Equity(49760 [WBT])  \\\n",
       "2017-01-17 00:00:00+00:00          ...                      0.000000   \n",
       "2017-01-18 00:00:00+00:00          ...                      0.004501   \n",
       "2017-01-19 00:00:00+00:00          ...                     -0.001324   \n",
       "2017-01-20 00:00:00+00:00          ...                     -0.001853   \n",
       "2017-01-23 00:00:00+00:00          ...                     -0.007149   \n",
       "\n",
       "                           Equity(49881 [LSXM_A])  Equity(49891 [MGP])  \\\n",
       "2017-01-17 00:00:00+00:00                0.000000             0.000000   \n",
       "2017-01-18 00:00:00+00:00                0.014493            -0.002793   \n",
       "2017-01-19 00:00:00+00:00                0.003126            -0.010362   \n",
       "2017-01-20 00:00:00+00:00                0.010230            -0.004493   \n",
       "2017-01-23 00:00:00+00:00                0.002273            -0.001174   \n",
       "\n",
       "                           Equity(50138 [PI])  Equity(50181 [FHB])  \\\n",
       "2017-01-17 00:00:00+00:00            0.000000             0.000000   \n",
       "2017-01-18 00:00:00+00:00           -0.033428             0.006570   \n",
       "2017-01-19 00:00:00+00:00           -0.040366            -0.002798   \n",
       "2017-01-20 00:00:00+00:00           -0.018606             0.018390   \n",
       "2017-01-23 00:00:00+00:00            0.060549             0.019364   \n",
       "\n",
       "                           Equity(50288 [TTD])  Equity(50357 [ARCH])  \\\n",
       "2017-01-17 00:00:00+00:00             0.000000              0.000000   \n",
       "2017-01-18 00:00:00+00:00             0.002417              0.000685   \n",
       "2017-01-19 00:00:00+00:00             0.001381             -0.010274   \n",
       "2017-01-20 00:00:00+00:00             0.010704              0.006164   \n",
       "2017-01-23 00:00:00+00:00             0.029351              0.013014   \n",
       "\n",
       "                           Equity(50533 [CNDT])  Equity(50535 [PK])  \\\n",
       "2017-01-17 00:00:00+00:00              0.000000            0.000000   \n",
       "2017-01-18 00:00:00+00:00              0.023256           -0.006827   \n",
       "2017-01-19 00:00:00+00:00              0.021846           -0.013307   \n",
       "2017-01-20 00:00:00+00:00              0.017618           -0.012535   \n",
       "2017-01-23 00:00:00+00:00              0.026075           -0.013307   \n",
       "\n",
       "                           Equity(50595 [BIVV])  \n",
       "2017-01-17 00:00:00+00:00              0.000000  \n",
       "2017-01-18 00:00:00+00:00              0.000000  \n",
       "2017-01-19 00:00:00+00:00             -0.016572  \n",
       "2017-01-20 00:00:00+00:00             -0.027696  \n",
       "2017-01-23 00:00:00+00:00             -0.041998  \n",
       "\n",
       "[5 rows x 1553 columns]"
      ]
     },
     "execution_count": 90,
     "metadata": {},
     "output_type": "execute_result"
    }
   ],
   "source": [
    "cr = cumulative_returns(pricing)\n",
    "cr = cr.sort_index()\n",
    "cr.head()"
   ]
  },
  {
   "cell_type": "code",
   "execution_count": 91,
   "metadata": {
    "collapsed": false
   },
   "outputs": [
    {
     "data": {
      "text/plain": [
       "2017-01-17 00:00:00+00:00    0.000000\n",
       "2017-01-18 00:00:00+00:00    0.325215\n",
       "2017-01-19 00:00:00+00:00    0.326648\n",
       "2017-01-20 00:00:00+00:00    0.325215\n",
       "2017-01-23 00:00:00+00:00    0.323782\n",
       "Freq: C, dtype: float64"
      ]
     },
     "execution_count": 91,
     "metadata": {},
     "output_type": "execute_result"
    }
   ],
   "source": [
    "cr.max(axis=1).head()"
   ]
  },
  {
   "cell_type": "code",
   "execution_count": 92,
   "metadata": {
    "collapsed": false
   },
   "outputs": [
    {
     "data": {
      "text/plain": [
       "2017-01-17 00:00:00+00:00       Equity(24 [AAPL])\n",
       "2017-01-18 00:00:00+00:00    Equity(49001 [CLCD])\n",
       "2017-01-19 00:00:00+00:00    Equity(49001 [CLCD])\n",
       "2017-01-20 00:00:00+00:00    Equity(49001 [CLCD])\n",
       "2017-01-23 00:00:00+00:00    Equity(49001 [CLCD])\n",
       "Freq: C, dtype: object"
      ]
     },
     "execution_count": 92,
     "metadata": {},
     "output_type": "execute_result"
    }
   ],
   "source": [
    "cr.idxmax(axis=1).head()"
   ]
  },
  {
   "cell_type": "markdown",
   "metadata": {},
   "source": [
    "Focusing on the last day only, we want to know the ranking. "
   ]
  },
  {
   "cell_type": "code",
   "execution_count": 93,
   "metadata": {
    "collapsed": false
   },
   "outputs": [
    {
     "data": {
      "text/plain": [
       "Equity(44989 [ESPR])    2.487936\n",
       "Equity(6104 [FIZZ])     0.844430\n",
       "Equity(47169 [KITE])    0.733038\n",
       "Equity(38633 [ASPS])    0.613662\n",
       "Equity(43599 [RH])      0.567333\n",
       "Name: 2017-04-13 00:00:00+00:00, dtype: float64"
      ]
     },
     "execution_count": 93,
     "metadata": {},
     "output_type": "execute_result"
    }
   ],
   "source": [
    "cr.ix[ (cr.shape[0]-1) ,:].sort_values(ascending=False).head()"
   ]
  },
  {
   "cell_type": "code",
   "execution_count": 94,
   "metadata": {
    "collapsed": false
   },
   "outputs": [
    {
     "data": {
      "text/plain": [
       "Equity(7203 [TLRD])    -0.424691\n",
       "Equity(2069 [FTR])     -0.430417\n",
       "Equity(26865 [BBG])    -0.444828\n",
       "Equity(6330 [RAD])     -0.477509\n",
       "Equity(47848 [FMSA])   -0.482043\n",
       "Name: 2017-04-13 00:00:00+00:00, dtype: float64"
      ]
     },
     "execution_count": 94,
     "metadata": {},
     "output_type": "execute_result"
    }
   ],
   "source": [
    "cr.ix[ (cr.shape[0]-1) ,:].sort_values(ascending=False).tail()"
   ]
  },
  {
   "cell_type": "markdown",
   "metadata": {},
   "source": [
    "__Best performance__"
   ]
  },
  {
   "cell_type": "code",
   "execution_count": 95,
   "metadata": {
    "collapsed": false
   },
   "outputs": [
    {
     "data": {
      "text/plain": [
       "Equity(44989, symbol=u'ESPR', asset_name=u'ESPERION THERAPEUTICS INC', exchange=u'NASDAQ', start_date=Timestamp('2013-06-25 00:00:00+0000', tz='UTC'), end_date=Timestamp('2017-04-17 00:00:00+0000', tz='UTC'), first_traded=None, auto_close_date=Timestamp('2017-04-20 00:00:00+0000', tz='UTC'), exchange_full=u'NASDAQ GLOBAL MARKET')"
      ]
     },
     "execution_count": 95,
     "metadata": {},
     "output_type": "execute_result"
    }
   ],
   "source": [
    "cr.idxmax(axis=1)[cr.idxmax(axis=1).shape[0]-1]"
   ]
  },
  {
   "cell_type": "code",
   "execution_count": 96,
   "metadata": {
    "collapsed": false
   },
   "outputs": [
    {
     "data": {
      "text/plain": [
       "<matplotlib.axes._subplots.AxesSubplot at 0x7f83fe0d2250>"
      ]
     },
     "execution_count": 96,
     "metadata": {},
     "output_type": "execute_result"
    },
    {
     "data": {
      "image/png": "[encoded data removed]",
      "text/plain": [
       "<matplotlib.figure.Figure at 0x7f84108308d0>"
      ]
     },
     "metadata": {},
     "output_type": "display_data"
    }
   ],
   "source": [
    "pricing[cr.idxmax(axis=1)[cr.idxmax(axis=1).shape[0]-1]].plot()"
   ]
  },
  {
   "cell_type": "code",
   "execution_count": 97,
   "metadata": {
    "collapsed": false,
    "scrolled": false
   },
   "outputs": [
    {
     "data": {
      "image/png": "[encoded data removed]",
      "text/plain": [
       "<matplotlib.figure.Figure at 0x7f8403dff450>"
      ]
     },
     "metadata": {},
     "output_type": "display_data"
    }
   ],
   "source": [
    "ax = cr[pd.concat([cr.idxmax(axis=1),cr.idxmin(axis=1)])].plot(title=\"Cumulative returns\")\n",
    "ax.set_xlabel(\"Date\")\n",
    "ax.set_ylabel(\"Cumulative return\")\n",
    "ax.legend_.remove()\n",
    "plt.show()"
   ]
  },
  {
   "cell_type": "markdown",
   "metadata": {},
   "source": [
    "## Sharpe Ratio"
   ]
  },
  {
   "cell_type": "code",
   "execution_count": 112,
   "metadata": {
    "collapsed": false
   },
   "outputs": [
    {
     "data": {
      "text/plain": [
       "Equity(24 [AAPL])    4.376189\n",
       "Equity(52 [ABM])     1.275075\n",
       "Equity(53 [ABMD])    1.548339\n",
       "Equity(62 [ABT])     1.722573\n",
       "Equity(67 [ADSK])    1.560735\n",
       "dtype: float64"
      ]
     },
     "execution_count": 112,
     "metadata": {},
     "output_type": "execute_result"
    }
   ],
   "source": [
    "sr = sharpe_ratio(compute_daily_returns((pricing)))\n",
    "sr.fillna(0)\n",
    "sr.head()"
   ]
  },
  {
   "cell_type": "code",
   "execution_count": 113,
   "metadata": {
    "collapsed": false
   },
   "outputs": [
    {
     "data": {
      "text/plain": [
       "Equity(6104 [FIZZ])    8.586846\n",
       "Equity(35902 [PM])     7.342872\n",
       "Equity(20277 [RAI])    6.694833\n",
       "Equity(24608 [ENH])    6.004166\n",
       "Equity(114 [ADBE])     5.904732\n",
       "dtype: float64"
      ]
     },
     "execution_count": 113,
     "metadata": {},
     "output_type": "execute_result"
    }
   ],
   "source": [
    "sr = sr.sort_values(ascending=False)\n",
    "sr.head()"
   ]
  },
  {
   "cell_type": "code",
   "execution_count": 114,
   "metadata": {
    "collapsed": false
   },
   "outputs": [
    {
     "data": {
      "text/plain": [
       "<matplotlib.axes._subplots.AxesSubplot at 0x7f83a2d5bad0>"
      ]
     },
     "execution_count": 114,
     "metadata": {},
     "output_type": "execute_result"
    },
    {
     "data": {
      "image/png": "[encoded data removed]",
      "text/plain": [
       "<matplotlib.figure.Figure at 0x7f83fe3a9950>"
      ]
     },
     "metadata": {},
     "output_type": "display_data"
    }
   ],
   "source": [
    "pd.concat([sr.head(3),sr.tail(1)]).plot()"
   ]
  },
  {
   "cell_type": "code",
   "execution_count": 115,
   "metadata": {
    "collapsed": false
   },
   "outputs": [
    {
     "data": {
      "text/plain": [
       "<matplotlib.axes._subplots.AxesSubplot at 0x7f8408e0c610>"
      ]
     },
     "execution_count": 115,
     "metadata": {},
     "output_type": "execute_result"
    },
    {
     "data": {
      "image/png": "[encoded data removed]",
      "text/plain": [
       "<matplotlib.figure.Figure at 0x7f83fdcf0890>"
      ]
     },
     "metadata": {},
     "output_type": "display_data"
    }
   ],
   "source": [
    "pricing[sr.index[0]].plot()"
   ]
  },
  {
   "cell_type": "code",
   "execution_count": 116,
   "metadata": {
    "collapsed": false
   },
   "outputs": [
    {
     "data": {
      "text/plain": [
       "<matplotlib.axes._subplots.AxesSubplot at 0x7f83fda3c990>"
      ]
     },
     "execution_count": 116,
     "metadata": {},
     "output_type": "execute_result"
    },
    {
     "data": {
      "image/png": "[encoded data removed]",
      "text/plain": [
       "<matplotlib.figure.Figure at 0x7f83fda08b90>"
      ]
     },
     "metadata": {},
     "output_type": "display_data"
    }
   ],
   "source": [
    "pricing[sr.index[1]].plot()"
   ]
  },
  {
   "cell_type": "code",
   "execution_count": 117,
   "metadata": {
    "collapsed": false
   },
   "outputs": [
    {
     "data": {
      "text/plain": [
       "<matplotlib.axes._subplots.AxesSubplot at 0x7f83a3dfc710>"
      ]
     },
     "execution_count": 117,
     "metadata": {},
     "output_type": "execute_result"
    },
    {
     "data": {
      "image/png": "[encoded data removed]",
      "text/plain": [
       "<matplotlib.figure.Figure at 0x7f83fda30650>"
      ]
     },
     "metadata": {},
     "output_type": "display_data"
    }
   ],
   "source": [
    "pricing[sr.index[2]].plot()"
   ]
  },
  {
   "cell_type": "markdown",
   "metadata": {},
   "source": [
    "## Scatterplot Cumulative Return / Sharpe Ratio "
   ]
  },
  {
   "cell_type": "code",
   "execution_count": 118,
   "metadata": {
    "collapsed": false
   },
   "outputs": [
    {
     "data": {
      "text/html": [
       "<div>\n",
       "<table border=\"1\" class=\"dataframe\">\n",
       "  <thead>\n",
       "    <tr style=\"text-align: right;\">\n",
       "      <th></th>\n",
       "      <th>sharpe_ratio</th>\n",
       "      <th>cumulative_return</th>\n",
       "    </tr>\n",
       "  </thead>\n",
       "  <tbody>\n",
       "    <tr>\n",
       "      <th>Equity(24 [AAPL])</th>\n",
       "      <td>4.376189</td>\n",
       "      <td>0.204372</td>\n",
       "    </tr>\n",
       "    <tr>\n",
       "      <th>Equity(52 [ABM])</th>\n",
       "      <td>1.275075</td>\n",
       "      <td>0.054295</td>\n",
       "    </tr>\n",
       "    <tr>\n",
       "      <th>Equity(53 [ABMD])</th>\n",
       "      <td>1.548339</td>\n",
       "      <td>0.091290</td>\n",
       "    </tr>\n",
       "    <tr>\n",
       "      <th>Equity(62 [ABT])</th>\n",
       "      <td>1.722573</td>\n",
       "      <td>0.048908</td>\n",
       "    </tr>\n",
       "    <tr>\n",
       "      <th>Equity(67 [ADSK])</th>\n",
       "      <td>1.560735</td>\n",
       "      <td>0.052242</td>\n",
       "    </tr>\n",
       "  </tbody>\n",
       "</table>\n",
       "</div>"
      ],
      "text/plain": [
       "                   sharpe_ratio  cumulative_return\n",
       "Equity(24 [AAPL])      4.376189           0.204372\n",
       "Equity(52 [ABM])       1.275075           0.054295\n",
       "Equity(53 [ABMD])      1.548339           0.091290\n",
       "Equity(62 [ABT])       1.722573           0.048908\n",
       "Equity(67 [ADSK])      1.560735           0.052242"
      ]
     },
     "execution_count": 118,
     "metadata": {},
     "output_type": "execute_result"
    }
   ],
   "source": [
    "merge = pd.concat([sr,cr_last] , axis=1)\n",
    "merge.columns = ['sharpe_ratio', 'cumulative_return']\n",
    "merge.head()"
   ]
  },
  {
   "cell_type": "code",
   "execution_count": 119,
   "metadata": {
    "collapsed": false
   },
   "outputs": [
    {
     "data": {
      "text/plain": [
       "<matplotlib.axes._subplots.AxesSubplot at 0x7f8410509950>"
      ]
     },
     "execution_count": 119,
     "metadata": {},
     "output_type": "execute_result"
    },
    {
     "data": {
      "image/png": "[encoded data removed]",
      "text/plain": [
       "<matplotlib.figure.Figure at 0x7f83a36a0b50>"
      ]
     },
     "metadata": {},
     "output_type": "display_data"
    }
   ],
   "source": [
    "merge.plot(kind='scatter' , x='sharpe_ratio', y='cumulative_return' ,  s=50)"
   ]
  },
  {
   "cell_type": "markdown",
   "metadata": {},
   "source": [
    "It can be observed a clear __correlation__ between sharpe_ratio and cumulative_return. "
   ]
  },
  {
   "cell_type": "code",
   "execution_count": 136,
   "metadata": {
    "collapsed": false
   },
   "outputs": [
    {
     "data": {
      "text/plain": [
       "0.80858462377989448"
      ]
     },
     "execution_count": 136,
     "metadata": {},
     "output_type": "execute_result"
    }
   ],
   "source": [
    "merge['sharpe_ratio'].corr(merge['cumulative_return'])"
   ]
  },
  {
   "cell_type": "markdown",
   "metadata": {},
   "source": [
    "### Sort by Sharpe Ratio"
   ]
  },
  {
   "cell_type": "code",
   "execution_count": 120,
   "metadata": {
    "collapsed": false
   },
   "outputs": [
    {
     "data": {
      "text/html": [
       "<div>\n",
       "<table border=\"1\" class=\"dataframe\">\n",
       "  <thead>\n",
       "    <tr style=\"text-align: right;\">\n",
       "      <th></th>\n",
       "      <th>sharpe_ratio</th>\n",
       "      <th>cumulative_return</th>\n",
       "    </tr>\n",
       "  </thead>\n",
       "  <tbody>\n",
       "    <tr>\n",
       "      <th>Equity(6104 [FIZZ])</th>\n",
       "      <td>8.586846</td>\n",
       "      <td>0.811092</td>\n",
       "    </tr>\n",
       "    <tr>\n",
       "      <th>Equity(35902 [PM])</th>\n",
       "      <td>7.342872</td>\n",
       "      <td>0.263655</td>\n",
       "    </tr>\n",
       "    <tr>\n",
       "      <th>Equity(20277 [RAI])</th>\n",
       "      <td>6.694833</td>\n",
       "      <td>0.111940</td>\n",
       "    </tr>\n",
       "    <tr>\n",
       "      <th>Equity(24608 [ENH])</th>\n",
       "      <td>6.004166</td>\n",
       "      <td>0.007345</td>\n",
       "    </tr>\n",
       "    <tr>\n",
       "      <th>Equity(114 [ADBE])</th>\n",
       "      <td>5.904732</td>\n",
       "      <td>0.202616</td>\n",
       "    </tr>\n",
       "    <tr>\n",
       "      <th>Equity(35081 [CIM])</th>\n",
       "      <td>5.721086</td>\n",
       "      <td>0.199110</td>\n",
       "    </tr>\n",
       "    <tr>\n",
       "      <th>Equity(34501 [MASI])</th>\n",
       "      <td>5.571165</td>\n",
       "      <td>0.299847</td>\n",
       "    </tr>\n",
       "    <tr>\n",
       "      <th>Equity(24760 [AMT])</th>\n",
       "      <td>5.428684</td>\n",
       "      <td>0.191123</td>\n",
       "    </tr>\n",
       "    <tr>\n",
       "      <th>Equity(734 [BAX])</th>\n",
       "      <td>5.188236</td>\n",
       "      <td>0.158187</td>\n",
       "    </tr>\n",
       "    <tr>\n",
       "      <th>Equity(4246 [KLAC])</th>\n",
       "      <td>5.162989</td>\n",
       "      <td>0.174434</td>\n",
       "    </tr>\n",
       "    <tr>\n",
       "      <th>Equity(8414 [HRG])</th>\n",
       "      <td>5.033522</td>\n",
       "      <td>0.246017</td>\n",
       "    </tr>\n",
       "    <tr>\n",
       "      <th>Equity(17702 [NLY])</th>\n",
       "      <td>5.029763</td>\n",
       "      <td>0.167898</td>\n",
       "    </tr>\n",
       "    <tr>\n",
       "      <th>Equity(49060 [SHOP])</th>\n",
       "      <td>4.981554</td>\n",
       "      <td>0.419824</td>\n",
       "    </tr>\n",
       "    <tr>\n",
       "      <th>Equity(40030 [RP])</th>\n",
       "      <td>4.969338</td>\n",
       "      <td>0.248276</td>\n",
       "    </tr>\n",
       "    <tr>\n",
       "      <th>Equity(5885 [PEP])</th>\n",
       "      <td>4.942823</td>\n",
       "      <td>0.128202</td>\n",
       "    </tr>\n",
       "    <tr>\n",
       "      <th>Equity(5969 [PHM])</th>\n",
       "      <td>4.908276</td>\n",
       "      <td>0.248227</td>\n",
       "    </tr>\n",
       "    <tr>\n",
       "      <th>Equity(46205 [SFR])</th>\n",
       "      <td>4.867475</td>\n",
       "      <td>0.185936</td>\n",
       "    </tr>\n",
       "    <tr>\n",
       "      <th>Equity(38887 [TWO])</th>\n",
       "      <td>4.846002</td>\n",
       "      <td>0.135544</td>\n",
       "    </tr>\n",
       "    <tr>\n",
       "      <th>Equity(22139 [MCO])</th>\n",
       "      <td>4.734388</td>\n",
       "      <td>0.164713</td>\n",
       "    </tr>\n",
       "    <tr>\n",
       "      <th>Equity(8831 [JBL])</th>\n",
       "      <td>4.646864</td>\n",
       "      <td>0.226103</td>\n",
       "    </tr>\n",
       "  </tbody>\n",
       "</table>\n",
       "</div>"
      ],
      "text/plain": [
       "                      sharpe_ratio  cumulative_return\n",
       "Equity(6104 [FIZZ])       8.586846           0.811092\n",
       "Equity(35902 [PM])        7.342872           0.263655\n",
       "Equity(20277 [RAI])       6.694833           0.111940\n",
       "Equity(24608 [ENH])       6.004166           0.007345\n",
       "Equity(114 [ADBE])        5.904732           0.202616\n",
       "Equity(35081 [CIM])       5.721086           0.199110\n",
       "Equity(34501 [MASI])      5.571165           0.299847\n",
       "Equity(24760 [AMT])       5.428684           0.191123\n",
       "Equity(734 [BAX])         5.188236           0.158187\n",
       "Equity(4246 [KLAC])       5.162989           0.174434\n",
       "Equity(8414 [HRG])        5.033522           0.246017\n",
       "Equity(17702 [NLY])       5.029763           0.167898\n",
       "Equity(49060 [SHOP])      4.981554           0.419824\n",
       "Equity(40030 [RP])        4.969338           0.248276\n",
       "Equity(5885 [PEP])        4.942823           0.128202\n",
       "Equity(5969 [PHM])        4.908276           0.248227\n",
       "Equity(46205 [SFR])       4.867475           0.185936\n",
       "Equity(38887 [TWO])       4.846002           0.135544\n",
       "Equity(22139 [MCO])       4.734388           0.164713\n",
       "Equity(8831 [JBL])        4.646864           0.226103"
      ]
     },
     "execution_count": 120,
     "metadata": {},
     "output_type": "execute_result"
    }
   ],
   "source": [
    "merge.sort_values(by='sharpe_ratio',ascending=False).head(20)"
   ]
  },
  {
   "cell_type": "code",
   "execution_count": 124,
   "metadata": {
    "collapsed": false
   },
   "outputs": [
    {
     "data": {
      "text/plain": [
       "(0.5745739122853247, 1.8817158373461107)"
      ]
     },
     "execution_count": 124,
     "metadata": {},
     "output_type": "execute_result"
    }
   ],
   "source": [
    "sr.mean() , sr.std()"
   ]
  },
  {
   "cell_type": "markdown",
   "metadata": {},
   "source": [
    "### Sort by Cumulative Return "
   ]
  },
  {
   "cell_type": "code",
   "execution_count": 121,
   "metadata": {
    "collapsed": false
   },
   "outputs": [
    {
     "data": {
      "text/html": [
       "<div>\n",
       "<table border=\"1\" class=\"dataframe\">\n",
       "  <thead>\n",
       "    <tr style=\"text-align: right;\">\n",
       "      <th></th>\n",
       "      <th>sharpe_ratio</th>\n",
       "      <th>cumulative_return</th>\n",
       "    </tr>\n",
       "  </thead>\n",
       "  <tbody>\n",
       "    <tr>\n",
       "      <th>Equity(44989 [ESPR])</th>\n",
       "      <td>3.513027</td>\n",
       "      <td>2.192599</td>\n",
       "    </tr>\n",
       "    <tr>\n",
       "      <th>Equity(6104 [FIZZ])</th>\n",
       "      <td>8.586846</td>\n",
       "      <td>0.811092</td>\n",
       "    </tr>\n",
       "    <tr>\n",
       "      <th>Equity(45503 [AAOI])</th>\n",
       "      <td>2.403329</td>\n",
       "      <td>0.725511</td>\n",
       "    </tr>\n",
       "    <tr>\n",
       "      <th>Equity(47169 [KITE])</th>\n",
       "      <td>3.575196</td>\n",
       "      <td>0.613562</td>\n",
       "    </tr>\n",
       "    <tr>\n",
       "      <th>Equity(38633 [ASPS])</th>\n",
       "      <td>3.083891</td>\n",
       "      <td>0.606083</td>\n",
       "    </tr>\n",
       "    <tr>\n",
       "      <th>Equity(43599 [RH])</th>\n",
       "      <td>2.887282</td>\n",
       "      <td>0.603625</td>\n",
       "    </tr>\n",
       "    <tr>\n",
       "      <th>Equity(46283 [CARA])</th>\n",
       "      <td>2.794022</td>\n",
       "      <td>0.583916</td>\n",
       "    </tr>\n",
       "    <tr>\n",
       "      <th>Equity(26169 [SHLD])</th>\n",
       "      <td>1.966954</td>\n",
       "      <td>0.545349</td>\n",
       "    </tr>\n",
       "    <tr>\n",
       "      <th>Equity(27887 [CYNO])</th>\n",
       "      <td>2.778628</td>\n",
       "      <td>0.498297</td>\n",
       "    </tr>\n",
       "    <tr>\n",
       "      <th>Equity(46002 [NMBL])</th>\n",
       "      <td>2.045026</td>\n",
       "      <td>0.483373</td>\n",
       "    </tr>\n",
       "    <tr>\n",
       "      <th>Equity(270 [AKRX])</th>\n",
       "      <td>3.286174</td>\n",
       "      <td>0.481798</td>\n",
       "    </tr>\n",
       "    <tr>\n",
       "      <th>Equity(20133 [PNRA])</th>\n",
       "      <td>4.421498</td>\n",
       "      <td>0.475911</td>\n",
       "    </tr>\n",
       "    <tr>\n",
       "      <th>Equity(44770 [PTLA])</th>\n",
       "      <td>4.382962</td>\n",
       "      <td>0.472444</td>\n",
       "    </tr>\n",
       "    <tr>\n",
       "      <th>Equity(45800 [WIX])</th>\n",
       "      <td>3.635561</td>\n",
       "      <td>0.460930</td>\n",
       "    </tr>\n",
       "    <tr>\n",
       "      <th>Equity(47430 [MBLY])</th>\n",
       "      <td>2.875037</td>\n",
       "      <td>0.445199</td>\n",
       "    </tr>\n",
       "    <tr>\n",
       "      <th>Equity(3891 [IMMU])</th>\n",
       "      <td>2.608677</td>\n",
       "      <td>0.444444</td>\n",
       "    </tr>\n",
       "    <tr>\n",
       "      <th>Equity(49210 [CC])</th>\n",
       "      <td>3.348893</td>\n",
       "      <td>0.437306</td>\n",
       "    </tr>\n",
       "    <tr>\n",
       "      <th>Equity(24572 [NKTR])</th>\n",
       "      <td>2.113860</td>\n",
       "      <td>0.421753</td>\n",
       "    </tr>\n",
       "    <tr>\n",
       "      <th>Equity(49060 [SHOP])</th>\n",
       "      <td>4.981554</td>\n",
       "      <td>0.419824</td>\n",
       "    </tr>\n",
       "    <tr>\n",
       "      <th>Equity(21906 [MDCO])</th>\n",
       "      <td>2.880249</td>\n",
       "      <td>0.416601</td>\n",
       "    </tr>\n",
       "  </tbody>\n",
       "</table>\n",
       "</div>"
      ],
      "text/plain": [
       "                      sharpe_ratio  cumulative_return\n",
       "Equity(44989 [ESPR])      3.513027           2.192599\n",
       "Equity(6104 [FIZZ])       8.586846           0.811092\n",
       "Equity(45503 [AAOI])      2.403329           0.725511\n",
       "Equity(47169 [KITE])      3.575196           0.613562\n",
       "Equity(38633 [ASPS])      3.083891           0.606083\n",
       "Equity(43599 [RH])        2.887282           0.603625\n",
       "Equity(46283 [CARA])      2.794022           0.583916\n",
       "Equity(26169 [SHLD])      1.966954           0.545349\n",
       "Equity(27887 [CYNO])      2.778628           0.498297\n",
       "Equity(46002 [NMBL])      2.045026           0.483373\n",
       "Equity(270 [AKRX])        3.286174           0.481798\n",
       "Equity(20133 [PNRA])      4.421498           0.475911\n",
       "Equity(44770 [PTLA])      4.382962           0.472444\n",
       "Equity(45800 [WIX])       3.635561           0.460930\n",
       "Equity(47430 [MBLY])      2.875037           0.445199\n",
       "Equity(3891 [IMMU])       2.608677           0.444444\n",
       "Equity(49210 [CC])        3.348893           0.437306\n",
       "Equity(24572 [NKTR])      2.113860           0.421753\n",
       "Equity(49060 [SHOP])      4.981554           0.419824\n",
       "Equity(21906 [MDCO])      2.880249           0.416601"
      ]
     },
     "execution_count": 121,
     "metadata": {},
     "output_type": "execute_result"
    }
   ],
   "source": [
    "merge.sort_values(by='cumulative_return',ascending=False).head(20)"
   ]
  },
  {
   "cell_type": "code",
   "execution_count": 125,
   "metadata": {
    "collapsed": false
   },
   "outputs": [
    {
     "data": {
      "text/plain": [
       "(0.022615203348375457, 0.14326363942627257)"
      ]
     },
     "execution_count": 125,
     "metadata": {},
     "output_type": "execute_result"
    }
   ],
   "source": [
    "cr_last.mean() , cr_last.std()"
   ]
  },
  {
   "cell_type": "markdown",
   "metadata": {},
   "source": [
    "__The second best security by cumulative return is the best security by sharpe ratio__. \n",
    "Is it good for long position? "
   ]
  },
  {
   "cell_type": "code",
   "execution_count": 131,
   "metadata": {
    "collapsed": false
   },
   "outputs": [
    {
     "data": {
      "text/plain": [
       "Equity(6104, symbol=u'FIZZ', asset_name=u'NATIONAL BEVERAGE CORP', exchange=u'NASDAQ', start_date=Timestamp('2002-01-01 00:00:00+0000', tz='UTC'), end_date=Timestamp('2017-04-17 00:00:00+0000', tz='UTC'), first_traded=None, auto_close_date=Timestamp('2017-04-20 00:00:00+0000', tz='UTC'), exchange_full=u'NASDAQ GLOBAL SELECT MARKET')"
      ]
     },
     "execution_count": 131,
     "metadata": {},
     "output_type": "execute_result"
    }
   ],
   "source": [
    "merge.sort_values(by='sharpe_ratio',ascending=False).index[0]"
   ]
  },
  {
   "cell_type": "code",
   "execution_count": 130,
   "metadata": {
    "collapsed": false
   },
   "outputs": [
    {
     "data": {
      "text/plain": [
       "<matplotlib.axes._subplots.AxesSubplot at 0x7f83a2ee1b50>"
      ]
     },
     "execution_count": 130,
     "metadata": {},
     "output_type": "execute_result"
    },
    {
     "data": {
      "image/png": "[encoded data removed]",
      "text/plain": [
       "<matplotlib.figure.Figure at 0x7f840b802b50>"
      ]
     },
     "metadata": {},
     "output_type": "display_data"
    }
   ],
   "source": [
    "pricing[merge.sort_values(by='sharpe_ratio',ascending=False).index[0]].plot()"
   ]
  },
  {
   "cell_type": "markdown",
   "metadata": {},
   "source": [
    "__Let's compare this with the best security by cumulative return__"
   ]
  },
  {
   "cell_type": "code",
   "execution_count": 132,
   "metadata": {
    "collapsed": false
   },
   "outputs": [
    {
     "data": {
      "text/plain": [
       "Equity(44989, symbol=u'ESPR', asset_name=u'ESPERION THERAPEUTICS INC', exchange=u'NASDAQ', start_date=Timestamp('2013-06-25 00:00:00+0000', tz='UTC'), end_date=Timestamp('2017-04-17 00:00:00+0000', tz='UTC'), first_traded=None, auto_close_date=Timestamp('2017-04-20 00:00:00+0000', tz='UTC'), exchange_full=u'NASDAQ GLOBAL MARKET')"
      ]
     },
     "execution_count": 132,
     "metadata": {},
     "output_type": "execute_result"
    }
   ],
   "source": [
    "merge.sort_values(by='cumulative_return',ascending=False).index[0]"
   ]
  },
  {
   "cell_type": "code",
   "execution_count": 134,
   "metadata": {
    "collapsed": false
   },
   "outputs": [
    {
     "data": {
      "text/plain": [
       "<matplotlib.axes._subplots.AxesSubplot at 0x7f83ff1f4210>"
      ]
     },
     "execution_count": 134,
     "metadata": {},
     "output_type": "execute_result"
    },
    {
     "data": {
      "image/png": "[encoded data removed]",
      "text/plain": [
       "<matplotlib.figure.Figure at 0x7f840b83e350>"
      ]
     },
     "metadata": {},
     "output_type": "display_data"
    }
   ],
   "source": [
    "pricing[merge.sort_values(by='cumulative_return',ascending=False).index[0]].plot()"
   ]
  },
  {
   "cell_type": "markdown",
   "metadata": {},
   "source": [
    "# 1 MONTH - Let's do the experiment "
   ]
  },
  {
   "cell_type": "code",
   "execution_count": 141,
   "metadata": {
    "collapsed": true
   },
   "outputs": [],
   "source": [
    "DELTA = 30*2\n",
    "DELTA_FROM = 30"
   ]
  },
  {
   "cell_type": "code",
   "execution_count": 147,
   "metadata": {
    "collapsed": false
   },
   "outputs": [
    {
     "name": "stdout",
     "output_type": "stream",
     "text": [
      "('start_date', '02-14-2017')\n"
     ]
    }
   ],
   "source": [
    "start_date = (datetime.date.today() - datetime.timedelta(DELTA)).strftime(\"%m-%d-%Y\")\n",
    "print(\"start_date\",start_date)"
   ]
  },
  {
   "cell_type": "code",
   "execution_count": 148,
   "metadata": {
    "collapsed": false
   },
   "outputs": [
    {
     "name": "stdout",
     "output_type": "stream",
     "text": [
      "('end_date', '04-15-2017')\n"
     ]
    }
   ],
   "source": [
    "end_date = (datetime.date.today()).strftime(\"%m-%d-%Y\")\n",
    "print(\"end_date\",end_date)"
   ]
  },
  {
   "cell_type": "code",
   "execution_count": 149,
   "metadata": {
    "collapsed": false
   },
   "outputs": [
    {
     "name": "stdout",
     "output_type": "stream",
     "text": [
      "('from_date', '03-16-2017')\n"
     ]
    }
   ],
   "source": [
    "from_date = (datetime.date.today()- datetime.timedelta(DELTA_FROM)).strftime(\"%m-%d-%Y\")\n",
    "print(\"from_date\",from_date)"
   ]
  },
  {
   "cell_type": "code",
   "execution_count": 150,
   "metadata": {
    "collapsed": false
   },
   "outputs": [
    {
     "data": {
      "text/html": [
       "<div>\n",
       "<table border=\"1\" class=\"dataframe\">\n",
       "  <thead>\n",
       "    <tr style=\"text-align: right;\">\n",
       "      <th></th>\n",
       "      <th></th>\n",
       "    </tr>\n",
       "  </thead>\n",
       "  <tbody>\n",
       "    <tr>\n",
       "      <th rowspan=\"5\" valign=\"top\">2017-02-14 00:00:00+00:00</th>\n",
       "      <th>Equity(24 [AAPL])</th>\n",
       "    </tr>\n",
       "    <tr>\n",
       "      <th>Equity(52 [ABM])</th>\n",
       "    </tr>\n",
       "    <tr>\n",
       "      <th>Equity(53 [ABMD])</th>\n",
       "    </tr>\n",
       "    <tr>\n",
       "      <th>Equity(62 [ABT])</th>\n",
       "    </tr>\n",
       "    <tr>\n",
       "      <th>Equity(67 [ADSK])</th>\n",
       "    </tr>\n",
       "  </tbody>\n",
       "</table>\n",
       "</div>"
      ],
      "text/plain": [
       "Empty DataFrame\n",
       "Columns: []\n",
       "Index: [(2017-02-14 00:00:00+00:00, Equity(24 [AAPL])), (2017-02-14 00:00:00+00:00, Equity(52 [ABM])), (2017-02-14 00:00:00+00:00, Equity(53 [ABMD])), (2017-02-14 00:00:00+00:00, Equity(62 [ABT])), (2017-02-14 00:00:00+00:00, Equity(67 [ADSK]))]"
      ]
     },
     "execution_count": 150,
     "metadata": {},
     "output_type": "execute_result"
    }
   ],
   "source": [
    "def make_pipeline():\n",
    "    universe = (Q1500US())\n",
    "    pipe = Pipeline( screen = universe)\n",
    "    return pipe\n",
    "\n",
    "result = run_pipeline(pipeline=make_pipeline(),start_date=start_date,end_date=end_date)\n",
    "result.head()"
   ]
  },
  {
   "cell_type": "code",
   "execution_count": 151,
   "metadata": {
    "collapsed": false
   },
   "outputs": [],
   "source": [
    "pricing = fill_missing_values(get_pricing(assets,start_date=start_date,end_date=end_date,fields='close_price'))"
   ]
  },
  {
   "cell_type": "code",
   "execution_count": 152,
   "metadata": {
    "collapsed": false
   },
   "outputs": [
    {
     "data": {
      "text/html": [
       "<div>\n",
       "<table border=\"1\" class=\"dataframe\">\n",
       "  <thead>\n",
       "    <tr style=\"text-align: right;\">\n",
       "      <th></th>\n",
       "      <th>Equity(24 [AAPL])</th>\n",
       "      <th>Equity(52 [ABM])</th>\n",
       "      <th>Equity(53 [ABMD])</th>\n",
       "      <th>Equity(62 [ABT])</th>\n",
       "      <th>Equity(67 [ADSK])</th>\n",
       "      <th>Equity(76 [TAP])</th>\n",
       "      <th>Equity(114 [ADBE])</th>\n",
       "      <th>Equity(122 [ADI])</th>\n",
       "      <th>Equity(128 [ADM])</th>\n",
       "      <th>Equity(161 [AEP])</th>\n",
       "      <th>...</th>\n",
       "      <th>Equity(49760 [WBT])</th>\n",
       "      <th>Equity(49881 [LSXM_A])</th>\n",
       "      <th>Equity(49891 [MGP])</th>\n",
       "      <th>Equity(50138 [PI])</th>\n",
       "      <th>Equity(50181 [FHB])</th>\n",
       "      <th>Equity(50288 [TTD])</th>\n",
       "      <th>Equity(50357 [ARCH])</th>\n",
       "      <th>Equity(50533 [CNDT])</th>\n",
       "      <th>Equity(50535 [PK])</th>\n",
       "      <th>Equity(50595 [BIVV])</th>\n",
       "    </tr>\n",
       "  </thead>\n",
       "  <tbody>\n",
       "    <tr>\n",
       "      <th>2017-02-14 00:00:00+00:00</th>\n",
       "      <td>135.010</td>\n",
       "      <td>40.178</td>\n",
       "      <td>108.890</td>\n",
       "      <td>43.395</td>\n",
       "      <td>84.54</td>\n",
       "      <td>99.062</td>\n",
       "      <td>117.58</td>\n",
       "      <td>77.407</td>\n",
       "      <td>43.405</td>\n",
       "      <td>63.27</td>\n",
       "      <td>...</td>\n",
       "      <td>19.21</td>\n",
       "      <td>35.92</td>\n",
       "      <td>25.257</td>\n",
       "      <td>34.720</td>\n",
       "      <td>32.124</td>\n",
       "      <td>30.330</td>\n",
       "      <td>68.55</td>\n",
       "      <td>15.11</td>\n",
       "      <td>27.107</td>\n",
       "      <td>44.52</td>\n",
       "    </tr>\n",
       "    <tr>\n",
       "      <th>2017-02-15 00:00:00+00:00</th>\n",
       "      <td>135.510</td>\n",
       "      <td>40.258</td>\n",
       "      <td>110.665</td>\n",
       "      <td>43.732</td>\n",
       "      <td>84.35</td>\n",
       "      <td>98.624</td>\n",
       "      <td>118.73</td>\n",
       "      <td>81.157</td>\n",
       "      <td>44.140</td>\n",
       "      <td>63.28</td>\n",
       "      <td>...</td>\n",
       "      <td>18.25</td>\n",
       "      <td>37.54</td>\n",
       "      <td>25.267</td>\n",
       "      <td>36.490</td>\n",
       "      <td>31.900</td>\n",
       "      <td>31.623</td>\n",
       "      <td>69.84</td>\n",
       "      <td>15.11</td>\n",
       "      <td>27.255</td>\n",
       "      <td>44.11</td>\n",
       "    </tr>\n",
       "    <tr>\n",
       "      <th>2017-02-16 00:00:00+00:00</th>\n",
       "      <td>135.345</td>\n",
       "      <td>40.706</td>\n",
       "      <td>114.260</td>\n",
       "      <td>43.931</td>\n",
       "      <td>85.15</td>\n",
       "      <td>99.391</td>\n",
       "      <td>118.93</td>\n",
       "      <td>81.535</td>\n",
       "      <td>44.100</td>\n",
       "      <td>63.69</td>\n",
       "      <td>...</td>\n",
       "      <td>18.63</td>\n",
       "      <td>37.96</td>\n",
       "      <td>25.218</td>\n",
       "      <td>35.310</td>\n",
       "      <td>31.950</td>\n",
       "      <td>33.490</td>\n",
       "      <td>72.07</td>\n",
       "      <td>15.10</td>\n",
       "      <td>27.255</td>\n",
       "      <td>44.10</td>\n",
       "    </tr>\n",
       "    <tr>\n",
       "      <th>2017-02-17 00:00:00+00:00</th>\n",
       "      <td>135.710</td>\n",
       "      <td>40.218</td>\n",
       "      <td>116.600</td>\n",
       "      <td>44.413</td>\n",
       "      <td>86.40</td>\n",
       "      <td>101.174</td>\n",
       "      <td>119.67</td>\n",
       "      <td>82.032</td>\n",
       "      <td>44.670</td>\n",
       "      <td>64.08</td>\n",
       "      <td>...</td>\n",
       "      <td>18.50</td>\n",
       "      <td>38.02</td>\n",
       "      <td>25.208</td>\n",
       "      <td>31.152</td>\n",
       "      <td>31.802</td>\n",
       "      <td>32.350</td>\n",
       "      <td>76.08</td>\n",
       "      <td>15.05</td>\n",
       "      <td>26.566</td>\n",
       "      <td>47.46</td>\n",
       "    </tr>\n",
       "    <tr>\n",
       "      <th>2017-02-21 00:00:00+00:00</th>\n",
       "      <td>136.690</td>\n",
       "      <td>40.657</td>\n",
       "      <td>117.850</td>\n",
       "      <td>44.736</td>\n",
       "      <td>87.15</td>\n",
       "      <td>100.108</td>\n",
       "      <td>119.63</td>\n",
       "      <td>82.370</td>\n",
       "      <td>44.800</td>\n",
       "      <td>64.76</td>\n",
       "      <td>...</td>\n",
       "      <td>19.41</td>\n",
       "      <td>38.92</td>\n",
       "      <td>25.198</td>\n",
       "      <td>28.800</td>\n",
       "      <td>31.845</td>\n",
       "      <td>34.940</td>\n",
       "      <td>73.99</td>\n",
       "      <td>15.09</td>\n",
       "      <td>26.463</td>\n",
       "      <td>48.19</td>\n",
       "    </tr>\n",
       "  </tbody>\n",
       "</table>\n",
       "<p>5 rows × 1553 columns</p>\n",
       "</div>"
      ],
      "text/plain": [
       "                           Equity(24 [AAPL])  Equity(52 [ABM])  \\\n",
       "2017-02-14 00:00:00+00:00            135.010            40.178   \n",
       "2017-02-15 00:00:00+00:00            135.510            40.258   \n",
       "2017-02-16 00:00:00+00:00            135.345            40.706   \n",
       "2017-02-17 00:00:00+00:00            135.710            40.218   \n",
       "2017-02-21 00:00:00+00:00            136.690            40.657   \n",
       "\n",
       "                           Equity(53 [ABMD])  Equity(62 [ABT])  \\\n",
       "2017-02-14 00:00:00+00:00            108.890            43.395   \n",
       "2017-02-15 00:00:00+00:00            110.665            43.732   \n",
       "2017-02-16 00:00:00+00:00            114.260            43.931   \n",
       "2017-02-17 00:00:00+00:00            116.600            44.413   \n",
       "2017-02-21 00:00:00+00:00            117.850            44.736   \n",
       "\n",
       "                           Equity(67 [ADSK])  Equity(76 [TAP])  \\\n",
       "2017-02-14 00:00:00+00:00              84.54            99.062   \n",
       "2017-02-15 00:00:00+00:00              84.35            98.624   \n",
       "2017-02-16 00:00:00+00:00              85.15            99.391   \n",
       "2017-02-17 00:00:00+00:00              86.40           101.174   \n",
       "2017-02-21 00:00:00+00:00              87.15           100.108   \n",
       "\n",
       "                           Equity(114 [ADBE])  Equity(122 [ADI])  \\\n",
       "2017-02-14 00:00:00+00:00              117.58             77.407   \n",
       "2017-02-15 00:00:00+00:00              118.73             81.157   \n",
       "2017-02-16 00:00:00+00:00              118.93             81.535   \n",
       "2017-02-17 00:00:00+00:00              119.67             82.032   \n",
       "2017-02-21 00:00:00+00:00              119.63             82.370   \n",
       "\n",
       "                           Equity(128 [ADM])  Equity(161 [AEP])  \\\n",
       "2017-02-14 00:00:00+00:00             43.405              63.27   \n",
       "2017-02-15 00:00:00+00:00             44.140              63.28   \n",
       "2017-02-16 00:00:00+00:00             44.100              63.69   \n",
       "2017-02-17 00:00:00+00:00             44.670              64.08   \n",
       "2017-02-21 00:00:00+00:00             44.800              64.76   \n",
       "\n",
       "                                   ...           Equity(49760 [WBT])  \\\n",
       "2017-02-14 00:00:00+00:00          ...                         19.21   \n",
       "2017-02-15 00:00:00+00:00          ...                         18.25   \n",
       "2017-02-16 00:00:00+00:00          ...                         18.63   \n",
       "2017-02-17 00:00:00+00:00          ...                         18.50   \n",
       "2017-02-21 00:00:00+00:00          ...                         19.41   \n",
       "\n",
       "                           Equity(49881 [LSXM_A])  Equity(49891 [MGP])  \\\n",
       "2017-02-14 00:00:00+00:00                   35.92               25.257   \n",
       "2017-02-15 00:00:00+00:00                   37.54               25.267   \n",
       "2017-02-16 00:00:00+00:00                   37.96               25.218   \n",
       "2017-02-17 00:00:00+00:00                   38.02               25.208   \n",
       "2017-02-21 00:00:00+00:00                   38.92               25.198   \n",
       "\n",
       "                           Equity(50138 [PI])  Equity(50181 [FHB])  \\\n",
       "2017-02-14 00:00:00+00:00              34.720               32.124   \n",
       "2017-02-15 00:00:00+00:00              36.490               31.900   \n",
       "2017-02-16 00:00:00+00:00              35.310               31.950   \n",
       "2017-02-17 00:00:00+00:00              31.152               31.802   \n",
       "2017-02-21 00:00:00+00:00              28.800               31.845   \n",
       "\n",
       "                           Equity(50288 [TTD])  Equity(50357 [ARCH])  \\\n",
       "2017-02-14 00:00:00+00:00               30.330                 68.55   \n",
       "2017-02-15 00:00:00+00:00               31.623                 69.84   \n",
       "2017-02-16 00:00:00+00:00               33.490                 72.07   \n",
       "2017-02-17 00:00:00+00:00               32.350                 76.08   \n",
       "2017-02-21 00:00:00+00:00               34.940                 73.99   \n",
       "\n",
       "                           Equity(50533 [CNDT])  Equity(50535 [PK])  \\\n",
       "2017-02-14 00:00:00+00:00                 15.11              27.107   \n",
       "2017-02-15 00:00:00+00:00                 15.11              27.255   \n",
       "2017-02-16 00:00:00+00:00                 15.10              27.255   \n",
       "2017-02-17 00:00:00+00:00                 15.05              26.566   \n",
       "2017-02-21 00:00:00+00:00                 15.09              26.463   \n",
       "\n",
       "                           Equity(50595 [BIVV])  \n",
       "2017-02-14 00:00:00+00:00                 44.52  \n",
       "2017-02-15 00:00:00+00:00                 44.11  \n",
       "2017-02-16 00:00:00+00:00                 44.10  \n",
       "2017-02-17 00:00:00+00:00                 47.46  \n",
       "2017-02-21 00:00:00+00:00                 48.19  \n",
       "\n",
       "[5 rows x 1553 columns]"
      ]
     },
     "execution_count": 152,
     "metadata": {},
     "output_type": "execute_result"
    }
   ],
   "source": [
    "pricing.head()"
   ]
  },
  {
   "cell_type": "code",
   "execution_count": 154,
   "metadata": {
    "collapsed": false
   },
   "outputs": [
    {
     "name": "stdout",
     "output_type": "stream",
     "text": [
      "('# assets:', 1541)\n"
     ]
    }
   ],
   "source": [
    "assets = result.index.levels[1].unique()\n",
    "print(\"# assets:\",len(assets))"
   ]
  },
  {
   "cell_type": "code",
   "execution_count": 163,
   "metadata": {
    "collapsed": false
   },
   "outputs": [],
   "source": [
    "mask_1 = pricing.index < from_date\n",
    "mask_2 = pricing.index >= from_date "
   ]
  },
  {
   "cell_type": "code",
   "execution_count": 166,
   "metadata": {
    "collapsed": false
   },
   "outputs": [
    {
     "data": {
      "text/html": [
       "<div>\n",
       "<table border=\"1\" class=\"dataframe\">\n",
       "  <thead>\n",
       "    <tr style=\"text-align: right;\">\n",
       "      <th></th>\n",
       "      <th>Equity(24 [AAPL])</th>\n",
       "      <th>Equity(52 [ABM])</th>\n",
       "      <th>Equity(53 [ABMD])</th>\n",
       "      <th>Equity(62 [ABT])</th>\n",
       "      <th>Equity(67 [ADSK])</th>\n",
       "      <th>Equity(76 [TAP])</th>\n",
       "      <th>Equity(114 [ADBE])</th>\n",
       "      <th>Equity(122 [ADI])</th>\n",
       "      <th>Equity(128 [ADM])</th>\n",
       "      <th>Equity(161 [AEP])</th>\n",
       "      <th>...</th>\n",
       "      <th>Equity(49760 [WBT])</th>\n",
       "      <th>Equity(49881 [LSXM_A])</th>\n",
       "      <th>Equity(49891 [MGP])</th>\n",
       "      <th>Equity(50138 [PI])</th>\n",
       "      <th>Equity(50181 [FHB])</th>\n",
       "      <th>Equity(50288 [TTD])</th>\n",
       "      <th>Equity(50357 [ARCH])</th>\n",
       "      <th>Equity(50533 [CNDT])</th>\n",
       "      <th>Equity(50535 [PK])</th>\n",
       "      <th>Equity(50595 [BIVV])</th>\n",
       "    </tr>\n",
       "  </thead>\n",
       "  <tbody>\n",
       "    <tr>\n",
       "      <th>2017-03-09 00:00:00+00:00</th>\n",
       "      <td>138.68</td>\n",
       "      <td>42.170</td>\n",
       "      <td>120.17</td>\n",
       "      <td>45.362</td>\n",
       "      <td>84.25</td>\n",
       "      <td>96.79</td>\n",
       "      <td>119.92</td>\n",
       "      <td>83.17</td>\n",
       "      <td>44.430</td>\n",
       "      <td>64.84</td>\n",
       "      <td>...</td>\n",
       "      <td>19.050</td>\n",
       "      <td>38.54</td>\n",
       "      <td>25.198</td>\n",
       "      <td>28.30</td>\n",
       "      <td>31.325</td>\n",
       "      <td>44.37</td>\n",
       "      <td>66.33</td>\n",
       "      <td>15.600</td>\n",
       "      <td>25.592</td>\n",
       "      <td>53.57</td>\n",
       "    </tr>\n",
       "    <tr>\n",
       "      <th>2017-03-10 00:00:00+00:00</th>\n",
       "      <td>139.15</td>\n",
       "      <td>43.117</td>\n",
       "      <td>121.20</td>\n",
       "      <td>45.452</td>\n",
       "      <td>86.12</td>\n",
       "      <td>97.10</td>\n",
       "      <td>121.09</td>\n",
       "      <td>82.20</td>\n",
       "      <td>45.050</td>\n",
       "      <td>65.44</td>\n",
       "      <td>...</td>\n",
       "      <td>18.949</td>\n",
       "      <td>38.52</td>\n",
       "      <td>25.356</td>\n",
       "      <td>27.96</td>\n",
       "      <td>31.250</td>\n",
       "      <td>45.79</td>\n",
       "      <td>64.76</td>\n",
       "      <td>15.640</td>\n",
       "      <td>25.602</td>\n",
       "      <td>52.99</td>\n",
       "    </tr>\n",
       "    <tr>\n",
       "      <th>2017-03-13 00:00:00+00:00</th>\n",
       "      <td>139.19</td>\n",
       "      <td>43.445</td>\n",
       "      <td>121.66</td>\n",
       "      <td>45.258</td>\n",
       "      <td>86.70</td>\n",
       "      <td>97.49</td>\n",
       "      <td>121.80</td>\n",
       "      <td>82.76</td>\n",
       "      <td>44.705</td>\n",
       "      <td>65.81</td>\n",
       "      <td>...</td>\n",
       "      <td>19.040</td>\n",
       "      <td>39.81</td>\n",
       "      <td>25.267</td>\n",
       "      <td>28.97</td>\n",
       "      <td>31.525</td>\n",
       "      <td>43.35</td>\n",
       "      <td>66.88</td>\n",
       "      <td>15.860</td>\n",
       "      <td>25.327</td>\n",
       "      <td>52.16</td>\n",
       "    </tr>\n",
       "    <tr>\n",
       "      <th>2017-03-14 00:00:00+00:00</th>\n",
       "      <td>138.98</td>\n",
       "      <td>43.326</td>\n",
       "      <td>120.51</td>\n",
       "      <td>44.538</td>\n",
       "      <td>85.90</td>\n",
       "      <td>97.10</td>\n",
       "      <td>121.43</td>\n",
       "      <td>83.68</td>\n",
       "      <td>44.680</td>\n",
       "      <td>65.79</td>\n",
       "      <td>...</td>\n",
       "      <td>19.070</td>\n",
       "      <td>39.71</td>\n",
       "      <td>25.110</td>\n",
       "      <td>28.02</td>\n",
       "      <td>31.470</td>\n",
       "      <td>41.20</td>\n",
       "      <td>65.68</td>\n",
       "      <td>15.970</td>\n",
       "      <td>25.356</td>\n",
       "      <td>51.43</td>\n",
       "    </tr>\n",
       "    <tr>\n",
       "      <th>2017-03-15 00:00:00+00:00</th>\n",
       "      <td>140.45</td>\n",
       "      <td>44.123</td>\n",
       "      <td>123.02</td>\n",
       "      <td>45.035</td>\n",
       "      <td>88.40</td>\n",
       "      <td>97.90</td>\n",
       "      <td>122.11</td>\n",
       "      <td>83.50</td>\n",
       "      <td>45.000</td>\n",
       "      <td>66.68</td>\n",
       "      <td>...</td>\n",
       "      <td>19.330</td>\n",
       "      <td>39.25</td>\n",
       "      <td>25.454</td>\n",
       "      <td>28.45</td>\n",
       "      <td>31.360</td>\n",
       "      <td>41.54</td>\n",
       "      <td>68.28</td>\n",
       "      <td>16.059</td>\n",
       "      <td>26.025</td>\n",
       "      <td>51.46</td>\n",
       "    </tr>\n",
       "  </tbody>\n",
       "</table>\n",
       "<p>5 rows × 1553 columns</p>\n",
       "</div>"
      ],
      "text/plain": [
       "                           Equity(24 [AAPL])  Equity(52 [ABM])  \\\n",
       "2017-03-09 00:00:00+00:00             138.68            42.170   \n",
       "2017-03-10 00:00:00+00:00             139.15            43.117   \n",
       "2017-03-13 00:00:00+00:00             139.19            43.445   \n",
       "2017-03-14 00:00:00+00:00             138.98            43.326   \n",
       "2017-03-15 00:00:00+00:00             140.45            44.123   \n",
       "\n",
       "                           Equity(53 [ABMD])  Equity(62 [ABT])  \\\n",
       "2017-03-09 00:00:00+00:00             120.17            45.362   \n",
       "2017-03-10 00:00:00+00:00             121.20            45.452   \n",
       "2017-03-13 00:00:00+00:00             121.66            45.258   \n",
       "2017-03-14 00:00:00+00:00             120.51            44.538   \n",
       "2017-03-15 00:00:00+00:00             123.02            45.035   \n",
       "\n",
       "                           Equity(67 [ADSK])  Equity(76 [TAP])  \\\n",
       "2017-03-09 00:00:00+00:00              84.25             96.79   \n",
       "2017-03-10 00:00:00+00:00              86.12             97.10   \n",
       "2017-03-13 00:00:00+00:00              86.70             97.49   \n",
       "2017-03-14 00:00:00+00:00              85.90             97.10   \n",
       "2017-03-15 00:00:00+00:00              88.40             97.90   \n",
       "\n",
       "                           Equity(114 [ADBE])  Equity(122 [ADI])  \\\n",
       "2017-03-09 00:00:00+00:00              119.92              83.17   \n",
       "2017-03-10 00:00:00+00:00              121.09              82.20   \n",
       "2017-03-13 00:00:00+00:00              121.80              82.76   \n",
       "2017-03-14 00:00:00+00:00              121.43              83.68   \n",
       "2017-03-15 00:00:00+00:00              122.11              83.50   \n",
       "\n",
       "                           Equity(128 [ADM])  Equity(161 [AEP])  \\\n",
       "2017-03-09 00:00:00+00:00             44.430              64.84   \n",
       "2017-03-10 00:00:00+00:00             45.050              65.44   \n",
       "2017-03-13 00:00:00+00:00             44.705              65.81   \n",
       "2017-03-14 00:00:00+00:00             44.680              65.79   \n",
       "2017-03-15 00:00:00+00:00             45.000              66.68   \n",
       "\n",
       "                                   ...           Equity(49760 [WBT])  \\\n",
       "2017-03-09 00:00:00+00:00          ...                        19.050   \n",
       "2017-03-10 00:00:00+00:00          ...                        18.949   \n",
       "2017-03-13 00:00:00+00:00          ...                        19.040   \n",
       "2017-03-14 00:00:00+00:00          ...                        19.070   \n",
       "2017-03-15 00:00:00+00:00          ...                        19.330   \n",
       "\n",
       "                           Equity(49881 [LSXM_A])  Equity(49891 [MGP])  \\\n",
       "2017-03-09 00:00:00+00:00                   38.54               25.198   \n",
       "2017-03-10 00:00:00+00:00                   38.52               25.356   \n",
       "2017-03-13 00:00:00+00:00                   39.81               25.267   \n",
       "2017-03-14 00:00:00+00:00                   39.71               25.110   \n",
       "2017-03-15 00:00:00+00:00                   39.25               25.454   \n",
       "\n",
       "                           Equity(50138 [PI])  Equity(50181 [FHB])  \\\n",
       "2017-03-09 00:00:00+00:00               28.30               31.325   \n",
       "2017-03-10 00:00:00+00:00               27.96               31.250   \n",
       "2017-03-13 00:00:00+00:00               28.97               31.525   \n",
       "2017-03-14 00:00:00+00:00               28.02               31.470   \n",
       "2017-03-15 00:00:00+00:00               28.45               31.360   \n",
       "\n",
       "                           Equity(50288 [TTD])  Equity(50357 [ARCH])  \\\n",
       "2017-03-09 00:00:00+00:00                44.37                 66.33   \n",
       "2017-03-10 00:00:00+00:00                45.79                 64.76   \n",
       "2017-03-13 00:00:00+00:00                43.35                 66.88   \n",
       "2017-03-14 00:00:00+00:00                41.20                 65.68   \n",
       "2017-03-15 00:00:00+00:00                41.54                 68.28   \n",
       "\n",
       "                           Equity(50533 [CNDT])  Equity(50535 [PK])  \\\n",
       "2017-03-09 00:00:00+00:00                15.600              25.592   \n",
       "2017-03-10 00:00:00+00:00                15.640              25.602   \n",
       "2017-03-13 00:00:00+00:00                15.860              25.327   \n",
       "2017-03-14 00:00:00+00:00                15.970              25.356   \n",
       "2017-03-15 00:00:00+00:00                16.059              26.025   \n",
       "\n",
       "                           Equity(50595 [BIVV])  \n",
       "2017-03-09 00:00:00+00:00                 53.57  \n",
       "2017-03-10 00:00:00+00:00                 52.99  \n",
       "2017-03-13 00:00:00+00:00                 52.16  \n",
       "2017-03-14 00:00:00+00:00                 51.43  \n",
       "2017-03-15 00:00:00+00:00                 51.46  \n",
       "\n",
       "[5 rows x 1553 columns]"
      ]
     },
     "execution_count": 166,
     "metadata": {},
     "output_type": "execute_result"
    }
   ],
   "source": [
    "pricing_1 = pricing[mask_1]\n",
    "pricing_1.tail()"
   ]
  },
  {
   "cell_type": "code",
   "execution_count": 167,
   "metadata": {
    "collapsed": false
   },
   "outputs": [
    {
     "data": {
      "text/html": [
       "<div>\n",
       "<table border=\"1\" class=\"dataframe\">\n",
       "  <thead>\n",
       "    <tr style=\"text-align: right;\">\n",
       "      <th></th>\n",
       "      <th>Equity(24 [AAPL])</th>\n",
       "      <th>Equity(52 [ABM])</th>\n",
       "      <th>Equity(53 [ABMD])</th>\n",
       "      <th>Equity(62 [ABT])</th>\n",
       "      <th>Equity(67 [ADSK])</th>\n",
       "      <th>Equity(76 [TAP])</th>\n",
       "      <th>Equity(114 [ADBE])</th>\n",
       "      <th>Equity(122 [ADI])</th>\n",
       "      <th>Equity(128 [ADM])</th>\n",
       "      <th>Equity(161 [AEP])</th>\n",
       "      <th>...</th>\n",
       "      <th>Equity(49760 [WBT])</th>\n",
       "      <th>Equity(49881 [LSXM_A])</th>\n",
       "      <th>Equity(49891 [MGP])</th>\n",
       "      <th>Equity(50138 [PI])</th>\n",
       "      <th>Equity(50181 [FHB])</th>\n",
       "      <th>Equity(50288 [TTD])</th>\n",
       "      <th>Equity(50357 [ARCH])</th>\n",
       "      <th>Equity(50533 [CNDT])</th>\n",
       "      <th>Equity(50535 [PK])</th>\n",
       "      <th>Equity(50595 [BIVV])</th>\n",
       "    </tr>\n",
       "  </thead>\n",
       "  <tbody>\n",
       "    <tr>\n",
       "      <th>2017-03-16 00:00:00+00:00</th>\n",
       "      <td>140.69</td>\n",
       "      <td>44.242</td>\n",
       "      <td>122.94</td>\n",
       "      <td>44.702</td>\n",
       "      <td>86.73</td>\n",
       "      <td>98.22</td>\n",
       "      <td>122.36</td>\n",
       "      <td>82.72</td>\n",
       "      <td>44.850</td>\n",
       "      <td>66.020</td>\n",
       "      <td>...</td>\n",
       "      <td>19.27</td>\n",
       "      <td>39.23</td>\n",
       "      <td>25.425</td>\n",
       "      <td>28.53</td>\n",
       "      <td>31.39</td>\n",
       "      <td>40.17</td>\n",
       "      <td>67.93</td>\n",
       "      <td>15.770</td>\n",
       "      <td>26.128</td>\n",
       "      <td>50.700</td>\n",
       "    </tr>\n",
       "    <tr>\n",
       "      <th>2017-03-17 00:00:00+00:00</th>\n",
       "      <td>139.91</td>\n",
       "      <td>44.382</td>\n",
       "      <td>123.94</td>\n",
       "      <td>44.920</td>\n",
       "      <td>86.22</td>\n",
       "      <td>98.38</td>\n",
       "      <td>127.00</td>\n",
       "      <td>83.25</td>\n",
       "      <td>44.710</td>\n",
       "      <td>66.475</td>\n",
       "      <td>...</td>\n",
       "      <td>19.24</td>\n",
       "      <td>39.57</td>\n",
       "      <td>25.947</td>\n",
       "      <td>28.72</td>\n",
       "      <td>31.24</td>\n",
       "      <td>39.52</td>\n",
       "      <td>67.00</td>\n",
       "      <td>15.740</td>\n",
       "      <td>26.197</td>\n",
       "      <td>49.370</td>\n",
       "    </tr>\n",
       "    <tr>\n",
       "      <th>2017-03-20 00:00:00+00:00</th>\n",
       "      <td>141.48</td>\n",
       "      <td>43.854</td>\n",
       "      <td>123.54</td>\n",
       "      <td>44.716</td>\n",
       "      <td>86.31</td>\n",
       "      <td>98.64</td>\n",
       "      <td>126.33</td>\n",
       "      <td>82.90</td>\n",
       "      <td>44.860</td>\n",
       "      <td>66.140</td>\n",
       "      <td>...</td>\n",
       "      <td>19.42</td>\n",
       "      <td>39.47</td>\n",
       "      <td>25.760</td>\n",
       "      <td>28.80</td>\n",
       "      <td>30.82</td>\n",
       "      <td>38.08</td>\n",
       "      <td>66.06</td>\n",
       "      <td>16.020</td>\n",
       "      <td>26.005</td>\n",
       "      <td>49.170</td>\n",
       "    </tr>\n",
       "    <tr>\n",
       "      <th>2017-03-21 00:00:00+00:00</th>\n",
       "      <td>139.85</td>\n",
       "      <td>43.256</td>\n",
       "      <td>122.22</td>\n",
       "      <td>44.528</td>\n",
       "      <td>83.63</td>\n",
       "      <td>98.02</td>\n",
       "      <td>125.06</td>\n",
       "      <td>81.81</td>\n",
       "      <td>44.955</td>\n",
       "      <td>66.980</td>\n",
       "      <td>...</td>\n",
       "      <td>19.17</td>\n",
       "      <td>38.81</td>\n",
       "      <td>25.553</td>\n",
       "      <td>28.69</td>\n",
       "      <td>29.66</td>\n",
       "      <td>37.55</td>\n",
       "      <td>65.56</td>\n",
       "      <td>15.960</td>\n",
       "      <td>25.730</td>\n",
       "      <td>48.985</td>\n",
       "    </tr>\n",
       "    <tr>\n",
       "      <th>2017-03-22 00:00:00+00:00</th>\n",
       "      <td>141.43</td>\n",
       "      <td>43.122</td>\n",
       "      <td>123.44</td>\n",
       "      <td>44.538</td>\n",
       "      <td>84.61</td>\n",
       "      <td>97.52</td>\n",
       "      <td>126.21</td>\n",
       "      <td>82.13</td>\n",
       "      <td>45.620</td>\n",
       "      <td>67.445</td>\n",
       "      <td>...</td>\n",
       "      <td>19.06</td>\n",
       "      <td>38.19</td>\n",
       "      <td>25.701</td>\n",
       "      <td>28.11</td>\n",
       "      <td>29.38</td>\n",
       "      <td>38.64</td>\n",
       "      <td>67.00</td>\n",
       "      <td>16.045</td>\n",
       "      <td>25.750</td>\n",
       "      <td>51.310</td>\n",
       "    </tr>\n",
       "  </tbody>\n",
       "</table>\n",
       "<p>5 rows × 1553 columns</p>\n",
       "</div>"
      ],
      "text/plain": [
       "                           Equity(24 [AAPL])  Equity(52 [ABM])  \\\n",
       "2017-03-16 00:00:00+00:00             140.69            44.242   \n",
       "2017-03-17 00:00:00+00:00             139.91            44.382   \n",
       "2017-03-20 00:00:00+00:00             141.48            43.854   \n",
       "2017-03-21 00:00:00+00:00             139.85            43.256   \n",
       "2017-03-22 00:00:00+00:00             141.43            43.122   \n",
       "\n",
       "                           Equity(53 [ABMD])  Equity(62 [ABT])  \\\n",
       "2017-03-16 00:00:00+00:00             122.94            44.702   \n",
       "2017-03-17 00:00:00+00:00             123.94            44.920   \n",
       "2017-03-20 00:00:00+00:00             123.54            44.716   \n",
       "2017-03-21 00:00:00+00:00             122.22            44.528   \n",
       "2017-03-22 00:00:00+00:00             123.44            44.538   \n",
       "\n",
       "                           Equity(67 [ADSK])  Equity(76 [TAP])  \\\n",
       "2017-03-16 00:00:00+00:00              86.73             98.22   \n",
       "2017-03-17 00:00:00+00:00              86.22             98.38   \n",
       "2017-03-20 00:00:00+00:00              86.31             98.64   \n",
       "2017-03-21 00:00:00+00:00              83.63             98.02   \n",
       "2017-03-22 00:00:00+00:00              84.61             97.52   \n",
       "\n",
       "                           Equity(114 [ADBE])  Equity(122 [ADI])  \\\n",
       "2017-03-16 00:00:00+00:00              122.36              82.72   \n",
       "2017-03-17 00:00:00+00:00              127.00              83.25   \n",
       "2017-03-20 00:00:00+00:00              126.33              82.90   \n",
       "2017-03-21 00:00:00+00:00              125.06              81.81   \n",
       "2017-03-22 00:00:00+00:00              126.21              82.13   \n",
       "\n",
       "                           Equity(128 [ADM])  Equity(161 [AEP])  \\\n",
       "2017-03-16 00:00:00+00:00             44.850             66.020   \n",
       "2017-03-17 00:00:00+00:00             44.710             66.475   \n",
       "2017-03-20 00:00:00+00:00             44.860             66.140   \n",
       "2017-03-21 00:00:00+00:00             44.955             66.980   \n",
       "2017-03-22 00:00:00+00:00             45.620             67.445   \n",
       "\n",
       "                                   ...           Equity(49760 [WBT])  \\\n",
       "2017-03-16 00:00:00+00:00          ...                         19.27   \n",
       "2017-03-17 00:00:00+00:00          ...                         19.24   \n",
       "2017-03-20 00:00:00+00:00          ...                         19.42   \n",
       "2017-03-21 00:00:00+00:00          ...                         19.17   \n",
       "2017-03-22 00:00:00+00:00          ...                         19.06   \n",
       "\n",
       "                           Equity(49881 [LSXM_A])  Equity(49891 [MGP])  \\\n",
       "2017-03-16 00:00:00+00:00                   39.23               25.425   \n",
       "2017-03-17 00:00:00+00:00                   39.57               25.947   \n",
       "2017-03-20 00:00:00+00:00                   39.47               25.760   \n",
       "2017-03-21 00:00:00+00:00                   38.81               25.553   \n",
       "2017-03-22 00:00:00+00:00                   38.19               25.701   \n",
       "\n",
       "                           Equity(50138 [PI])  Equity(50181 [FHB])  \\\n",
       "2017-03-16 00:00:00+00:00               28.53                31.39   \n",
       "2017-03-17 00:00:00+00:00               28.72                31.24   \n",
       "2017-03-20 00:00:00+00:00               28.80                30.82   \n",
       "2017-03-21 00:00:00+00:00               28.69                29.66   \n",
       "2017-03-22 00:00:00+00:00               28.11                29.38   \n",
       "\n",
       "                           Equity(50288 [TTD])  Equity(50357 [ARCH])  \\\n",
       "2017-03-16 00:00:00+00:00                40.17                 67.93   \n",
       "2017-03-17 00:00:00+00:00                39.52                 67.00   \n",
       "2017-03-20 00:00:00+00:00                38.08                 66.06   \n",
       "2017-03-21 00:00:00+00:00                37.55                 65.56   \n",
       "2017-03-22 00:00:00+00:00                38.64                 67.00   \n",
       "\n",
       "                           Equity(50533 [CNDT])  Equity(50535 [PK])  \\\n",
       "2017-03-16 00:00:00+00:00                15.770              26.128   \n",
       "2017-03-17 00:00:00+00:00                15.740              26.197   \n",
       "2017-03-20 00:00:00+00:00                16.020              26.005   \n",
       "2017-03-21 00:00:00+00:00                15.960              25.730   \n",
       "2017-03-22 00:00:00+00:00                16.045              25.750   \n",
       "\n",
       "                           Equity(50595 [BIVV])  \n",
       "2017-03-16 00:00:00+00:00                50.700  \n",
       "2017-03-17 00:00:00+00:00                49.370  \n",
       "2017-03-20 00:00:00+00:00                49.170  \n",
       "2017-03-21 00:00:00+00:00                48.985  \n",
       "2017-03-22 00:00:00+00:00                51.310  \n",
       "\n",
       "[5 rows x 1553 columns]"
      ]
     },
     "execution_count": 167,
     "metadata": {},
     "output_type": "execute_result"
    }
   ],
   "source": [
    "pricing_2 = pricing[mask_2]\n",
    "pricing_2.head()"
   ]
  },
  {
   "cell_type": "markdown",
   "metadata": {},
   "source": [
    "## Cumulative returns and Sharpe Ratio"
   ]
  },
  {
   "cell_type": "code",
   "execution_count": 189,
   "metadata": {
    "collapsed": false
   },
   "outputs": [],
   "source": [
    "# 1 month\n",
    "cr1 = cumulative_returns(pricing_1)\n",
    "cr1 = cr1.fillna(value=0)\n",
    "cr1 = cr1.sort_index()\n",
    "\n",
    "sr1 = sharpe_ratio(compute_daily_returns((pricing_1)))\n",
    "sr1 = sr1.fillna(0)\n",
    "sr1 = sr1.sort_values(ascending=False)\n",
    "\n",
    "# 2 month \n",
    "cr2 = cumulative_returns(pricing_2)\n",
    "cr2 = cr2.fillna(value=0)\n",
    "cr2 = cr2.sort_index()\n",
    "\n",
    "sr2 = sharpe_ratio(compute_daily_returns((pricing_2)))\n",
    "sr2 = sr1.fillna(0)\n",
    "sr2 = sr2.sort_values(ascending=False)"
   ]
  },
  {
   "cell_type": "markdown",
   "metadata": {},
   "source": [
    "### Securities picked "
   ]
  },
  {
   "cell_type": "code",
   "execution_count": 190,
   "metadata": {
    "collapsed": false
   },
   "outputs": [
    {
     "data": {
      "text/plain": [
       "Equity(47169 [KITE])    0.532649\n",
       "Equity(44989 [ESPR])    0.520212\n",
       "Equity(21608 [CYH])     0.445619\n",
       "Equity(46002 [NMBL])    0.402910\n",
       "Equity(50288 [TTD])     0.369601\n",
       "Equity(44770 [PTLA])    0.349290\n",
       "Equity(47430 [MBLY])    0.338172\n",
       "Equity(6104 [FIZZ])     0.324571\n",
       "Equity(43599 [RH])      0.315967\n",
       "Equity(45503 [AAOI])    0.302172\n",
       "Name: 2017-03-15 00:00:00+00:00, dtype: float64"
      ]
     },
     "execution_count": 190,
     "metadata": {},
     "output_type": "execute_result"
    }
   ],
   "source": [
    "cr1.ix[ (cr1.shape[0]-1) ,:].sort_values(ascending=False).head(10)"
   ]
  },
  {
   "cell_type": "code",
   "execution_count": 192,
   "metadata": {
    "collapsed": false
   },
   "outputs": [
    {
     "data": {
      "text/plain": [
       "Equity(34501 [MASI])    14.960075\n",
       "Equity(4151 [JNJ])      12.712102\n",
       "Equity(24608 [ENH])     12.423599\n",
       "Equity(35902 [PM])      10.963391\n",
       "Equity(7904 [VAR])      10.381566\n",
       "Equity(4954 [MO])        9.974175\n",
       "Equity(3810 [IDXX])      9.838614\n",
       "Equity(8414 [HRG])       9.800078\n",
       "Equity(3629 [HOLX])      9.545210\n",
       "Equity(43694 [ABBV])     9.300756\n",
       "dtype: float64"
      ]
     },
     "execution_count": 192,
     "metadata": {},
     "output_type": "execute_result"
    }
   ],
   "source": [
    "sr1.head(10)"
   ]
  },
  {
   "cell_type": "code",
   "execution_count": 178,
   "metadata": {
    "collapsed": false
   },
   "outputs": [
    {
     "data": {
      "text/plain": [
       "Equity(46949 [DNOW])   -0.254521\n",
       "Equity(2069 [FTR])     -0.255220\n",
       "Equity(20866 [FNSR])   -0.262559\n",
       "Equity(25565 [ANIP])   -0.265720\n",
       "Equity(33236 [EXK])    -0.272727\n",
       "Equity(8816 [FOSL])    -0.276126\n",
       "Equity(15789 [DNR])    -0.298851\n",
       "Equity(37849 [IPXL])   -0.340426\n",
       "Equity(7203 [TLRD])    -0.341790\n",
       "Equity(47848 [FMSA])   -0.406326\n",
       "Name: 2017-03-15 00:00:00+00:00, dtype: float64"
      ]
     },
     "execution_count": 178,
     "metadata": {},
     "output_type": "execute_result"
    }
   ],
   "source": [
    "cr1.ix[ (cr1.shape[0]-1) ,:].sort_values(ascending=False).tail(10)"
   ]
  },
  {
   "cell_type": "code",
   "execution_count": 193,
   "metadata": {
    "collapsed": false
   },
   "outputs": [
    {
     "data": {
      "text/plain": [
       "Equity(1062 [BPOP])    -7.626686\n",
       "Equity(41462 [MOS])    -7.915294\n",
       "Equity(17787 [YUM])    -8.244600\n",
       "Equity(45248 [FI])     -8.515711\n",
       "Equity(28116 [GPOR])   -8.620919\n",
       "Equity(32234 [SNCR])   -8.673624\n",
       "Equity(5645 [BRS])     -9.003197\n",
       "Equity(33979 [INFN])   -9.179343\n",
       "Equity(27558 [CF])     -9.265618\n",
       "Equity(46949 [DNOW])   -9.531488\n",
       "dtype: float64"
      ]
     },
     "execution_count": 193,
     "metadata": {},
     "output_type": "execute_result"
    }
   ],
   "source": [
    "sr1.tail(10)"
   ]
  },
  {
   "cell_type": "code",
   "execution_count": 238,
   "metadata": {
    "collapsed": false
   },
   "outputs": [
    {
     "data": {
      "text/plain": [
       "39"
      ]
     },
     "execution_count": 238,
     "metadata": {},
     "output_type": "execute_result"
    }
   ],
   "source": [
    "pick_stock = set([item for sub in [cr1.ix[(cr1.shape[0]-1) ,:].sort_values(ascending=False).head(10).index.values.tolist(),\n",
    "    cr1.ix[ (cr1.shape[0]-1) ,:].sort_values(ascending=False).tail(10).index.values.tolist(),\n",
    "    sr1.head(10).index.values.tolist(),\n",
    "    sr1.tail(10).index.values.tolist()] for item in sub])\n",
    "           \n",
    "len(pick_stock)"
   ]
  },
  {
   "cell_type": "markdown",
   "metadata": {},
   "source": [
    "### Best/Worst performance the next month"
   ]
  },
  {
   "cell_type": "code",
   "execution_count": 181,
   "metadata": {
    "collapsed": false
   },
   "outputs": [
    {
     "data": {
      "text/plain": [
       "Equity(38633 [ASPS])    0.490361\n",
       "Equity(26169 [SHLD])    0.456983\n",
       "Equity(270 [AKRX])      0.421122\n",
       "Equity(37849 [IPXL])    0.390625\n",
       "Equity(20133 [PNRA])    0.338311\n",
       "Equity(44989 [ESPR])    0.317424\n",
       "Equity(43599 [RH])      0.299613\n",
       "Equity(8045 [VRTX])     0.232402\n",
       "Equity(1374 [CDE])      0.223676\n",
       "Equity(32819 [GSAT])    0.211268\n",
       "Name: 2017-04-13 00:00:00+00:00, dtype: float64"
      ]
     },
     "execution_count": 181,
     "metadata": {},
     "output_type": "execute_result"
    }
   ],
   "source": [
    "cr2.ix[ (cr2.shape[0]-1) ,:].sort_values(ascending=False).head(10)"
   ]
  },
  {
   "cell_type": "code",
   "execution_count": 182,
   "metadata": {
    "collapsed": false
   },
   "outputs": [
    {
     "data": {
      "text/plain": [
       "Equity(8329 [X])       -0.210865\n",
       "Equity(42166 [CLVS])   -0.211781\n",
       "Equity(22192 [ARRY])   -0.213953\n",
       "Equity(10897 [AKS])    -0.226667\n",
       "Equity(2069 [FTR])     -0.227092\n",
       "Equity(1595 [CLF])     -0.237687\n",
       "Equity(17908 [PGNX])   -0.262238\n",
       "Equity(32871 [AFSI])   -0.272893\n",
       "Equity(46285 [RARE])   -0.295314\n",
       "Equity(28077 [ACOR])   -0.394404\n",
       "Name: 2017-04-13 00:00:00+00:00, dtype: float64"
      ]
     },
     "execution_count": 182,
     "metadata": {},
     "output_type": "execute_result"
    }
   ],
   "source": [
    "cr2.ix[ (cr2.shape[0]-1) ,:].sort_values(ascending=False).tail(10)"
   ]
  },
  {
   "cell_type": "code",
   "execution_count": 241,
   "metadata": {
    "collapsed": false
   },
   "outputs": [
    {
     "data": {
      "text/plain": [
       "20"
      ]
     },
     "execution_count": 241,
     "metadata": {},
     "output_type": "execute_result"
    }
   ],
   "source": [
    "top_stock = set([item for sub in [cr2.ix[ (cr2.shape[0]-1) ,:].sort_values(ascending=False).head(10).index.values.tolist(), \n",
    "cr2.ix[ (cr2.shape[0]-1) ,:].sort_values(ascending=False).tail(10).index.values.tolist()] for item in sub])\n",
    "len(top_stock)"
   ]
  },
  {
   "cell_type": "markdown",
   "metadata": {},
   "source": [
    "### How many picked stocks are in the final list?"
   ]
  },
  {
   "cell_type": "code",
   "execution_count": 243,
   "metadata": {
    "collapsed": false
   },
   "outputs": [
    {
     "data": {
      "text/plain": [
       "4"
      ]
     },
     "execution_count": 243,
     "metadata": {},
     "output_type": "execute_result"
    }
   ],
   "source": [
    "len(top_stock.intersection(pick_stock))"
   ]
  },
  {
   "cell_type": "code",
   "execution_count": 246,
   "metadata": {
    "collapsed": false
   },
   "outputs": [
    {
     "data": {
      "text/plain": [
       "0.2"
      ]
     },
     "execution_count": 246,
     "metadata": {},
     "output_type": "execute_result"
    }
   ],
   "source": [
    "np.float32(len(top_stock.intersection(pick_stock))) / np.float32(len(top_stock))"
   ]
  },
  {
   "cell_type": "markdown",
   "metadata": {},
   "source": [
    "__The interesting thing is that these 4 picked stocks in final list don't come from the sharpe ratio list as \n",
    "expected but they come from the cumulative return list__. "
   ]
  },
  {
   "cell_type": "markdown",
   "metadata": {},
   "source": [
    "* FTR - NO - Equity(2069 [FTR])     -0.255220\n",
    "* IPXL - NO - Equity(37849 [IPXL])   -0.340426\n",
    "* RH - NO - Equity(43599 [RH])      0.315967\n",
    "* ESPR - NO - Equity(44989 [ESPR])    0.520212"
   ]
  },
  {
   "cell_type": "markdown",
   "metadata": {},
   "source": [
    "### What are the cumulative return of top picked stocks (long positions)"
   ]
  },
  {
   "cell_type": "code",
   "execution_count": 259,
   "metadata": {
    "collapsed": false
   },
   "outputs": [
    {
     "data": {
      "text/html": [
       "<div>\n",
       "<table border=\"1\" class=\"dataframe\">\n",
       "  <thead>\n",
       "    <tr style=\"text-align: right;\">\n",
       "      <th></th>\n",
       "      <th>Equity(20866 [FNSR])</th>\n",
       "      <th>Equity(5645 [BRS])</th>\n",
       "      <th>Equity(3629 [HOLX])</th>\n",
       "      <th>Equity(2069 [FTR])</th>\n",
       "      <th>Equity(24608 [ENH])</th>\n",
       "      <th>Equity(8816 [FOSL])</th>\n",
       "      <th>Equity(7203 [TLRD])</th>\n",
       "      <th>Equity(1062 [BPOP])</th>\n",
       "      <th>Equity(15789 [DNR])</th>\n",
       "      <th>Equity(43694 [ABBV])</th>\n",
       "      <th>...</th>\n",
       "      <th>Equity(7904 [VAR])</th>\n",
       "      <th>Equity(44770 [PTLA])</th>\n",
       "      <th>Equity(46949 [DNOW])</th>\n",
       "      <th>Equity(21608 [CYH])</th>\n",
       "      <th>Equity(32234 [SNCR])</th>\n",
       "      <th>Equity(50288 [TTD])</th>\n",
       "      <th>Equity(47848 [FMSA])</th>\n",
       "      <th>Equity(41462 [MOS])</th>\n",
       "      <th>Equity(28116 [GPOR])</th>\n",
       "      <th>Equity(17787 [YUM])</th>\n",
       "    </tr>\n",
       "  </thead>\n",
       "  <tbody>\n",
       "    <tr>\n",
       "      <th>2017-04-13 00:00:00+00:00</th>\n",
       "      <td>-0.101752</td>\n",
       "      <td>0.017316</td>\n",
       "      <td>-0.001882</td>\n",
       "      <td>-0.227092</td>\n",
       "      <td>0.001023</td>\n",
       "      <td>0.002985</td>\n",
       "      <td>-0.196311</td>\n",
       "      <td>-0.059541</td>\n",
       "      <td>-0.012712</td>\n",
       "      <td>-0.016873</td>\n",
       "      <td>...</td>\n",
       "      <td>-0.01179</td>\n",
       "      <td>-0.054242</td>\n",
       "      <td>-0.008636</td>\n",
       "      <td>-0.034995</td>\n",
       "      <td>-0.102359</td>\n",
       "      <td>-0.082898</td>\n",
       "      <td>-0.100485</td>\n",
       "      <td>-0.051932</td>\n",
       "      <td>-0.057109</td>\n",
       "      <td>0.003605</td>\n",
       "    </tr>\n",
       "  </tbody>\n",
       "</table>\n",
       "<p>1 rows × 39 columns</p>\n",
       "</div>"
      ],
      "text/plain": [
       "                           Equity(20866 [FNSR])  Equity(5645 [BRS])  \\\n",
       "2017-04-13 00:00:00+00:00             -0.101752            0.017316   \n",
       "\n",
       "                           Equity(3629 [HOLX])  Equity(2069 [FTR])  \\\n",
       "2017-04-13 00:00:00+00:00            -0.001882           -0.227092   \n",
       "\n",
       "                           Equity(24608 [ENH])  Equity(8816 [FOSL])  \\\n",
       "2017-04-13 00:00:00+00:00             0.001023             0.002985   \n",
       "\n",
       "                           Equity(7203 [TLRD])  Equity(1062 [BPOP])  \\\n",
       "2017-04-13 00:00:00+00:00            -0.196311            -0.059541   \n",
       "\n",
       "                           Equity(15789 [DNR])  Equity(43694 [ABBV])  \\\n",
       "2017-04-13 00:00:00+00:00            -0.012712             -0.016873   \n",
       "\n",
       "                                  ...           Equity(7904 [VAR])  \\\n",
       "2017-04-13 00:00:00+00:00         ...                     -0.01179   \n",
       "\n",
       "                           Equity(44770 [PTLA])  Equity(46949 [DNOW])  \\\n",
       "2017-04-13 00:00:00+00:00             -0.054242             -0.008636   \n",
       "\n",
       "                           Equity(21608 [CYH])  Equity(32234 [SNCR])  \\\n",
       "2017-04-13 00:00:00+00:00            -0.034995             -0.102359   \n",
       "\n",
       "                           Equity(50288 [TTD])  Equity(47848 [FMSA])  \\\n",
       "2017-04-13 00:00:00+00:00            -0.082898             -0.100485   \n",
       "\n",
       "                           Equity(41462 [MOS])  Equity(28116 [GPOR])  \\\n",
       "2017-04-13 00:00:00+00:00            -0.051932             -0.057109   \n",
       "\n",
       "                           Equity(17787 [YUM])  \n",
       "2017-04-13 00:00:00+00:00             0.003605  \n",
       "\n",
       "[1 rows x 39 columns]"
      ]
     },
     "execution_count": 259,
     "metadata": {},
     "output_type": "execute_result"
    }
   ],
   "source": [
    "cr = cumulative_returns(pricing_2[list(pick_stock)])\n",
    "cr = cr.fillna(value=0)\n",
    "cr = cr.sort_index()\n",
    "cr = cr[-1:]\n",
    "cr"
   ]
  },
  {
   "cell_type": "code",
   "execution_count": 265,
   "metadata": {
    "collapsed": false
   },
   "outputs": [
    {
     "data": {
      "text/plain": [
       "2017-04-13 00:00:00+00:00   -0.00382\n",
       "Freq: C, dtype: float64"
      ]
     },
     "execution_count": 265,
     "metadata": {},
     "output_type": "execute_result"
    }
   ],
   "source": [
    "cr.mean(axis=1)"
   ]
  },
  {
   "cell_type": "markdown",
   "metadata": {},
   "source": [
    "__This concludes the evaluation of such picking strategy: not only best stocks are not picked but the cumulative \n",
    "    return of picked stocks is on average bad__"
   ]
  }
 ],
 "metadata": {
  "kernelspec": {
   "display_name": "Python 2",
   "language": "python",
   "name": "python2"
  },
  "language_info": {
   "codemirror_mode": {
    "name": "ipython",
    "version": 2
   },
   "file_extension": ".py",
   "mimetype": "text/x-python",
   "name": "python",
   "nbconvert_exporter": "python",
   "pygments_lexer": "ipython2",
   "version": "2.7.12"
  }
 },
 "nbformat": 4,
 "nbformat_minor": 2
}