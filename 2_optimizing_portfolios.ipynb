{
 "cells": [
  {
   "cell_type": "markdown",
   "metadata": {},
   "source": [
    "# Optimizing Portfolios\n"
   ]
  },
  {
   "cell_type": "markdown",
   "metadata": {
    "collapsed": true
   },
   "source": [
    "## Python optimizers\n",
    "\n",
    "Optimizers is one of the most important library of a Machine Learning (ML) framowork. Most of ML models are \n",
    "formuled as an optimization problems, i.e. minimizing a given cost function. Historically, __Gradient Descent__ was one \n",
    "of the first optmization methods used for accomplishing such task. \n",
    "\n",
    "__Gradient Descent__ is based on the observation that if a \n",
    "multivariate function $f()$ is defined and differentiable in a neighborhood of a given point $a$ then for $\\alpha$ small \n",
    "enough  \n",
    "\n",
    "$$f(a) \\geq f \\big( a-\\alpha \\bigtriangledown f(a) \\big)$$\n",
    "\n",
    "and if $$f(a) = f\\big( a-\\alpha \\bigtriangledown f(a) \\big)$$ if and only if $\\alpha=0$ then $a$ is a __local minimum__. Also, \n",
    "__if $f()$ is a convex function__ then $a$ is also a __global minimum__. \n",
    "\n",
    "One of the main problems with __Gradient Descent__ is that it needs for each iteration you to provide $\\alpha$ also \n",
    "known as __learning rate__. If $\\alpha$ is too small you are going to converge too slowly. On the other hand, if $\\alpha$\n",
    "is too large you might diverge from the local optimum. \n",
    "\n",
    "There are more sophisticated algorithms than Gradient Descent that are able to select the best learning \n",
    "rate automatically and, hence, for which you only need to provide \n",
    "* $f()$, i.e. the cost-function  \n",
    "* $\\bigtriangledown f()$, i.e. the gradient \n",
    "\n",
    "The most popular of these algorithms are \n",
    "* [Conjugate Gradient](https://en.wikipedia.org/wiki/Conjugate_gradient_method)\n",
    "* [BFGS](https://en.wikipedia.org/wiki/Broyden%E2%80%93Fletcher%E2%80%93Goldfarb%E2%80%93Shanno_algorithm)\n",
    "* [L-BFGS](https://en.wikipedia.org/wiki/Limited-memory_BFGS)\n",
    "\n",
    "Python offers the package [scipy.optimize](http://docs.scipy.org/doc/scipy/reference/optimize.html) \n",
    "where to minimize a function the following methods are available:\n",
    "* minimize(method=’Nelder-Mead’), usually applied to nonlinear optimization problems \n",
    "for which derivatives may not be known \n",
    "* minimize(method=’Powell’), usually applied to functions that need not be differentiable, \n",
    "and no derivatives are taken\n",
    "* minimize(method=’CG’), a.k.a. _Conjugate Gradient_ (see above)\n",
    "* minimize(method=’BFGS’), see above \n",
    "* minimize(method=’Newton-CG’), variant of Conjugate Gradient\n",
    "* minimize(method=’L-BFGS-B’), see above L-BFGS\n",
    "* minimize(method=’TNC’)\n",
    "* minimize(method=’COBYLA’), i.e. _Constrained optimization by linear approximation_  is \n",
    "a numerical optimization method for constrained problems where the derivative of the \n",
    "objective function is not known, invented by Michael J. D. Powell.\n",
    "* minimize(method=’SLSQP’), i.e. _Sequential quadratic programming_ is an \n",
    "iterative method for nonlinear optimization.\n",
    "* minimize(method=’dogleg’)\n",
    "* minimize(method=’trust-ncg’)\n",
    "\n",
    "Let's see these algorithms in action.  \n",
    "\n",
    "### Parabola\n"
   ]
  },
  {
   "cell_type": "code",
   "execution_count": 1,
   "metadata": {
    "collapsed": false
   },
   "outputs": [
    {
     "data": {
      "text/html": [
       "<div>\n",
       "<table border=\"1\" class=\"dataframe\">\n",
       "  <thead>\n",
       "    <tr style=\"text-align: right;\">\n",
       "      <th></th>\n",
       "      <th>min</th>\n",
       "    </tr>\n",
       "    <tr>\n",
       "      <th>Method</th>\n",
       "      <th></th>\n",
       "    </tr>\n",
       "  </thead>\n",
       "  <tbody>\n",
       "    <tr>\n",
       "      <th>Nelder-Mead</th>\n",
       "      <td>[2.00002441406]</td>\n",
       "    </tr>\n",
       "    <tr>\n",
       "      <th>Powell</th>\n",
       "      <td>1.9999999999683606</td>\n",
       "    </tr>\n",
       "    <tr>\n",
       "      <th>CG</th>\n",
       "      <td>[1.99]</td>\n",
       "    </tr>\n",
       "    <tr>\n",
       "      <th>BFGS</th>\n",
       "      <td>[1.99999999056]</td>\n",
       "    </tr>\n",
       "    <tr>\n",
       "      <th>L-BFGS-B</th>\n",
       "      <td>[2.0]</td>\n",
       "    </tr>\n",
       "    <tr>\n",
       "      <th>TNC</th>\n",
       "      <td>[2.00000000168]</td>\n",
       "    </tr>\n",
       "    <tr>\n",
       "      <th>COBYLA</th>\n",
       "      <td>2.0001</td>\n",
       "    </tr>\n",
       "    <tr>\n",
       "      <th>SLSQP</th>\n",
       "      <td>[2.0]</td>\n",
       "    </tr>\n",
       "  </tbody>\n",
       "</table>\n",
       "</div>"
      ],
      "text/plain": [
       "                            min\n",
       "Method                         \n",
       "Nelder-Mead     [2.00002441406]\n",
       "Powell       1.9999999999683606\n",
       "CG                       [1.99]\n",
       "BFGS            [1.99999999056]\n",
       "L-BFGS-B                  [2.0]\n",
       "TNC             [2.00000000168]\n",
       "COBYLA                   2.0001\n",
       "SLSQP                     [2.0]"
      ]
     },
     "execution_count": 1,
     "metadata": {},
     "output_type": "execute_result"
    }
   ],
   "source": [
    "import pandas as pd \n",
    "import numpy as np\n",
    "import matplotlib.pyplot as plt\n",
    "import scipy.optimize as spo \n",
    "\n",
    "\n",
    "def parab(X):\n",
    "    ## X = 2 is the min\n",
    "    Y = (X - 2)**2 + 1.5 \n",
    "    return Y\n",
    "\n",
    "initial_guess = 3\n",
    "opt_methods_no_Jacobian = ['Nelder-Mead','Powell','CG','BFGS','L-BFGS-B','TNC','COBYLA','SLSQP']\n",
    "mins = [spo.minimize(parab,initial_guess,method=om,) for om in opt_methods_no_Jacobian]\n",
    "\n",
    "min_df = pd.DataFrame({'Method' : opt_methods_no_Jacobian,\n",
    " 'min' : [m.x for m in mins]\n",
    "  }).set_index('Method')\n",
    "min_df"
   ]
  },
  {
   "cell_type": "code",
   "execution_count": 2,
   "metadata": {
    "collapsed": false
   },
   "outputs": [
    {
     "data": {
      "image/png": "[encoded data removed]",
      "text/plain": [
       "<matplotlib.figure.Figure at 0x112987f60>"
      ]
     },
     "metadata": {},
     "output_type": "display_data"
    }
   ],
   "source": [
    "def plot_mins(f,min_df,xmin=-5,xmax=5,ticks=1000,title='',xguess=3,legend_pos='upper left'):\n",
    "    x = np.linspace(xmin, xmax, ticks)\n",
    "    y = f(x)\n",
    "    \n",
    "    plt.plot(x, y ,color='b')\n",
    "    \n",
    "    plt.plot(min_df, f(min_df),'g',linewidth=13,marker=\"+\",label='solutions')\n",
    "    \n",
    "    plt.plot(xguess, f(xguess),'black',linewidth=13,marker=\"*\",label='initial guess')\n",
    "    \n",
    "    plt.axis([xmin-1, xmax+1, y.min()-1, y.max()+1])\n",
    "    \n",
    "    plt.title(title)\n",
    "    \n",
    "    plt.grid(True)\n",
    "    plt.legend(loc=legend_pos)\n",
    "    \n",
    "    plt.show()\n",
    "    \n",
    "    \n",
    "plot_mins(f=parab,min_df=min_df,xmin=-3,xmax=8,title='Parabola')"
   ]
  },
  {
   "cell_type": "markdown",
   "metadata": {},
   "source": [
    "### Non-Convex example"
   ]
  },
  {
   "cell_type": "code",
   "execution_count": 3,
   "metadata": {
    "collapsed": false
   },
   "outputs": [
    {
     "data": {
      "text/html": [
       "<div>\n",
       "<table border=\"1\" class=\"dataframe\">\n",
       "  <thead>\n",
       "    <tr style=\"text-align: right;\">\n",
       "      <th></th>\n",
       "      <th>min</th>\n",
       "    </tr>\n",
       "    <tr>\n",
       "      <th>Method</th>\n",
       "      <th></th>\n",
       "    </tr>\n",
       "  </thead>\n",
       "  <tbody>\n",
       "    <tr>\n",
       "      <th>Nelder-Mead</th>\n",
       "      <td>[4.5]</td>\n",
       "    </tr>\n",
       "    <tr>\n",
       "      <th>Powell</th>\n",
       "      <td>7.087928961545842</td>\n",
       "    </tr>\n",
       "    <tr>\n",
       "      <th>CG</th>\n",
       "      <td>[4.5]</td>\n",
       "    </tr>\n",
       "    <tr>\n",
       "      <th>BFGS</th>\n",
       "      <td>[4.5]</td>\n",
       "    </tr>\n",
       "    <tr>\n",
       "      <th>L-BFGS-B</th>\n",
       "      <td>[4.5]</td>\n",
       "    </tr>\n",
       "    <tr>\n",
       "      <th>TNC</th>\n",
       "      <td>[4.5]</td>\n",
       "    </tr>\n",
       "    <tr>\n",
       "      <th>COBYLA</th>\n",
       "      <td>4.5</td>\n",
       "    </tr>\n",
       "    <tr>\n",
       "      <th>SLSQP</th>\n",
       "      <td>[4.5]</td>\n",
       "    </tr>\n",
       "  </tbody>\n",
       "</table>\n",
       "</div>"
      ],
      "text/plain": [
       "                           min\n",
       "Method                        \n",
       "Nelder-Mead              [4.5]\n",
       "Powell       7.087928961545842\n",
       "CG                       [4.5]\n",
       "BFGS                     [4.5]\n",
       "L-BFGS-B                 [4.5]\n",
       "TNC                      [4.5]\n",
       "COBYLA                     4.5\n",
       "SLSQP                    [4.5]"
      ]
     },
     "execution_count": 3,
     "metadata": {},
     "output_type": "execute_result"
    }
   ],
   "source": [
    "def non_convex_1(X):\n",
    "    if type(X) is float:\n",
    "        if X <=0 or X >=4:\n",
    "            return 5.5\n",
    "        else: \n",
    "            return (X - 2)**2 + 1.5 \n",
    "    else:\n",
    "        Y = (X - 2)**2 + 1.5 \n",
    "        Y[np.logical_or(X <= 0 , X >=4)] = 5.5\n",
    "        return Y\n",
    "\n",
    "initial_guess = 4.5\n",
    "mins = [spo.minimize(non_convex_1,initial_guess,method=om,) for om in opt_methods_no_Jacobian]\n",
    "\n",
    "min_df = pd.DataFrame({'Method' : opt_methods_no_Jacobian,\n",
    " 'min' : [m.x for m in mins]\n",
    "  }).set_index('Method')\n",
    "min_df"
   ]
  },
  {
   "cell_type": "code",
   "execution_count": 4,
   "metadata": {
    "collapsed": false
   },
   "outputs": [
    {
     "data": {
      "image/png": "[encoded data removed]",
      "text/plain": [
       "<matplotlib.figure.Figure at 0x112a35710>"
      ]
     },
     "metadata": {},
     "output_type": "display_data"
    }
   ],
   "source": [
    "plot_mins(f=non_convex_1,min_df=min_df,xmin=-2,xmax=9,title='Non-Convex example N.1 - initial guess = 4.5',\n",
    "          xguess=4.5,legend_pos='lower right')"
   ]
  },
  {
   "cell_type": "code",
   "execution_count": 5,
   "metadata": {
    "collapsed": false
   },
   "outputs": [
    {
     "data": {
      "text/html": [
       "<div>\n",
       "<table border=\"1\" class=\"dataframe\">\n",
       "  <thead>\n",
       "    <tr style=\"text-align: right;\">\n",
       "      <th></th>\n",
       "      <th>min</th>\n",
       "    </tr>\n",
       "    <tr>\n",
       "      <th>Method</th>\n",
       "      <th></th>\n",
       "    </tr>\n",
       "  </thead>\n",
       "  <tbody>\n",
       "    <tr>\n",
       "      <th>Nelder-Mead</th>\n",
       "      <td>[1.99998779297]</td>\n",
       "    </tr>\n",
       "    <tr>\n",
       "      <th>Powell</th>\n",
       "      <td>1.9999999999683606</td>\n",
       "    </tr>\n",
       "    <tr>\n",
       "      <th>CG</th>\n",
       "      <td>[1.99999984958]</td>\n",
       "    </tr>\n",
       "    <tr>\n",
       "      <th>BFGS</th>\n",
       "      <td>[2.00000003039]</td>\n",
       "    </tr>\n",
       "    <tr>\n",
       "      <th>L-BFGS-B</th>\n",
       "      <td>[1.99999996669]</td>\n",
       "    </tr>\n",
       "    <tr>\n",
       "      <th>TNC</th>\n",
       "      <td>[1.99999999867]</td>\n",
       "    </tr>\n",
       "    <tr>\n",
       "      <th>COBYLA</th>\n",
       "      <td>1.99989765625</td>\n",
       "    </tr>\n",
       "    <tr>\n",
       "      <th>SLSQP</th>\n",
       "      <td>[2.0]</td>\n",
       "    </tr>\n",
       "  </tbody>\n",
       "</table>\n",
       "</div>"
      ],
      "text/plain": [
       "                            min\n",
       "Method                         \n",
       "Nelder-Mead     [1.99998779297]\n",
       "Powell       1.9999999999683606\n",
       "CG              [1.99999984958]\n",
       "BFGS            [2.00000003039]\n",
       "L-BFGS-B        [1.99999996669]\n",
       "TNC             [1.99999999867]\n",
       "COBYLA            1.99989765625\n",
       "SLSQP                     [2.0]"
      ]
     },
     "execution_count": 5,
     "metadata": {},
     "output_type": "execute_result"
    }
   ],
   "source": [
    "initial_guess = 3.9\n",
    "mins = [spo.minimize(non_convex_1,initial_guess,method=om,) for om in opt_methods_no_Jacobian]\n",
    "\n",
    "min_df = pd.DataFrame({'Method' : opt_methods_no_Jacobian,\n",
    " 'min' : [m.x for m in mins]\n",
    "  }).set_index('Method')\n",
    "min_df"
   ]
  },
  {
   "cell_type": "code",
   "execution_count": 6,
   "metadata": {
    "collapsed": false
   },
   "outputs": [
    {
     "data": {
      "image/png": "[encoded data removed]",
      "text/plain": [
       "<matplotlib.figure.Figure at 0x114bdb198>"
      ]
     },
     "metadata": {},
     "output_type": "display_data"
    }
   ],
   "source": [
    "plot_mins(f=non_convex_1,min_df=min_df,xmin=-2,xmax=9,title='Non-Convex example N.1 - initial guess = 3.9',\n",
    "          xguess=3.9,legend_pos='lower right')"
   ]
  },
  {
   "cell_type": "markdown",
   "metadata": {},
   "source": [
    "The problem with such __function__ is the fact it is __not convex__. Hence, starting from initial guess \n",
    "x = 3.9 the above optimizers are able to find the global minimum. On the contrary, starting from initial guess x = 4.5 \n",
    "no optmizer is able to find the global minimum. \n",
    "\n",
    "### Basin Hopping and Simulated Annealing\n",
    "For solving this optimization problem we need something more than the above optmiziation methods. \n",
    "For instance, __simulated annealing__ is one of the most widely used algorithms for finding the global minimum \n",
    "of a multivariable function for different complex systems. In __scipy.optimize__ __simulated annealing__ has been \n",
    "replaced by __Basin Hopping__ that is a global optimization framework  \n",
    "particularly suited for multivariable multimodal optimization problems "
   ]
  },
  {
   "cell_type": "code",
   "execution_count": 7,
   "metadata": {
    "collapsed": false
   },
   "outputs": [],
   "source": [
    "from scipy.optimize import basinhopping\n",
    "res = basinhopping(non_convex_1, 4.5, minimizer_kwargs={\"method\": \"BFGS\"},niter=200)"
   ]
  },
  {
   "cell_type": "code",
   "execution_count": 8,
   "metadata": {
    "collapsed": false
   },
   "outputs": [
    {
     "data": {
      "text/plain": [
       "array([ 2.00000001])"
      ]
     },
     "execution_count": 8,
     "metadata": {},
     "output_type": "execute_result"
    }
   ],
   "source": [
    "res.x"
   ]
  },
  {
   "cell_type": "markdown",
   "metadata": {},
   "source": [
    "We can see that Basin Hopping is able to find the global minimum instead of previous methods. "
   ]
  },
  {
   "cell_type": "markdown",
   "metadata": {},
   "source": [
    "### More dimensions, contraints and bounds  "
   ]
  },
  {
   "cell_type": "markdown",
   "metadata": {},
   "source": [
    "Let us consider the problem of minimizing the Rosenbrock function. \n",
    "This function (and its respective derivatives) is implemented in rosen"
   ]
  },
  {
   "cell_type": "code",
   "execution_count": 9,
   "metadata": {
    "collapsed": true
   },
   "outputs": [],
   "source": [
    "from scipy.optimize import minimize, rosen, rosen_der"
   ]
  },
  {
   "cell_type": "code",
   "execution_count": 10,
   "metadata": {
    "collapsed": false
   },
   "outputs": [
    {
     "data": {
      "text/html": [
       "<div>\n",
       "<table border=\"1\" class=\"dataframe\">\n",
       "  <thead>\n",
       "    <tr style=\"text-align: right;\">\n",
       "      <th></th>\n",
       "      <th>min</th>\n",
       "      <th>min_value</th>\n",
       "    </tr>\n",
       "    <tr>\n",
       "      <th>Method</th>\n",
       "      <th></th>\n",
       "      <th></th>\n",
       "    </tr>\n",
       "  </thead>\n",
       "  <tbody>\n",
       "    <tr>\n",
       "      <th>Powell</th>\n",
       "      <td>[1.0, 1.0, 1.0, 1.0, 1.0]</td>\n",
       "      <td>1.696763e-22</td>\n",
       "    </tr>\n",
       "    <tr>\n",
       "      <th>L-BFGS-B</th>\n",
       "      <td>[0.999999569191, 0.999999146161, 0.99999833610...</td>\n",
       "      <td>1.504062e-11</td>\n",
       "    </tr>\n",
       "    <tr>\n",
       "      <th>BFGS</th>\n",
       "      <td>[0.999999245546, 0.999998516729, 0.99999706458...</td>\n",
       "      <td>4.582239e-11</td>\n",
       "    </tr>\n",
       "    <tr>\n",
       "      <th>CG</th>\n",
       "      <td>[0.999998258204, 0.99999652201, 0.99999303492,...</td>\n",
       "      <td>2.587047e-10</td>\n",
       "    </tr>\n",
       "    <tr>\n",
       "      <th>SLSQP</th>\n",
       "      <td>[0.999996799614, 0.999995480491, 0.99999335775...</td>\n",
       "      <td>2.434160e-09</td>\n",
       "    </tr>\n",
       "    <tr>\n",
       "      <th>TNC</th>\n",
       "      <td>[0.999971153807, 0.999943162109, 0.9998872987,...</td>\n",
       "      <td>6.736061e-08</td>\n",
       "    </tr>\n",
       "    <tr>\n",
       "      <th>Nelder-Mead</th>\n",
       "      <td>[0.999101151259, 0.998209232287, 0.99646345959...</td>\n",
       "      <td>6.617482e-05</td>\n",
       "    </tr>\n",
       "    <tr>\n",
       "      <th>COBYLA</th>\n",
       "      <td>[1.03328356885, 1.06781943615, 1.14060138059, ...</td>\n",
       "      <td>1.166637e-01</td>\n",
       "    </tr>\n",
       "  </tbody>\n",
       "</table>\n",
       "</div>"
      ],
      "text/plain": [
       "                                                           min     min_value\n",
       "Method                                                                      \n",
       "Powell                               [1.0, 1.0, 1.0, 1.0, 1.0]  1.696763e-22\n",
       "L-BFGS-B     [0.999999569191, 0.999999146161, 0.99999833610...  1.504062e-11\n",
       "BFGS         [0.999999245546, 0.999998516729, 0.99999706458...  4.582239e-11\n",
       "CG           [0.999998258204, 0.99999652201, 0.99999303492,...  2.587047e-10\n",
       "SLSQP        [0.999996799614, 0.999995480491, 0.99999335775...  2.434160e-09\n",
       "TNC          [0.999971153807, 0.999943162109, 0.9998872987,...  6.736061e-08\n",
       "Nelder-Mead  [0.999101151259, 0.998209232287, 0.99646345959...  6.617482e-05\n",
       "COBYLA       [1.03328356885, 1.06781943615, 1.14060138059, ...  1.166637e-01"
      ]
     },
     "execution_count": 10,
     "metadata": {},
     "output_type": "execute_result"
    }
   ],
   "source": [
    "mins = [spo.minimize(rosen,[1.3, 0.7, 0.8, 1.9, 1.2],method=om) for om in opt_methods_no_Jacobian]\n",
    "\n",
    "min_df = pd.DataFrame({'Method' : opt_methods_no_Jacobian,\n",
    " 'min' : [m.x for m in mins], \n",
    "  'min_value': [rosen(m.x) for m in mins]\n",
    "  }).set_index('Method')\n",
    "min_df.sort_values(by = 'min_value' , inplace=True)\n",
    "min_df"
   ]
  },
  {
   "cell_type": "markdown",
   "metadata": {},
   "source": [
    "We can see that all optimizers provide close minima although __Powell__ makes a better job this time. \n",
    "Let's test __Basin Hopping__"
   ]
  },
  {
   "cell_type": "code",
   "execution_count": 11,
   "metadata": {
    "collapsed": false
   },
   "outputs": [
    {
     "name": "stdout",
     "output_type": "stream",
     "text": [
      ">>> basinhopping min: [ 0.99999967  0.9999993   0.99999876  0.99999751  0.99999518] - min_value:1.35681803995e-11\n"
     ]
    }
   ],
   "source": [
    "res = basinhopping(rosen, [1.3, 0.7, 0.8, 1.9, 1.2], minimizer_kwargs={\"method\": \"BFGS\"},niter=200)\n",
    "print(\">>> basinhopping min: \"+str(res.x)+\" - min_value:\"+str(rosen(res.x)))"
   ]
  },
  {
   "cell_type": "markdown",
   "metadata": {},
   "source": [
    "Pretty close the other ones. \n",
    "Let's concatenate results. "
   ]
  },
  {
   "cell_type": "code",
   "execution_count": 12,
   "metadata": {
    "collapsed": false
   },
   "outputs": [
    {
     "data": {
      "text/html": [
       "<div>\n",
       "<table border=\"1\" class=\"dataframe\">\n",
       "  <thead>\n",
       "    <tr style=\"text-align: right;\">\n",
       "      <th></th>\n",
       "      <th>min</th>\n",
       "      <th>min_value</th>\n",
       "    </tr>\n",
       "    <tr>\n",
       "      <th>Method</th>\n",
       "      <th></th>\n",
       "      <th></th>\n",
       "    </tr>\n",
       "  </thead>\n",
       "  <tbody>\n",
       "    <tr>\n",
       "      <th>Powell</th>\n",
       "      <td>[1.0, 1.0, 1.0, 1.0, 1.0]</td>\n",
       "      <td>1.696763e-22</td>\n",
       "    </tr>\n",
       "    <tr>\n",
       "      <th>Basin Hopping</th>\n",
       "      <td>[0.999999671333, 0.999999298452, 0.99999876249...</td>\n",
       "      <td>1.356818e-11</td>\n",
       "    </tr>\n",
       "    <tr>\n",
       "      <th>L-BFGS-B</th>\n",
       "      <td>[0.999999569191, 0.999999146161, 0.99999833610...</td>\n",
       "      <td>1.504062e-11</td>\n",
       "    </tr>\n",
       "    <tr>\n",
       "      <th>BFGS</th>\n",
       "      <td>[0.999999245546, 0.999998516729, 0.99999706458...</td>\n",
       "      <td>4.582239e-11</td>\n",
       "    </tr>\n",
       "    <tr>\n",
       "      <th>CG</th>\n",
       "      <td>[0.999998258204, 0.99999652201, 0.99999303492,...</td>\n",
       "      <td>2.587047e-10</td>\n",
       "    </tr>\n",
       "    <tr>\n",
       "      <th>SLSQP</th>\n",
       "      <td>[0.999996799614, 0.999995480491, 0.99999335775...</td>\n",
       "      <td>2.434160e-09</td>\n",
       "    </tr>\n",
       "    <tr>\n",
       "      <th>TNC</th>\n",
       "      <td>[0.999971153807, 0.999943162109, 0.9998872987,...</td>\n",
       "      <td>6.736061e-08</td>\n",
       "    </tr>\n",
       "    <tr>\n",
       "      <th>Nelder-Mead</th>\n",
       "      <td>[0.999101151259, 0.998209232287, 0.99646345959...</td>\n",
       "      <td>6.617482e-05</td>\n",
       "    </tr>\n",
       "    <tr>\n",
       "      <th>COBYLA</th>\n",
       "      <td>[1.03328356885, 1.06781943615, 1.14060138059, ...</td>\n",
       "      <td>1.166637e-01</td>\n",
       "    </tr>\n",
       "  </tbody>\n",
       "</table>\n",
       "</div>"
      ],
      "text/plain": [
       "                                                             min     min_value\n",
       "Method                                                                        \n",
       "Powell                                 [1.0, 1.0, 1.0, 1.0, 1.0]  1.696763e-22\n",
       "Basin Hopping  [0.999999671333, 0.999999298452, 0.99999876249...  1.356818e-11\n",
       "L-BFGS-B       [0.999999569191, 0.999999146161, 0.99999833610...  1.504062e-11\n",
       "BFGS           [0.999999245546, 0.999998516729, 0.99999706458...  4.582239e-11\n",
       "CG             [0.999998258204, 0.99999652201, 0.99999303492,...  2.587047e-10\n",
       "SLSQP          [0.999996799614, 0.999995480491, 0.99999335775...  2.434160e-09\n",
       "TNC            [0.999971153807, 0.999943162109, 0.9998872987,...  6.736061e-08\n",
       "Nelder-Mead    [0.999101151259, 0.998209232287, 0.99646345959...  6.617482e-05\n",
       "COBYLA         [1.03328356885, 1.06781943615, 1.14060138059, ...  1.166637e-01"
      ]
     },
     "execution_count": 12,
     "metadata": {},
     "output_type": "execute_result"
    }
   ],
   "source": [
    "min_df = pd.DataFrame({'Method' : opt_methods_no_Jacobian+['Basin Hopping'],\n",
    " 'min' : [m.x for m in mins]+[res.x], \n",
    "  'min_value': [rosen(m.x) for m in mins]+[rosen(res.x)]\n",
    "  }).set_index('Method')\n",
    "min_df.sort_values(by = 'min_value' , inplace=True)\n",
    "min_df"
   ]
  },
  {
   "cell_type": "markdown",
   "metadata": {},
   "source": [
    "### Bounds and contraints\n",
    "\n",
    "Let's say variables must be not negative. \n",
    "As there are methods (e.g. Nelder-Mead) that cannot handle constraints nor bounds we use a different approach. \n",
    "We modify the cost function so that if constraints or bounds don't hold a very large value is returned. "
   ]
  },
  {
   "cell_type": "code",
   "execution_count": 13,
   "metadata": {
    "collapsed": false
   },
   "outputs": [],
   "source": [
    "def my_rosen(x,out_value=10e10):\n",
    "    \n",
    "    ## no negative values \n",
    "    if np.any(x<0.0):\n",
    "        return out_value\n",
    "    \n",
    "    return rosen(x)"
   ]
  },
  {
   "cell_type": "code",
   "execution_count": 14,
   "metadata": {
    "collapsed": false
   },
   "outputs": [
    {
     "data": {
      "text/html": [
       "<div>\n",
       "<table border=\"1\" class=\"dataframe\">\n",
       "  <thead>\n",
       "    <tr style=\"text-align: right;\">\n",
       "      <th></th>\n",
       "      <th>min</th>\n",
       "      <th>min_value</th>\n",
       "    </tr>\n",
       "    <tr>\n",
       "      <th>Method</th>\n",
       "      <th></th>\n",
       "      <th></th>\n",
       "    </tr>\n",
       "  </thead>\n",
       "  <tbody>\n",
       "    <tr>\n",
       "      <th>Powell</th>\n",
       "      <td>[1.0, 1.0, 1.0, 1.0, 1.0]</td>\n",
       "      <td>3.319898e-22</td>\n",
       "    </tr>\n",
       "    <tr>\n",
       "      <th>CG</th>\n",
       "      <td>[1.00000000075, 1.00000001398, 1.00000003705, ...</td>\n",
       "      <td>1.111023e-13</td>\n",
       "    </tr>\n",
       "    <tr>\n",
       "      <th>Basin Hopping</th>\n",
       "      <td>[1.00000000633, 1.00000004562, 1.00000011665, ...</td>\n",
       "      <td>6.196018e-13</td>\n",
       "    </tr>\n",
       "    <tr>\n",
       "      <th>L-BFGS-B</th>\n",
       "      <td>[0.999999569191, 0.999999146161, 0.99999833610...</td>\n",
       "      <td>1.504062e-11</td>\n",
       "    </tr>\n",
       "    <tr>\n",
       "      <th>BFGS</th>\n",
       "      <td>[0.999999305001, 0.999998588025, 0.99999718981...</td>\n",
       "      <td>4.205330e-11</td>\n",
       "    </tr>\n",
       "    <tr>\n",
       "      <th>TNC</th>\n",
       "      <td>[0.999971153807, 0.999943162109, 0.9998872987,...</td>\n",
       "      <td>6.736061e-08</td>\n",
       "    </tr>\n",
       "    <tr>\n",
       "      <th>SLSQP</th>\n",
       "      <td>[0.999981003037, 1.00000561327, 1.00001633397,...</td>\n",
       "      <td>2.008566e-07</td>\n",
       "    </tr>\n",
       "    <tr>\n",
       "      <th>Nelder-Mead</th>\n",
       "      <td>[0.999101151259, 0.998209232287, 0.99646345959...</td>\n",
       "      <td>6.617482e-05</td>\n",
       "    </tr>\n",
       "    <tr>\n",
       "      <th>COBYLA</th>\n",
       "      <td>[1.03328356885, 1.06781943615, 1.14060138059, ...</td>\n",
       "      <td>1.166637e-01</td>\n",
       "    </tr>\n",
       "  </tbody>\n",
       "</table>\n",
       "</div>"
      ],
      "text/plain": [
       "                                                             min     min_value\n",
       "Method                                                                        \n",
       "Powell                                 [1.0, 1.0, 1.0, 1.0, 1.0]  3.319898e-22\n",
       "CG             [1.00000000075, 1.00000001398, 1.00000003705, ...  1.111023e-13\n",
       "Basin Hopping  [1.00000000633, 1.00000004562, 1.00000011665, ...  6.196018e-13\n",
       "L-BFGS-B       [0.999999569191, 0.999999146161, 0.99999833610...  1.504062e-11\n",
       "BFGS           [0.999999305001, 0.999998588025, 0.99999718981...  4.205330e-11\n",
       "TNC            [0.999971153807, 0.999943162109, 0.9998872987,...  6.736061e-08\n",
       "SLSQP          [0.999981003037, 1.00000561327, 1.00001633397,...  2.008566e-07\n",
       "Nelder-Mead    [0.999101151259, 0.998209232287, 0.99646345959...  6.617482e-05\n",
       "COBYLA         [1.03328356885, 1.06781943615, 1.14060138059, ...  1.166637e-01"
      ]
     },
     "execution_count": 14,
     "metadata": {},
     "output_type": "execute_result"
    }
   ],
   "source": [
    "mins = [spo.minimize(my_rosen,[1.3, 0.7, 0.8, 1.9, 1.2],method=om) for om in opt_methods_no_Jacobian]\n",
    "res = basinhopping(my_rosen, [1.3, 0.7, 0.8, 1.9, 1.2], minimizer_kwargs={\"method\": \"BFGS\"},niter=200)\n",
    "min_df = pd.DataFrame({'Method' : opt_methods_no_Jacobian+['Basin Hopping'],\n",
    " 'min' : [m.x for m in mins]+[res.x], \n",
    "  'min_value': [rosen(m.x) for m in mins]+[rosen(res.x)]\n",
    "  }).set_index('Method')\n",
    "min_df.sort_values(by = 'min_value' , inplace=True)\n",
    "min_df"
   ]
  },
  {
   "cell_type": "markdown",
   "metadata": {},
   "source": [
    "We know that the global minima is (1,1,1,1) so we should not have sub-optimal solution requiring the constraints that \n",
    "the points must lie on the hyperplane identified by all vector components with same value, i.e. $x_1=x_2=x_3=x_4$ "
   ]
  },
  {
   "cell_type": "code",
   "execution_count": 15,
   "metadata": {
    "collapsed": false
   },
   "outputs": [],
   "source": [
    "def my_rosen(x,out_value=10e10,approx = 0.1):\n",
    "    \n",
    "    ## no negative values \n",
    "    if np.any(x<0.0):\n",
    "        return out_value\n",
    "    \n",
    "    ## x1 = x2 = x3 = x4 \n",
    "    if type(x) is list:\n",
    "        x = np.array(x)\n",
    "    if  np.absolute(x[0] - x[1])<approx and np.absolute(x[0] - x[2])<approx and np.absolute(x[0] - x[3])<approx and np.absolute(x[1] - x[2])<approx and np.absolute(x[1] - x[3])<approx and np.absolute(x[2] - x[3])<approx:\n",
    "        rosen(x)\n",
    "    else:\n",
    "        return out_value"
   ]
  },
  {
   "cell_type": "code",
   "execution_count": 16,
   "metadata": {
    "collapsed": false
   },
   "outputs": [
    {
     "data": {
      "text/html": [
       "<div>\n",
       "<table border=\"1\" class=\"dataframe\">\n",
       "  <thead>\n",
       "    <tr style=\"text-align: right;\">\n",
       "      <th></th>\n",
       "      <th>min</th>\n",
       "      <th>min_value</th>\n",
       "    </tr>\n",
       "    <tr>\n",
       "      <th>Method</th>\n",
       "      <th></th>\n",
       "      <th></th>\n",
       "    </tr>\n",
       "  </thead>\n",
       "  <tbody>\n",
       "    <tr>\n",
       "      <th>Nelder-Mead</th>\n",
       "      <td>[1.3, 0.7, 0.8, 1.9, 1.2]</td>\n",
       "      <td>848.220000</td>\n",
       "    </tr>\n",
       "    <tr>\n",
       "      <th>CG</th>\n",
       "      <td>[1.3, 0.7, 0.8, 1.9, 1.2]</td>\n",
       "      <td>848.220000</td>\n",
       "    </tr>\n",
       "    <tr>\n",
       "      <th>BFGS</th>\n",
       "      <td>[1.3, 0.7, 0.8, 1.9, 1.2]</td>\n",
       "      <td>848.220000</td>\n",
       "    </tr>\n",
       "    <tr>\n",
       "      <th>L-BFGS-B</th>\n",
       "      <td>[1.3, 0.7, 0.8, 1.9, 1.2]</td>\n",
       "      <td>848.220000</td>\n",
       "    </tr>\n",
       "    <tr>\n",
       "      <th>TNC</th>\n",
       "      <td>[1.3, 0.7, 0.8, 1.9, 1.2]</td>\n",
       "      <td>848.220000</td>\n",
       "    </tr>\n",
       "    <tr>\n",
       "      <th>COBYLA</th>\n",
       "      <td>[1.3, 0.7, 0.8, 1.9, 1.2]</td>\n",
       "      <td>848.220000</td>\n",
       "    </tr>\n",
       "    <tr>\n",
       "      <th>SLSQP</th>\n",
       "      <td>[1.3, 0.7, 0.8, 1.9, 1.2]</td>\n",
       "      <td>848.220000</td>\n",
       "    </tr>\n",
       "    <tr>\n",
       "      <th>Basin Hopping</th>\n",
       "      <td>[1.3, 0.7, 0.8, 1.9, 1.2]</td>\n",
       "      <td>848.220000</td>\n",
       "    </tr>\n",
       "    <tr>\n",
       "      <th>Powell</th>\n",
       "      <td>[3.88792896155, 3.28792896155, 3.38792896155, ...</td>\n",
       "      <td>51161.317214</td>\n",
       "    </tr>\n",
       "  </tbody>\n",
       "</table>\n",
       "</div>"
      ],
      "text/plain": [
       "                                                             min     min_value\n",
       "Method                                                                        \n",
       "Nelder-Mead                            [1.3, 0.7, 0.8, 1.9, 1.2]    848.220000\n",
       "CG                                     [1.3, 0.7, 0.8, 1.9, 1.2]    848.220000\n",
       "BFGS                                   [1.3, 0.7, 0.8, 1.9, 1.2]    848.220000\n",
       "L-BFGS-B                               [1.3, 0.7, 0.8, 1.9, 1.2]    848.220000\n",
       "TNC                                    [1.3, 0.7, 0.8, 1.9, 1.2]    848.220000\n",
       "COBYLA                                 [1.3, 0.7, 0.8, 1.9, 1.2]    848.220000\n",
       "SLSQP                                  [1.3, 0.7, 0.8, 1.9, 1.2]    848.220000\n",
       "Basin Hopping                          [1.3, 0.7, 0.8, 1.9, 1.2]    848.220000\n",
       "Powell         [3.88792896155, 3.28792896155, 3.38792896155, ...  51161.317214"
      ]
     },
     "execution_count": 16,
     "metadata": {},
     "output_type": "execute_result"
    }
   ],
   "source": [
    "mins = [spo.minimize(my_rosen,[1.3, 0.7, 0.8, 1.9, 1.2],method=om) for om in opt_methods_no_Jacobian]\n",
    "res = basinhopping(my_rosen, [1.3, 0.7, 0.8, 1.9, 1.2], minimizer_kwargs={\"method\": \"BFGS\"},niter=200)\n",
    "min_df = pd.DataFrame({'Method' : opt_methods_no_Jacobian+['Basin Hopping'],\n",
    " 'min' : [m.x for m in mins]+[res.x], \n",
    "  'min_value': [rosen(m.x) for m in mins]+[rosen(res.x)]\n",
    "  }).set_index('Method')\n",
    "min_df.sort_values(by = 'min_value' , inplace=True)\n",
    "min_df"
   ]
  },
  {
   "cell_type": "markdown",
   "metadata": {},
   "source": [
    "__We can see that no one handled this constraint properly__.\n",
    "\n",
    "We need to change approach restricting the list of methods to the ones able to handle constraints and bounds."
   ]
  },
  {
   "cell_type": "code",
   "execution_count": 17,
   "metadata": {
    "collapsed": false
   },
   "outputs": [
    {
     "data": {
      "text/html": [
       "<div>\n",
       "<table border=\"1\" class=\"dataframe\">\n",
       "  <thead>\n",
       "    <tr style=\"text-align: right;\">\n",
       "      <th></th>\n",
       "      <th>min</th>\n",
       "      <th>min_value</th>\n",
       "    </tr>\n",
       "    <tr>\n",
       "      <th>Method</th>\n",
       "      <th></th>\n",
       "      <th></th>\n",
       "    </tr>\n",
       "  </thead>\n",
       "  <tbody>\n",
       "    <tr>\n",
       "      <th>L-BFGS-B</th>\n",
       "      <td>[1.0, 1.0, 1.0, 1.0, 1.0]</td>\n",
       "      <td>0.000000e+00</td>\n",
       "    </tr>\n",
       "    <tr>\n",
       "      <th>TNC</th>\n",
       "      <td>[1.0, 1.0, 0.999999984865, 0.999999955943, 0.9...</td>\n",
       "      <td>4.725746e-14</td>\n",
       "    </tr>\n",
       "    <tr>\n",
       "      <th>SLSQP</th>\n",
       "      <td>[0.999992213548, 0.999987923136, 0.99999852996...</td>\n",
       "      <td>1.599157e-07</td>\n",
       "    </tr>\n",
       "  </tbody>\n",
       "</table>\n",
       "</div>"
      ],
      "text/plain": [
       "                                                        min     min_value\n",
       "Method                                                                   \n",
       "L-BFGS-B                          [1.0, 1.0, 1.0, 1.0, 1.0]  0.000000e+00\n",
       "TNC       [1.0, 1.0, 0.999999984865, 0.999999955943, 0.9...  4.725746e-14\n",
       "SLSQP     [0.999992213548, 0.999987923136, 0.99999852996...  1.599157e-07"
      ]
     },
     "execution_count": 17,
     "metadata": {},
     "output_type": "execute_result"
    }
   ],
   "source": [
    "opt_methods_no_Jacobian_bounds = ['SLSQP','L-BFGS-B','TNC']\n",
    "\n",
    "## handling bounds for SLSQP, L-BFGS-B, TNC\n",
    "bnds = ((0,1),(0,1),(0,1),(0,1),(0,1))\n",
    "mins = [spo.minimize(rosen,[1.3, 0.7, 0.8, 1.9, 1.2],method=om,bounds=bnds) for om in opt_methods_no_Jacobian_bounds]\n",
    "min_df = pd.DataFrame({'Method' : opt_methods_no_Jacobian_bounds,\n",
    " 'min' : [m.x for m in mins],\n",
    "  'min_value': [rosen(m.x) for m in mins]\n",
    "  }).set_index('Method')\n",
    "min_df.sort_values(by = 'min_value' , inplace=True)\n",
    "min_df"
   ]
  },
  {
   "cell_type": "code",
   "execution_count": 20,
   "metadata": {
    "collapsed": false
   },
   "outputs": [
    {
     "data": {
      "text/html": [
       "<div>\n",
       "<table border=\"1\" class=\"dataframe\">\n",
       "  <thead>\n",
       "    <tr style=\"text-align: right;\">\n",
       "      <th></th>\n",
       "      <th>min</th>\n",
       "      <th>min_value</th>\n",
       "    </tr>\n",
       "    <tr>\n",
       "      <th>Method</th>\n",
       "      <th></th>\n",
       "      <th></th>\n",
       "    </tr>\n",
       "  </thead>\n",
       "  <tbody>\n",
       "    <tr>\n",
       "      <th>SLSQP</th>\n",
       "      <td>[0.5, 0.7, 0.8, 0.7, 1.2]</td>\n",
       "      <td>81.1</td>\n",
       "    </tr>\n",
       "  </tbody>\n",
       "</table>\n",
       "</div>"
      ],
      "text/plain": [
       "                              min  min_value\n",
       "Method                                      \n",
       "SLSQP   [0.5, 0.7, 0.8, 0.7, 1.2]       81.1"
      ]
     },
     "execution_count": 20,
     "metadata": {},
     "output_type": "execute_result"
    }
   ],
   "source": [
    "## handling constraints for SLSQP (the only that seems to support constraints)\n",
    "cons = ({'type': 'eq','fun' : lambda x: np.array([x[0]- x[1]]),'jac' : lambda x: np.array([1,-1,0,0,0])},\n",
    "        {'type': 'eq','fun' : lambda x: np.array([x[0]- x[2]]),'jac' : lambda x: np.array([1,0,-1,0,0])}, \n",
    "        {'type': 'eq','fun' : lambda x: np.array([x[0]- x[3]]),'jac' : lambda x: np.array([1,0,0,-1,0])},\n",
    "        {'type': 'eq','fun' : lambda x: np.array([x[0]- x[4]]),'jac' : lambda x: np.array([1,0,0,0,-1])},\n",
    "        {'type': 'eq','fun' : lambda x: np.array([x[1]- x[2]]),'jac' : lambda x: np.array([0,1,-1,0,0])},\n",
    "        {'type': 'eq','fun' : lambda x: np.array([x[1]- x[3]]),'jac' : lambda x: np.array([0,1,0,-1,0])},\n",
    "        {'type': 'eq','fun' : lambda x: np.array([x[1]- x[4]]),'jac' : lambda x: np.array([0,1,0,0,-1])},\n",
    "        {'type': 'eq','fun' : lambda x: np.array([x[2]- x[3]]),'jac' : lambda x: np.array([0,0,1,-1,0])},\n",
    "        {'type': 'eq','fun' : lambda x: np.array([x[2]- x[4]]),'jac' : lambda x: np.array([0,0,1,0,-1])},\n",
    "        {'type': 'eq','fun' : lambda x: np.array([x[3]- x[4]]),'jac' : lambda x: np.array([0,0,0,1,-1])})\n",
    "\n",
    "bnds = ((0,1),(0,1),(0,1),(0,1),(0,1))\n",
    "mins = spo.minimize(rosen,[0.5, 0.7, 0.8, 0.7, 1.2],method='SLSQP',bounds=bnds,constraints=cons) \n",
    "min_df = pd.DataFrame({'Method' : 'SLSQP',\n",
    " 'min' : [mins.x] ,\n",
    " 'min_value': rosen(mins.x)\n",
    "  }).set_index('Method')\n",
    "min_df"
   ]
  },
  {
   "cell_type": "markdown",
   "metadata": {},
   "source": [
    "This is a very interesting and disastrous results. __The constraints leads us to a sub-optimal solution even \n",
    "if we know the optimal solution satisfies such contraint__.\n",
    "Let's try to release the contrant transorming it formn equalities to 1 disequality"
   ]
  },
  {
   "cell_type": "code",
   "execution_count": 21,
   "metadata": {
    "collapsed": false
   },
   "outputs": [
    {
     "data": {
      "text/html": [
       "<div>\n",
       "<table border=\"1\" class=\"dataframe\">\n",
       "  <thead>\n",
       "    <tr style=\"text-align: right;\">\n",
       "      <th></th>\n",
       "      <th>min</th>\n",
       "      <th>min_value</th>\n",
       "    </tr>\n",
       "    <tr>\n",
       "      <th>Method</th>\n",
       "      <th></th>\n",
       "      <th></th>\n",
       "    </tr>\n",
       "  </thead>\n",
       "  <tbody>\n",
       "    <tr>\n",
       "      <th>SLSQP</th>\n",
       "      <td>[0.961048879385, 0.923988082931, 0.85415761252...</td>\n",
       "      <td>0.101835</td>\n",
       "    </tr>\n",
       "  </tbody>\n",
       "</table>\n",
       "</div>"
      ],
      "text/plain": [
       "                                                      min  min_value\n",
       "Method                                                              \n",
       "SLSQP   [0.961048879385, 0.923988082931, 0.85415761252...   0.101835"
      ]
     },
     "execution_count": 21,
     "metadata": {},
     "output_type": "execute_result"
    }
   ],
   "source": [
    "cons = ({'type': 'ineq','fun' : lambda x: np.array(4-np.sum(np.array(x))),'jac' : lambda x: np.array([-1,-1,-1,-1,-1])})\n",
    "\n",
    "bnds = ((0,1),(0,1),(0,1),(0,1),(0,1))\n",
    "mins = spo.minimize(rosen,[0.5, 0.7, 0.8, 0.7, 1.2],method='SLSQP',bounds=bnds,constraints=cons) \n",
    "min_df = pd.DataFrame({'Method' : 'SLSQP',\n",
    " 'min' : [mins.x] ,\n",
    " 'min_value': rosen(mins.x)\n",
    "  }).set_index('Method')\n",
    "min_df"
   ]
  },
  {
   "cell_type": "markdown",
   "metadata": {},
   "source": [
    "Better ... even if not the optimal solution (1,1,1,1,1). This is pretty important for the use case of \n",
    "optimizing a portfolio. __We know that the sum of allocation percentages must be equal to 1, $\\sum{AP_i}=1$ \n",
    "Hence, it seems better to express such constraint as $\\sum{AP_i} \\leq 1$__\n",
    "\n",
    "We can see anyway that such result is much better than the one we get injecting such constraint \n",
    "directly inside the cost function as it often happens in literature"
   ]
  },
  {
   "cell_type": "code",
   "execution_count": 22,
   "metadata": {
    "collapsed": false
   },
   "outputs": [
    {
     "data": {
      "text/html": [
       "<div>\n",
       "<table border=\"1\" class=\"dataframe\">\n",
       "  <thead>\n",
       "    <tr style=\"text-align: right;\">\n",
       "      <th></th>\n",
       "      <th>min</th>\n",
       "      <th>min_value</th>\n",
       "    </tr>\n",
       "    <tr>\n",
       "      <th>Method</th>\n",
       "      <th></th>\n",
       "      <th></th>\n",
       "    </tr>\n",
       "  </thead>\n",
       "  <tbody>\n",
       "    <tr>\n",
       "      <th>Nelder-Mead</th>\n",
       "      <td>[1.3, 0.7, 0.8, 1.9, 1.2]</td>\n",
       "      <td>848.220000</td>\n",
       "    </tr>\n",
       "    <tr>\n",
       "      <th>CG</th>\n",
       "      <td>[1.3, 0.7, 0.8, 1.9, 1.2]</td>\n",
       "      <td>848.220000</td>\n",
       "    </tr>\n",
       "    <tr>\n",
       "      <th>BFGS</th>\n",
       "      <td>[1.3, 0.7, 0.8, 1.9, 1.2]</td>\n",
       "      <td>848.220000</td>\n",
       "    </tr>\n",
       "    <tr>\n",
       "      <th>L-BFGS-B</th>\n",
       "      <td>[1.3, 0.7, 0.8, 1.9, 1.2]</td>\n",
       "      <td>848.220000</td>\n",
       "    </tr>\n",
       "    <tr>\n",
       "      <th>TNC</th>\n",
       "      <td>[1.3, 0.7, 0.8, 1.9, 1.2]</td>\n",
       "      <td>848.220000</td>\n",
       "    </tr>\n",
       "    <tr>\n",
       "      <th>COBYLA</th>\n",
       "      <td>[1.3, 0.7, 0.8, 1.9, 1.2]</td>\n",
       "      <td>848.220000</td>\n",
       "    </tr>\n",
       "    <tr>\n",
       "      <th>SLSQP</th>\n",
       "      <td>[1.3, 0.7, 0.8, 1.9, 1.2]</td>\n",
       "      <td>848.220000</td>\n",
       "    </tr>\n",
       "    <tr>\n",
       "      <th>Basin Hopping</th>\n",
       "      <td>[1.3, 0.7, 0.8, 1.9, 1.2]</td>\n",
       "      <td>848.220000</td>\n",
       "    </tr>\n",
       "    <tr>\n",
       "      <th>Powell</th>\n",
       "      <td>[3.88792896155, 3.28792896155, 3.38792896155, ...</td>\n",
       "      <td>51161.317214</td>\n",
       "    </tr>\n",
       "  </tbody>\n",
       "</table>\n",
       "</div>"
      ],
      "text/plain": [
       "                                                             min     min_value\n",
       "Method                                                                        \n",
       "Nelder-Mead                            [1.3, 0.7, 0.8, 1.9, 1.2]    848.220000\n",
       "CG                                     [1.3, 0.7, 0.8, 1.9, 1.2]    848.220000\n",
       "BFGS                                   [1.3, 0.7, 0.8, 1.9, 1.2]    848.220000\n",
       "L-BFGS-B                               [1.3, 0.7, 0.8, 1.9, 1.2]    848.220000\n",
       "TNC                                    [1.3, 0.7, 0.8, 1.9, 1.2]    848.220000\n",
       "COBYLA                                 [1.3, 0.7, 0.8, 1.9, 1.2]    848.220000\n",
       "SLSQP                                  [1.3, 0.7, 0.8, 1.9, 1.2]    848.220000\n",
       "Basin Hopping                          [1.3, 0.7, 0.8, 1.9, 1.2]    848.220000\n",
       "Powell         [3.88792896155, 3.28792896155, 3.38792896155, ...  51161.317214"
      ]
     },
     "execution_count": 22,
     "metadata": {},
     "output_type": "execute_result"
    }
   ],
   "source": [
    "def my_rosen(x,out_value=10e10,approx = 0.1):\n",
    "    \n",
    "    ## no negative values \n",
    "    if np.any(x<0.0):\n",
    "        return out_value\n",
    "    \n",
    "    \n",
    "    if type(x) is list:\n",
    "        x = np.array(x)\n",
    "        \n",
    "    ## x1 = x2 = x3 = x4 \n",
    "    if  np.absolute(np.sum(x)-4)<approx:\n",
    "        rosen(x)\n",
    "    else:\n",
    "        return out_value\n",
    "    \n",
    "mins = [spo.minimize(my_rosen,[1.3, 0.7, 0.8, 1.9, 1.2],method=om) for om in opt_methods_no_Jacobian]\n",
    "res = basinhopping(my_rosen, [1.3, 0.7, 0.8, 1.9, 1.2], minimizer_kwargs={\"method\": \"BFGS\"},niter=200)\n",
    "min_df = pd.DataFrame({'Method' : opt_methods_no_Jacobian+['Basin Hopping'],\n",
    " 'min' : [m.x for m in mins]+[res.x], \n",
    "  'min_value': [rosen(m.x) for m in mins]+[rosen(res.x)]\n",
    "  }).set_index('Method')\n",
    "min_df.sort_values(by = 'min_value' , inplace=True)\n",
    "min_df"
   ]
  },
  {
   "cell_type": "markdown",
   "metadata": {},
   "source": [
    "Finally, let's see how __Basin Hopping behaves best working with bonds and constraints__.   "
   ]
  },
  {
   "cell_type": "code",
   "execution_count": 23,
   "metadata": {
    "collapsed": false
   },
   "outputs": [
    {
     "name": "stdout",
     "output_type": "stream",
     "text": [
      ">>> basinhopping min: [ 0.99999925  0.99999852  0.99999706  0.99999416  0.99998833] - min_value:4.58223880115e-11\n"
     ]
    }
   ],
   "source": [
    " class MyBounds(object):\n",
    "        def __init__(self, xmax=[1.0,1.0,1.0,1.0,1.0], xmin=[0,0,0,0,0] ):\n",
    "            self.xmax = np.array(xmax)\n",
    "            self.xmin = np.array(xmin)\n",
    "            \n",
    "        def __call__(self, **kwargs):\n",
    "            x = kwargs[\"x_new\"]\n",
    "            tmax = bool(np.all(x <= self.xmax))\n",
    "            tmin = bool(np.all(x >= self.xmin))\n",
    "            cons = bool(np.sum(x) <= 4)\n",
    "            return tmax and tmin and cons\n",
    "        \n",
    "mybounds = MyBounds()\n",
    "\n",
    "res = basinhopping(rosen, [1.3, 0.7, 0.8, 1.9, 1.2], minimizer_kwargs={\"method\": \"BFGS\"},\n",
    "                   niter=200,accept_test=mybounds)\n",
    "\n",
    "print(\">>> basinhopping min: \"+str(res.x)+\" - min_value:\"+str(rosen(res.x)))"
   ]
  },
  {
   "cell_type": "markdown",
   "metadata": {},
   "source": [
    "## Optimizing a portfolio \n",
    "\n",
    "For evaluating the performance of a portfolio key factors to focus on are \n",
    "1. __Cumulative return__ \n",
    "2. __Average daily return__ \n",
    "3. __Rsk__ (Standard deviation of daily return)\n",
    "4. __Sharpe ratio__ "
   ]
  },
  {
   "cell_type": "code",
   "execution_count": 25,
   "metadata": {
    "collapsed": false
   },
   "outputs": [],
   "source": [
    "import matplotlib.pyplot as plt\n",
    "import pandas.io.data as web\n",
    "\n",
    "def get_data(symbols, \n",
    "             add_ref=True,\n",
    "             data_source='yahoo',\n",
    "             price='Adj Close',\n",
    "             start='1/21/2010', \n",
    "             end='4/15/2016'):\n",
    "    \"\"\"Read stock data (adjusted close) for given symbols from.\"\"\"\n",
    "    \n",
    "    if add_ref and 'SPY' not in symbols:  # add SPY for reference, if absent\n",
    "        symbols.insert(0, 'SPY')\n",
    "\n",
    "    df = web.DataReader(symbols, \n",
    "                        data_source=data_source,\n",
    "                        start=start, \n",
    "                        end=end)\n",
    "    \n",
    "    return df[price,:,:]\n",
    "\n",
    "def compute_daily_returns(df):\n",
    "    \"\"\"Compute and return the daily return values.\"\"\"\n",
    "    # Note: Returned DataFrame must have the same number of rows\n",
    "    daily_returns = (df / df.shift(1)) - 1 \n",
    "    daily_returns.ix[0,:] = 0 \n",
    "    return daily_returns\n",
    "\n",
    "def fill_missing_values(df_data):\n",
    "    \"\"\"Fill missing values in data frame, in place.\"\"\"\n",
    "    df_data.fillna(method='ffill',inplace=True)\n",
    "    df_data.fillna(method='backfill',inplace=True)\n",
    "    return df_data\n",
    "\n",
    "def cumulative_returns(df):\n",
    "    return df/df.ix[0,:] - 1 \n",
    "\n",
    "\n",
    "df = fill_missing_values(get_data(symbols=['GOOG','SPY','IBM','GLD'],\n",
    "                             start='4/21/2015', \n",
    "                             end='7/15/2016'))\n",
    "\n",
    "dr = compute_daily_returns(df)"
   ]
  },
  {
   "cell_type": "markdown",
   "metadata": {},
   "source": [
    "### 1. Cumulative return "
   ]
  },
  {
   "cell_type": "code",
   "execution_count": 26,
   "metadata": {
    "collapsed": false
   },
   "outputs": [],
   "source": [
    "def cumulative_returns_obj(alloc,df=df):\n",
    "    \n",
    "    if type(alloc) is list:\n",
    "        alloc = np.array(alloc)\n",
    "    \n",
    "    cr = cumulative_returns(df).ix[-1,:]\n",
    "    \n",
    "    return -1 * np.dot(cr , alloc)"
   ]
  },
  {
   "cell_type": "code",
   "execution_count": 46,
   "metadata": {
    "collapsed": false
   },
   "outputs": [
    {
     "data": {
      "text/html": [
       "<div>\n",
       "<table border=\"1\" class=\"dataframe\">\n",
       "  <thead>\n",
       "    <tr style=\"text-align: right;\">\n",
       "      <th></th>\n",
       "      <th>allocation</th>\n",
       "      <th>portfolio cumul. ret</th>\n",
       "    </tr>\n",
       "    <tr>\n",
       "      <th>Asset</th>\n",
       "      <th></th>\n",
       "      <th></th>\n",
       "    </tr>\n",
       "  </thead>\n",
       "  <tbody>\n",
       "    <tr>\n",
       "      <th>GLD</th>\n",
       "      <td>1.443290e-15</td>\n",
       "      <td>0.348103</td>\n",
       "    </tr>\n",
       "    <tr>\n",
       "      <th>GOOG</th>\n",
       "      <td>1.000000e+00</td>\n",
       "      <td>0.348103</td>\n",
       "    </tr>\n",
       "    <tr>\n",
       "      <th>IBM</th>\n",
       "      <td>1.421426e-16</td>\n",
       "      <td>0.348103</td>\n",
       "    </tr>\n",
       "    <tr>\n",
       "      <th>SPY</th>\n",
       "      <td>4.077524e-16</td>\n",
       "      <td>0.348103</td>\n",
       "    </tr>\n",
       "  </tbody>\n",
       "</table>\n",
       "</div>"
      ],
      "text/plain": [
       "         allocation  portfolio cumul. ret\n",
       "Asset                                    \n",
       "GLD    1.443290e-15              0.348103\n",
       "GOOG   1.000000e+00              0.348103\n",
       "IBM    1.421426e-16              0.348103\n",
       "SPY    4.077524e-16              0.348103"
      ]
     },
     "execution_count": 46,
     "metadata": {},
     "output_type": "execute_result"
    }
   ],
   "source": [
    "cons = ({'type': 'ineq','fun' : lambda x: np.array(1-np.sum(np.array(x))),'jac' : lambda x: np.array([-1,-1,-1,-1])})\n",
    "\n",
    "bnds = ((0,1),(0,1),(0,1),(0,1))\n",
    "mins = spo.minimize(cumulative_returns_obj,[0.25, 0.25, 0.25, 0.25],method='SLSQP',bounds=bnds,constraints=cons) \n",
    "min_df = pd.DataFrame({'Asset' : df.columns,\n",
    " 'allocation' : mins.x ,\n",
    " 'portfolio cumul. ret': -1 * cumulative_returns_obj(mins.x)\n",
    "  }).set_index('Asset')\n",
    "min_df"
   ]
  },
  {
   "cell_type": "markdown",
   "metadata": {},
   "source": [
    "According to this allocation __all the money should be put on GOOG__ as it is expected as GOOG has the \n",
    "highest cumulative return. "
   ]
  },
  {
   "cell_type": "code",
   "execution_count": 34,
   "metadata": {
    "collapsed": false
   },
   "outputs": [
    {
     "data": {
      "text/plain": [
       "GLD     0.099324\n",
       "GOOG    0.348103\n",
       "IBM     0.017407\n",
       "SPY     0.057167\n",
       "Name: 2016-07-15 00:00:00, dtype: float64"
      ]
     },
     "execution_count": 34,
     "metadata": {},
     "output_type": "execute_result"
    }
   ],
   "source": [
    "cumulative_returns(df).ix[-1,:]"
   ]
  },
  {
   "cell_type": "markdown",
   "metadata": {},
   "source": [
    "As excercise, let's check if __Basin Hopping gets the same result__."
   ]
  },
  {
   "cell_type": "code",
   "execution_count": 35,
   "metadata": {
    "collapsed": false
   },
   "outputs": [],
   "source": [
    "class MyBoundsP(object):\n",
    "        def __init__(self, xmax=[1,1,1,1], xmin=[0,0,0,0] ):\n",
    "            self.xmax = np.array(xmax)\n",
    "            self.xmin = np.array(xmin)\n",
    "            \n",
    "        def __call__(self, **kwargs):\n",
    "            x = kwargs[\"x_new\"]\n",
    "            tmax = bool(np.all(np.array(x) <= self.xmax))\n",
    "            tmin = bool(np.all(np.array(x) >= self.xmin))\n",
    "            conss = bool( np.sum(np.array(x)) <= 1)\n",
    "            return tmax and tmin and conss"
   ]
  },
  {
   "cell_type": "code",
   "execution_count": 36,
   "metadata": {
    "collapsed": false
   },
   "outputs": [
    {
     "name": "stdout",
     "output_type": "stream",
     "text": [
      "at minimum -192692159.4246 accepted 0\n",
      "at minimum -192664467.7904 accepted 0\n",
      "at minimum -192644003.2324 accepted 0\n",
      "at minimum -192774921.6759 accepted 0\n",
      "at minimum -192633110.3483 accepted 0\n",
      "at minimum -192855427.2053 accepted 0\n",
      "at minimum -192715750.8904 accepted 0\n",
      "at minimum -192559382.1396 accepted 0\n",
      "at minimum -192685611.9210 accepted 0\n",
      "at minimum -192799277.9159 accepted 0\n",
      ">>> basinhopping max: [  1.42197728e+08   4.98364107e+08   2.49208056e+07   8.18440642e+07] - max_value:192718446.154\n"
     ]
    },
    {
     "data": {
      "text/plain": [
       "                        fun: -192718446.1542715\n",
       " lowest_optimization_result:       fun: -192718446.1542715\n",
       " hess_inv: array([[1, 0, 0, 0],\n",
       "       [0, 1, 0, 0],\n",
       "       [0, 0, 1, 0],\n",
       "       [0, 0, 0, 1]])\n",
       "      jac: array([ 0.,  0.,  0.,  0.])\n",
       "  message: 'Optimization terminated successfully.'\n",
       "     nfev: 102\n",
       "      nit: 1\n",
       "     njev: 17\n",
       "   status: 0\n",
       "  success: True\n",
       "        x: array([  1.42197728e+08,   4.98364107e+08,   2.49208056e+07,\n",
       "         8.18440642e+07])\n",
       "                    message: ['requested number of basinhopping iterations completed successfully']\n",
       "      minimization_failures: 0\n",
       "                       nfev: 162\n",
       "                        nit: 10\n",
       "                       njev: 27\n",
       "                          x: array([  1.42197728e+08,   4.98364107e+08,   2.49208056e+07,\n",
       "         8.18440642e+07])"
      ]
     },
     "execution_count": 36,
     "metadata": {},
     "output_type": "execute_result"
    }
   ],
   "source": [
    "myboundsp = MyBoundsP()\n",
    "\n",
    "def print_fun(x, f, accepted):\n",
    "    print(\"at minimum %.4f accepted %d\" % (f, int(accepted)))\n",
    "\n",
    "res = basinhopping(cumulative_returns_obj, [.25,0.25,0.25,0.25], minimizer_kwargs={\"method\": \"BFGS\"},\n",
    "                   niter=10,accept_test=myboundsp,callback=print_fun , T=-1.0, stepsize=-500000)\n",
    "\n",
    "print(\">>> basinhopping max: \"+str(res.x)+\" - max_value:\"+str(-1 * cumulative_returns_obj(res.x)))\n",
    "res"
   ]
  },
  {
   "cell_type": "markdown",
   "metadata": {},
   "source": [
    "This behaviour is __very disappointing__. It turns out that each iteration of basinhopping rejected the \n",
    "step but the __botton line is a crazy portfolio allocation__. In the following we discard this \n",
    "optimization method. "
   ]
  },
  {
   "cell_type": "markdown",
   "metadata": {},
   "source": [
    "### 2. Average daily return"
   ]
  },
  {
   "cell_type": "code",
   "execution_count": 43,
   "metadata": {
    "collapsed": true
   },
   "outputs": [],
   "source": [
    "def average_daily_return_obj(alloc,dr=dr):\n",
    "    \n",
    "    if type(alloc) is list:\n",
    "        alloc = np.array(alloc)\n",
    "    \n",
    "    return -100 * np.dot(dr.mean(),alloc)"
   ]
  },
  {
   "cell_type": "code",
   "execution_count": 47,
   "metadata": {
    "collapsed": false
   },
   "outputs": [
    {
     "data": {
      "text/html": [
       "<div>\n",
       "<table border=\"1\" class=\"dataframe\">\n",
       "  <thead>\n",
       "    <tr style=\"text-align: right;\">\n",
       "      <th></th>\n",
       "      <th>allocation</th>\n",
       "      <th>portfolio avg daily ret</th>\n",
       "    </tr>\n",
       "    <tr>\n",
       "      <th>Asset</th>\n",
       "      <th></th>\n",
       "      <th></th>\n",
       "    </tr>\n",
       "  </thead>\n",
       "  <tbody>\n",
       "    <tr>\n",
       "      <th>GLD</th>\n",
       "      <td>5.967449e-16</td>\n",
       "      <td>0.001113</td>\n",
       "    </tr>\n",
       "    <tr>\n",
       "      <th>GOOG</th>\n",
       "      <td>1.000000e+00</td>\n",
       "      <td>0.001113</td>\n",
       "    </tr>\n",
       "    <tr>\n",
       "      <th>IBM</th>\n",
       "      <td>2.432834e-16</td>\n",
       "      <td>0.001113</td>\n",
       "    </tr>\n",
       "    <tr>\n",
       "      <th>SPY</th>\n",
       "      <td>1.387779e-16</td>\n",
       "      <td>0.001113</td>\n",
       "    </tr>\n",
       "  </tbody>\n",
       "</table>\n",
       "</div>"
      ],
      "text/plain": [
       "         allocation  portfolio avg daily ret\n",
       "Asset                                       \n",
       "GLD    5.967449e-16                 0.001113\n",
       "GOOG   1.000000e+00                 0.001113\n",
       "IBM    2.432834e-16                 0.001113\n",
       "SPY    1.387779e-16                 0.001113"
      ]
     },
     "execution_count": 47,
     "metadata": {},
     "output_type": "execute_result"
    }
   ],
   "source": [
    "cons = ({'type': 'ineq','fun' : lambda x: np.array(1-np.sum(np.array(x))),'jac' : lambda x: np.array([-1,-1,-1,-1])})\n",
    "\n",
    "bnds = ((0,1),(0,1),(0,1),(0,1))\n",
    "mins = spo.minimize(average_daily_return_obj,[0.25, 0.25, 0.25, 0.25],method='SLSQP',bounds=bnds,constraints=cons) \n",
    "min_df = pd.DataFrame({'Asset' : df.columns,\n",
    " 'allocation' : mins.x ,\n",
    " 'portfolio avg daily ret': -1 * average_daily_return_obj(mins.x)/100\n",
    "  }).set_index('Asset')\n",
    "min_df"
   ]
  },
  {
   "cell_type": "markdown",
   "metadata": {},
   "source": [
    "According to this allocation all the money should be put on GOOG as it is expected as \n",
    "GOOG has the highest average daily return. Notice that __we needed to multiply for 100 for handling \n",
    " numerical problems__"
   ]
  },
  {
   "cell_type": "code",
   "execution_count": 50,
   "metadata": {
    "collapsed": false
   },
   "outputs": [
    {
     "data": {
      "text/plain": [
       "GLD     0.000352\n",
       "GOOG    0.001113\n",
       "IBM     0.000155\n",
       "SPY     0.000229\n",
       "dtype: float64"
      ]
     },
     "execution_count": 50,
     "metadata": {},
     "output_type": "execute_result"
    }
   ],
   "source": [
    "dr.mean()"
   ]
  },
  {
   "cell_type": "markdown",
   "metadata": {},
   "source": [
    "### 3. Rsk (Standard deviation of daily return)"
   ]
  },
  {
   "cell_type": "code",
   "execution_count": 51,
   "metadata": {
    "collapsed": true
   },
   "outputs": [],
   "source": [
    "def std_daily_return_obj(alloc,dr=dr):\n",
    "    \n",
    "    if type(alloc) is list:\n",
    "        alloc = np.array(alloc)\n",
    "    \n",
    "    return 10000000 * np.dot(dr.std(),alloc)"
   ]
  },
  {
   "cell_type": "code",
   "execution_count": 53,
   "metadata": {
    "collapsed": false
   },
   "outputs": [
    {
     "data": {
      "text/html": [
       "<div>\n",
       "<table border=\"1\" class=\"dataframe\">\n",
       "  <thead>\n",
       "    <tr style=\"text-align: right;\">\n",
       "      <th></th>\n",
       "      <th>allocation</th>\n",
       "      <th>portfolio risk</th>\n",
       "    </tr>\n",
       "    <tr>\n",
       "      <th>Asset</th>\n",
       "      <th></th>\n",
       "      <th></th>\n",
       "    </tr>\n",
       "  </thead>\n",
       "  <tbody>\n",
       "    <tr>\n",
       "      <th>GLD</th>\n",
       "      <td>1.0</td>\n",
       "      <td>0.010003</td>\n",
       "    </tr>\n",
       "    <tr>\n",
       "      <th>GOOG</th>\n",
       "      <td>0.0</td>\n",
       "      <td>0.010003</td>\n",
       "    </tr>\n",
       "    <tr>\n",
       "      <th>IBM</th>\n",
       "      <td>0.0</td>\n",
       "      <td>0.010003</td>\n",
       "    </tr>\n",
       "    <tr>\n",
       "      <th>SPY</th>\n",
       "      <td>0.0</td>\n",
       "      <td>0.010003</td>\n",
       "    </tr>\n",
       "  </tbody>\n",
       "</table>\n",
       "</div>"
      ],
      "text/plain": [
       "       allocation  portfolio risk\n",
       "Asset                            \n",
       "GLD           1.0        0.010003\n",
       "GOOG          0.0        0.010003\n",
       "IBM           0.0        0.010003\n",
       "SPY           0.0        0.010003"
      ]
     },
     "execution_count": 53,
     "metadata": {},
     "output_type": "execute_result"
    }
   ],
   "source": [
    "cons = ({'type': 'eq','fun' : lambda x: np.array(1-np.sum(np.array(x))),'jac' : lambda x: np.array([-1,-1,-1,-1])})\n",
    "bnds = ((0,1),(0,1),(0,1),(0,1))\n",
    "mins = spo.minimize(std_daily_return_obj,[0.25, 0.25, 0.25, 0.25],method='SLSQP',bounds=bnds,constraints=cons) \n",
    "min_df = pd.DataFrame({'Asset' : df.columns,\n",
    " 'allocation' : mins.x ,\n",
    " 'portfolio risk': std_daily_return_obj(mins.x) / 10000000\n",
    "  }).set_index('Asset')\n",
    "min_df "
   ]
  },
  {
   "cell_type": "markdown",
   "metadata": {},
   "source": [
    "__In order to make the optmizer get the rigth solution we had to multiply \n",
    "by 10000000, i.e. all the money on GLD.   \n",
    "Otherwise ~50% of the money should have gone on GLD and 50% on SPY. This is a sub-optimal solution \n",
    "beacuse we know that GLD has the minimum risk.__ "
   ]
  },
  {
   "cell_type": "code",
   "execution_count": 54,
   "metadata": {
    "collapsed": false
   },
   "outputs": [
    {
     "data": {
      "text/plain": [
       "GLD     0.010003\n",
       "GOOG    0.018065\n",
       "IBM     0.014062\n",
       "SPY     0.010117\n",
       "dtype: float64"
      ]
     },
     "execution_count": 54,
     "metadata": {},
     "output_type": "execute_result"
    }
   ],
   "source": [
    "dr.std()"
   ]
  },
  {
   "cell_type": "markdown",
   "metadata": {},
   "source": [
    "### 4. Sharpe ratio"
   ]
  },
  {
   "cell_type": "code",
   "execution_count": 73,
   "metadata": {
    "collapsed": true
   },
   "outputs": [],
   "source": [
    "def sharpe_ratio_obj(alloc,dr=dr,sample_freq='d',risk_free_rate=0.0):\n",
    "    \n",
    "    if type(alloc) is list:\n",
    "        alloc = np.array(alloc)\n",
    "    \n",
    "    sr = ( np.sum(alloc * dr,axis=1) - risk_free_rate).mean() / np.sum(alloc * dr,axis=1).std()\n",
    "    \n",
    "    if sample_freq == 'd':\n",
    "        sr = sr * np.sqrt(252)\n",
    "    elif sample_freq == 'w':\n",
    "        sr = sr * np.sqrt(52)\n",
    "    elif sample_freq == 'm':\n",
    "        sr = sr * np.sqrt(12)\n",
    "    else:\n",
    "        raise Exception('unkown sample frequency :'+str(sample_freq))\n",
    "            \n",
    "    return -1*sr"
   ]
  },
  {
   "cell_type": "code",
   "execution_count": 76,
   "metadata": {
    "collapsed": false
   },
   "outputs": [
    {
     "data": {
      "text/html": [
       "<div>\n",
       "<table border=\"1\" class=\"dataframe\">\n",
       "  <thead>\n",
       "    <tr style=\"text-align: right;\">\n",
       "      <th></th>\n",
       "      <th>max_point</th>\n",
       "      <th>max_value</th>\n",
       "    </tr>\n",
       "    <tr>\n",
       "      <th>Asset</th>\n",
       "      <th></th>\n",
       "      <th></th>\n",
       "    </tr>\n",
       "  </thead>\n",
       "  <tbody>\n",
       "    <tr>\n",
       "      <th>GLD</th>\n",
       "      <td>5.543488e-01</td>\n",
       "      <td>0.06883</td>\n",
       "    </tr>\n",
       "    <tr>\n",
       "      <th>GOOG</th>\n",
       "      <td>4.429360e-01</td>\n",
       "      <td>0.06883</td>\n",
       "    </tr>\n",
       "    <tr>\n",
       "      <th>IBM</th>\n",
       "      <td>2.499626e-17</td>\n",
       "      <td>0.06883</td>\n",
       "    </tr>\n",
       "    <tr>\n",
       "      <th>SPY</th>\n",
       "      <td>0.000000e+00</td>\n",
       "      <td>0.06883</td>\n",
       "    </tr>\n",
       "  </tbody>\n",
       "</table>\n",
       "</div>"
      ],
      "text/plain": [
       "          max_point  max_value\n",
       "Asset                         \n",
       "GLD    5.543488e-01    0.06883\n",
       "GOOG   4.429360e-01    0.06883\n",
       "IBM    2.499626e-17    0.06883\n",
       "SPY    0.000000e+00    0.06883"
      ]
     },
     "execution_count": 76,
     "metadata": {},
     "output_type": "execute_result"
    }
   ],
   "source": [
    "cons = ({'type': 'ineq','fun' : lambda x: np.array(1-np.sum(np.array(x))),'jac' : lambda x: np.array([-1,-1,-1,-1])})\n",
    "\n",
    "bnds = ((0,1),(0,1),(0,1),(0,1))\n",
    "mins = spo.minimize(sharpe_ratio_obj,[0.25, 0.25, 0.25, 0.25],method='SLSQP',bounds=bnds,constraints=cons) \n",
    "min_df = pd.DataFrame({'Asset' : df.columns,\n",
    " 'max_point' : mins.x,\n",
    " 'max_value': -1 * average_daily_return_obj(mins.x)\n",
    "  }).set_index('Asset')\n",
    "min_df"
   ]
  },
  {
   "cell_type": "markdown",
   "metadata": {},
   "source": [
    "__According to this allocation ~50% of the money should be put on GLD and 50% on GOOG__"
   ]
  }
 ],
 "metadata": {
  "kernelspec": {
   "display_name": "Python 3",
   "language": "python",
   "name": "python3"
  },
  "language_info": {
   "codemirror_mode": {
    "name": "ipython",
    "version": 3
   },
   "file_extension": ".py",
   "mimetype": "text/x-python",
   "name": "python",
   "nbconvert_exporter": "python",
   "pygments_lexer": "ipython3",
   "version": "3.5.2"
  }
 },
 "nbformat": 4,
 "nbformat_minor": 1
}
