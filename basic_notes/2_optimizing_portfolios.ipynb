{
 "cells": [
  {
   "cell_type": "markdown",
   "metadata": {},
   "source": [
    "# Optimizing Portfolios\n"
   ]
  },
  {
   "cell_type": "markdown",
   "metadata": {
    "collapsed": true
   },
   "source": [
    "## Python optimizers\n",
    "\n",
    "Optimizers is one of the most important library of a Machine Learning (ML) framowork. Most of ML models are \n",
    "formuled as an optimization problems, i.e. minimizing a given cost function. Historically, __Gradient Descent__ was one \n",
    "of the first optmization methods used for accomplishing such task. \n",
    "\n",
    "__Gradient Descent__ is based on the observation that if a \n",
    "multivariate function $f()$ is defined and differentiable in a neighborhood of a given point $a$ then for $\\alpha$ small \n",
    "enough  \n",
    "\n",
    "$$f(a) \\geq f \\big( a-\\alpha \\bigtriangledown f(a) \\big)$$\n",
    "\n",
    "and if $$f(a) = f\\big( a-\\alpha \\bigtriangledown f(a) \\big)$$ if and only if $\\alpha=0$ then $a$ is a __local minimum__. Also, \n",
    "__if $f()$ is a convex function__ then $a$ is also a __global minimum__. \n",
    "\n",
    "One of the main problems with __Gradient Descent__ is that it needs for each iteration you to provide $\\alpha$ also \n",
    "known as __learning rate__. If $\\alpha$ is too small you are going to converge too slowly. On the other hand, if $\\alpha$\n",
    "is too large you might diverge from the local optimum. \n",
    "\n",
    "There are more sophisticated algorithms than Gradient Descent that are able to select the best learning \n",
    "rate automatically and, hence, for which you only need to provide \n",
    "* $f()$, i.e. the cost-function  \n",
    "* $\\bigtriangledown f()$, i.e. the gradient \n",
    "\n",
    "The most popular of these algorithms are \n",
    "* [Conjugate Gradient](https://en.wikipedia.org/wiki/Conjugate_gradient_method)\n",
    "* [BFGS](https://en.wikipedia.org/wiki/Broyden%E2%80%93Fletcher%E2%80%93Goldfarb%E2%80%93Shanno_algorithm)\n",
    "* [L-BFGS](https://en.wikipedia.org/wiki/Limited-memory_BFGS)\n",
    "\n",
    "Python offers the package [scipy.optimize](http://docs.scipy.org/doc/scipy/reference/optimize.html) \n",
    "where to minimize a function the following methods are available:\n",
    "* minimize(method=’Nelder-Mead’), usually applied to nonlinear optimization problems \n",
    "for which derivatives may not be known \n",
    "* minimize(method=’Powell’), usually applied to functions that need not be differentiable, \n",
    "and no derivatives are taken\n",
    "* minimize(method=’CG’), a.k.a. _Conjugate Gradient_ (see above)\n",
    "* minimize(method=’BFGS’), see above \n",
    "* minimize(method=’Newton-CG’), variant of Conjugate Gradient\n",
    "* minimize(method=’L-BFGS-B’), see above L-BFGS\n",
    "* minimize(method=’TNC’)\n",
    "* minimize(method=’COBYLA’), i.e. _Constrained optimization by linear approximation_  is \n",
    "a numerical optimization method for constrained problems where the derivative of the \n",
    "objective function is not known, invented by Michael J. D. Powell.\n",
    "* minimize(method=’SLSQP’), i.e. _Sequential quadratic programming_ is an \n",
    "iterative method for nonlinear optimization.\n",
    "* minimize(method=’dogleg’)\n",
    "* minimize(method=’trust-ncg’)\n",
    "\n",
    "Let's see these algorithms in action.  \n",
    "\n",
    "### Parabola\n"
   ]
  },
  {
   "cell_type": "code",
   "execution_count": 294,
   "metadata": {
    "collapsed": false
   },
   "outputs": [
    {
     "data": {
      "text/html": [
       "<div>\n",
       "<table border=\"1\" class=\"dataframe\">\n",
       "  <thead>\n",
       "    <tr style=\"text-align: right;\">\n",
       "      <th></th>\n",
       "      <th>min</th>\n",
       "    </tr>\n",
       "    <tr>\n",
       "      <th>Method</th>\n",
       "      <th></th>\n",
       "    </tr>\n",
       "  </thead>\n",
       "  <tbody>\n",
       "    <tr>\n",
       "      <th>Nelder-Mead</th>\n",
       "      <td>[2.00002441406]</td>\n",
       "    </tr>\n",
       "    <tr>\n",
       "      <th>Powell</th>\n",
       "      <td>1.9999999999683606</td>\n",
       "    </tr>\n",
       "    <tr>\n",
       "      <th>CG</th>\n",
       "      <td>[1.99]</td>\n",
       "    </tr>\n",
       "    <tr>\n",
       "      <th>BFGS</th>\n",
       "      <td>[1.99999999056]</td>\n",
       "    </tr>\n",
       "    <tr>\n",
       "      <th>L-BFGS-B</th>\n",
       "      <td>[2.0]</td>\n",
       "    </tr>\n",
       "    <tr>\n",
       "      <th>TNC</th>\n",
       "      <td>[2.00000000168]</td>\n",
       "    </tr>\n",
       "    <tr>\n",
       "      <th>COBYLA</th>\n",
       "      <td>2.0001</td>\n",
       "    </tr>\n",
       "    <tr>\n",
       "      <th>SLSQP</th>\n",
       "      <td>[2.0]</td>\n",
       "    </tr>\n",
       "  </tbody>\n",
       "</table>\n",
       "</div>"
      ],
      "text/plain": [
       "                            min\n",
       "Method                         \n",
       "Nelder-Mead     [2.00002441406]\n",
       "Powell       1.9999999999683606\n",
       "CG                       [1.99]\n",
       "BFGS            [1.99999999056]\n",
       "L-BFGS-B                  [2.0]\n",
       "TNC             [2.00000000168]\n",
       "COBYLA                   2.0001\n",
       "SLSQP                     [2.0]"
      ]
     },
     "execution_count": 294,
     "metadata": {},
     "output_type": "execute_result"
    }
   ],
   "source": [
    "import pandas as pd \n",
    "import numpy as np\n",
    "import matplotlib.pyplot as plt\n",
    "import scipy.optimize as spo \n",
    "\n",
    "\n",
    "def parab(X):\n",
    "    ## X = 2 is the min\n",
    "    Y = (X - 2)**2 + 1.5 \n",
    "    return Y\n",
    "\n",
    "initial_guess = 3\n",
    "opt_methods_no_Jacobian = ['Nelder-Mead','Powell','CG','BFGS','L-BFGS-B','TNC','COBYLA','SLSQP']\n",
    "mins = [spo.minimize(parab,initial_guess,method=om,) for om in opt_methods_no_Jacobian]\n",
    "\n",
    "min_df = pd.DataFrame({'Method' : opt_methods_no_Jacobian,\n",
    " 'min' : [m.x for m in mins]\n",
    "  }).set_index('Method')\n",
    "min_df"
   ]
  },
  {
   "cell_type": "code",
   "execution_count": 295,
   "metadata": {
    "collapsed": false
   },
   "outputs": [
    {
     "data": {
      "image/png": "[encoded data removed]",
      "text/plain": [
       "<matplotlib.figure.Figure at 0x11528d0f0>"
      ]
     },
     "metadata": {},
     "output_type": "display_data"
    }
   ],
   "source": [
    "def plot_mins(f,min_df,xmin=-5,xmax=5,ticks=1000,title='',xguess=3,legend_pos='upper left'):\n",
    "    x = np.linspace(xmin, xmax, ticks)\n",
    "    y = f(x)\n",
    "    \n",
    "    plt.plot(x, y ,color='b')\n",
    "    \n",
    "    plt.plot(min_df, f(min_df),'g',linewidth=13,marker=\"+\",label='solutions')\n",
    "    \n",
    "    plt.plot(xguess, f(xguess),'black',linewidth=13,marker=\"*\",label='initial guess')\n",
    "    \n",
    "    plt.axis([xmin-1, xmax+1, y.min()-1, y.max()+1])\n",
    "    \n",
    "    plt.title(title)\n",
    "    \n",
    "    plt.grid(True)\n",
    "    plt.legend(loc=legend_pos)\n",
    "    \n",
    "    plt.show()\n",
    "    \n",
    "    \n",
    "plot_mins(f=parab,min_df=min_df,xmin=-3,xmax=8,title='Parabola')"
   ]
  },
  {
   "cell_type": "markdown",
   "metadata": {},
   "source": [
    "### Non-Convex example"
   ]
  },
  {
   "cell_type": "code",
   "execution_count": 296,
   "metadata": {
    "collapsed": false
   },
   "outputs": [
    {
     "data": {
      "text/html": [
       "<div>\n",
       "<table border=\"1\" class=\"dataframe\">\n",
       "  <thead>\n",
       "    <tr style=\"text-align: right;\">\n",
       "      <th></th>\n",
       "      <th>min</th>\n",
       "    </tr>\n",
       "    <tr>\n",
       "      <th>Method</th>\n",
       "      <th></th>\n",
       "    </tr>\n",
       "  </thead>\n",
       "  <tbody>\n",
       "    <tr>\n",
       "      <th>Nelder-Mead</th>\n",
       "      <td>[4.5]</td>\n",
       "    </tr>\n",
       "    <tr>\n",
       "      <th>Powell</th>\n",
       "      <td>7.087928961545842</td>\n",
       "    </tr>\n",
       "    <tr>\n",
       "      <th>CG</th>\n",
       "      <td>[4.5]</td>\n",
       "    </tr>\n",
       "    <tr>\n",
       "      <th>BFGS</th>\n",
       "      <td>[4.5]</td>\n",
       "    </tr>\n",
       "    <tr>\n",
       "      <th>L-BFGS-B</th>\n",
       "      <td>[4.5]</td>\n",
       "    </tr>\n",
       "    <tr>\n",
       "      <th>TNC</th>\n",
       "      <td>[4.5]</td>\n",
       "    </tr>\n",
       "    <tr>\n",
       "      <th>COBYLA</th>\n",
       "      <td>4.5</td>\n",
       "    </tr>\n",
       "    <tr>\n",
       "      <th>SLSQP</th>\n",
       "      <td>[4.5]</td>\n",
       "    </tr>\n",
       "  </tbody>\n",
       "</table>\n",
       "</div>"
      ],
      "text/plain": [
       "                           min\n",
       "Method                        \n",
       "Nelder-Mead              [4.5]\n",
       "Powell       7.087928961545842\n",
       "CG                       [4.5]\n",
       "BFGS                     [4.5]\n",
       "L-BFGS-B                 [4.5]\n",
       "TNC                      [4.5]\n",
       "COBYLA                     4.5\n",
       "SLSQP                    [4.5]"
      ]
     },
     "execution_count": 296,
     "metadata": {},
     "output_type": "execute_result"
    }
   ],
   "source": [
    "def non_convex_1(X):\n",
    "    if type(X) is float:\n",
    "        if X <=0 or X >=4:\n",
    "            return 5.5\n",
    "        else: \n",
    "            return (X - 2)**2 + 1.5 \n",
    "    else:\n",
    "        Y = (X - 2)**2 + 1.5 \n",
    "        Y[np.logical_or(X <= 0 , X >=4)] = 5.5\n",
    "        return Y\n",
    "\n",
    "initial_guess = 4.5\n",
    "mins = [spo.minimize(non_convex_1,initial_guess,method=om,) for om in opt_methods_no_Jacobian]\n",
    "\n",
    "min_df = pd.DataFrame({'Method' : opt_methods_no_Jacobian,\n",
    " 'min' : [m.x for m in mins]\n",
    "  }).set_index('Method')\n",
    "min_df"
   ]
  },
  {
   "cell_type": "code",
   "execution_count": 297,
   "metadata": {
    "collapsed": false
   },
   "outputs": [
    {
     "data": {
      "image/png": "[encoded data removed]",
      "text/plain": [
       "<matplotlib.figure.Figure at 0x116635208>"
      ]
     },
     "metadata": {},
     "output_type": "display_data"
    }
   ],
   "source": [
    "plot_mins(f=non_convex_1,min_df=min_df,xmin=-2,xmax=9,title='Non-Convex example N.1 - initial guess = 4.5',\n",
    "          xguess=4.5,legend_pos='lower right')"
   ]
  },
  {
   "cell_type": "code",
   "execution_count": 298,
   "metadata": {
    "collapsed": false
   },
   "outputs": [
    {
     "data": {
      "text/html": [
       "<div>\n",
       "<table border=\"1\" class=\"dataframe\">\n",
       "  <thead>\n",
       "    <tr style=\"text-align: right;\">\n",
       "      <th></th>\n",
       "      <th>min</th>\n",
       "    </tr>\n",
       "    <tr>\n",
       "      <th>Method</th>\n",
       "      <th></th>\n",
       "    </tr>\n",
       "  </thead>\n",
       "  <tbody>\n",
       "    <tr>\n",
       "      <th>Nelder-Mead</th>\n",
       "      <td>[1.99998779297]</td>\n",
       "    </tr>\n",
       "    <tr>\n",
       "      <th>Powell</th>\n",
       "      <td>1.9999999999683606</td>\n",
       "    </tr>\n",
       "    <tr>\n",
       "      <th>CG</th>\n",
       "      <td>[1.99999984958]</td>\n",
       "    </tr>\n",
       "    <tr>\n",
       "      <th>BFGS</th>\n",
       "      <td>[2.00000003039]</td>\n",
       "    </tr>\n",
       "    <tr>\n",
       "      <th>L-BFGS-B</th>\n",
       "      <td>[1.99999996669]</td>\n",
       "    </tr>\n",
       "    <tr>\n",
       "      <th>TNC</th>\n",
       "      <td>[1.99999999867]</td>\n",
       "    </tr>\n",
       "    <tr>\n",
       "      <th>COBYLA</th>\n",
       "      <td>1.99989765625</td>\n",
       "    </tr>\n",
       "    <tr>\n",
       "      <th>SLSQP</th>\n",
       "      <td>[2.0]</td>\n",
       "    </tr>\n",
       "  </tbody>\n",
       "</table>\n",
       "</div>"
      ],
      "text/plain": [
       "                            min\n",
       "Method                         \n",
       "Nelder-Mead     [1.99998779297]\n",
       "Powell       1.9999999999683606\n",
       "CG              [1.99999984958]\n",
       "BFGS            [2.00000003039]\n",
       "L-BFGS-B        [1.99999996669]\n",
       "TNC             [1.99999999867]\n",
       "COBYLA            1.99989765625\n",
       "SLSQP                     [2.0]"
      ]
     },
     "execution_count": 298,
     "metadata": {},
     "output_type": "execute_result"
    }
   ],
   "source": [
    "initial_guess = 3.9\n",
    "mins = [spo.minimize(non_convex_1,initial_guess,method=om,) for om in opt_methods_no_Jacobian]\n",
    "\n",
    "min_df = pd.DataFrame({'Method' : opt_methods_no_Jacobian,\n",
    " 'min' : [m.x for m in mins]\n",
    "  }).set_index('Method')\n",
    "min_df"
   ]
  },
  {
   "cell_type": "code",
   "execution_count": 299,
   "metadata": {
    "collapsed": false
   },
   "outputs": [
    {
     "data": {
      "image/png": "[encoded data removed]",
      "text/plain": [
       "<matplotlib.figure.Figure at 0x11661c6a0>"
      ]
     },
     "metadata": {},
     "output_type": "display_data"
    }
   ],
   "source": [
    "plot_mins(f=non_convex_1,min_df=min_df,xmin=-2,xmax=9,title='Non-Convex example N.1 - initial guess = 3.9',\n",
    "          xguess=3.9,legend_pos='lower right')"
   ]
  },
  {
   "cell_type": "markdown",
   "metadata": {},
   "source": [
    "The problem with such __function__ is the fact it is __not convex__. Hence, starting from initial guess \n",
    "x = 3.9 the above optimizers are able to find the global minimum. On the contrary, starting from initial guess x = 4.5 \n",
    "no optmizer is able to find the global minimum. \n",
    "\n",
    "### Basin Hopping and Simulated Annealing\n",
    "For solving this optimization problem we need something more than the above optmiziation methods. \n",
    "For instance, __simulated annealing__ is one of the most widely used algorithms for finding the global minimum \n",
    "of a multivariable function for different complex systems. In __scipy.optimize__ __simulated annealing__ has been \n",
    "replaced by __Basin Hopping__ that is a global optimization framework  \n",
    "particularly suited for multivariable multimodal optimization problems "
   ]
  },
  {
   "cell_type": "code",
   "execution_count": 300,
   "metadata": {
    "collapsed": false
   },
   "outputs": [],
   "source": [
    "from scipy.optimize import basinhopping\n",
    "res = basinhopping(non_convex_1, 4.5, minimizer_kwargs={\"method\": \"BFGS\"},niter=200)"
   ]
  },
  {
   "cell_type": "code",
   "execution_count": 301,
   "metadata": {
    "collapsed": false
   },
   "outputs": [
    {
     "data": {
      "text/plain": [
       "array([ 2.00000001])"
      ]
     },
     "execution_count": 301,
     "metadata": {},
     "output_type": "execute_result"
    }
   ],
   "source": [
    "res.x"
   ]
  },
  {
   "cell_type": "markdown",
   "metadata": {},
   "source": [
    "We can see that Basin Hopping is able to find the global minimum instead of previous methods. "
   ]
  },
  {
   "cell_type": "markdown",
   "metadata": {},
   "source": [
    "### More dimensions, contraints and bounds  "
   ]
  },
  {
   "cell_type": "markdown",
   "metadata": {},
   "source": [
    "Let us consider the problem of minimizing the Rosenbrock function. \n",
    "This function (and its respective derivatives) is implemented in rosen"
   ]
  },
  {
   "cell_type": "code",
   "execution_count": 302,
   "metadata": {
    "collapsed": true
   },
   "outputs": [],
   "source": [
    "from scipy.optimize import minimize, rosen, rosen_der"
   ]
  },
  {
   "cell_type": "code",
   "execution_count": 307,
   "metadata": {
    "collapsed": false
   },
   "outputs": [
    {
     "data": {
      "text/html": [
       "<div>\n",
       "<table border=\"1\" class=\"dataframe\">\n",
       "  <thead>\n",
       "    <tr style=\"text-align: right;\">\n",
       "      <th></th>\n",
       "      <th>min</th>\n",
       "      <th>min_value</th>\n",
       "    </tr>\n",
       "    <tr>\n",
       "      <th>Method</th>\n",
       "      <th></th>\n",
       "      <th></th>\n",
       "    </tr>\n",
       "  </thead>\n",
       "  <tbody>\n",
       "    <tr>\n",
       "      <th>Powell</th>\n",
       "      <td>[1.0, 1.0, 1.0, 1.0, 1.0]</td>\n",
       "      <td>1.696763e-22</td>\n",
       "    </tr>\n",
       "    <tr>\n",
       "      <th>L-BFGS-B</th>\n",
       "      <td>[0.999999569191, 0.999999146161, 0.99999833610...</td>\n",
       "      <td>1.504062e-11</td>\n",
       "    </tr>\n",
       "    <tr>\n",
       "      <th>BFGS</th>\n",
       "      <td>[0.999999245546, 0.999998516729, 0.99999706458...</td>\n",
       "      <td>4.582239e-11</td>\n",
       "    </tr>\n",
       "    <tr>\n",
       "      <th>CG</th>\n",
       "      <td>[0.999998258204, 0.99999652201, 0.99999303492,...</td>\n",
       "      <td>2.587047e-10</td>\n",
       "    </tr>\n",
       "    <tr>\n",
       "      <th>SLSQP</th>\n",
       "      <td>[0.999996799614, 0.999995480491, 0.99999335775...</td>\n",
       "      <td>2.434160e-09</td>\n",
       "    </tr>\n",
       "    <tr>\n",
       "      <th>TNC</th>\n",
       "      <td>[0.999971153807, 0.999943162109, 0.9998872987,...</td>\n",
       "      <td>6.736061e-08</td>\n",
       "    </tr>\n",
       "    <tr>\n",
       "      <th>Nelder-Mead</th>\n",
       "      <td>[0.999101151259, 0.998209232287, 0.99646345959...</td>\n",
       "      <td>6.617482e-05</td>\n",
       "    </tr>\n",
       "    <tr>\n",
       "      <th>COBYLA</th>\n",
       "      <td>[1.03328356885, 1.06781943615, 1.14060138059, ...</td>\n",
       "      <td>1.166637e-01</td>\n",
       "    </tr>\n",
       "  </tbody>\n",
       "</table>\n",
       "</div>"
      ],
      "text/plain": [
       "                                                           min     min_value\n",
       "Method                                                                      \n",
       "Powell                               [1.0, 1.0, 1.0, 1.0, 1.0]  1.696763e-22\n",
       "L-BFGS-B     [0.999999569191, 0.999999146161, 0.99999833610...  1.504062e-11\n",
       "BFGS         [0.999999245546, 0.999998516729, 0.99999706458...  4.582239e-11\n",
       "CG           [0.999998258204, 0.99999652201, 0.99999303492,...  2.587047e-10\n",
       "SLSQP        [0.999996799614, 0.999995480491, 0.99999335775...  2.434160e-09\n",
       "TNC          [0.999971153807, 0.999943162109, 0.9998872987,...  6.736061e-08\n",
       "Nelder-Mead  [0.999101151259, 0.998209232287, 0.99646345959...  6.617482e-05\n",
       "COBYLA       [1.03328356885, 1.06781943615, 1.14060138059, ...  1.166637e-01"
      ]
     },
     "execution_count": 307,
     "metadata": {},
     "output_type": "execute_result"
    }
   ],
   "source": [
    "mins = [spo.minimize(rosen,[1.3, 0.7, 0.8, 1.9, 1.2],method=om,) for om in opt_methods_no_Jacobian]\n",
    "\n",
    "min_df = pd.DataFrame({'Method' : opt_methods_no_Jacobian,\n",
    " 'min' : [m.x for m in mins], \n",
    "  'min_value': [rosen(m.x) for m in mins]\n",
    "  }).set_index('Method')\n",
    "min_df.sort_values(by = 'min_value' , inplace=True)\n",
    "min_df"
   ]
  },
  {
   "cell_type": "markdown",
   "metadata": {},
   "source": [
    "We can see that all optimizers provide close minima although __Powell__ makes a better job this time. \n",
    "Let's test __Basin Hopping__"
   ]
  },
  {
   "cell_type": "code",
   "execution_count": 311,
   "metadata": {
    "collapsed": false
   },
   "outputs": [
    {
     "name": "stdout",
     "output_type": "stream",
     "text": [
      ">>> basinhopping min: [ 0.99999973  0.99999939  0.99999878  0.99999759  0.99999519] - min_value:8.36187470659e-12\n"
     ]
    }
   ],
   "source": [
    "res = basinhopping(rosen, [1.3, 0.7, 0.8, 1.9, 1.2], minimizer_kwargs={\"method\": \"BFGS\"},niter=200)\n",
    "print(\">>> basinhopping min: \"+str(res.x)+\" - min_value:\"+str(rosen(res.x)))"
   ]
  },
  {
   "cell_type": "markdown",
   "metadata": {},
   "source": [
    "Pretty close the other ones. \n",
    "Let's concatenate results. "
   ]
  },
  {
   "cell_type": "code",
   "execution_count": 312,
   "metadata": {
    "collapsed": false
   },
   "outputs": [
    {
     "data": {
      "text/html": [
       "<div>\n",
       "<table border=\"1\" class=\"dataframe\">\n",
       "  <thead>\n",
       "    <tr style=\"text-align: right;\">\n",
       "      <th></th>\n",
       "      <th>min</th>\n",
       "      <th>min_value</th>\n",
       "    </tr>\n",
       "    <tr>\n",
       "      <th>Method</th>\n",
       "      <th></th>\n",
       "      <th></th>\n",
       "    </tr>\n",
       "  </thead>\n",
       "  <tbody>\n",
       "    <tr>\n",
       "      <th>Powell</th>\n",
       "      <td>[1.0, 1.0, 1.0, 1.0, 1.0]</td>\n",
       "      <td>1.696763e-22</td>\n",
       "    </tr>\n",
       "    <tr>\n",
       "      <th>Basin Hopping</th>\n",
       "      <td>[0.999999730064, 0.999999391769, 0.99999877674...</td>\n",
       "      <td>8.361875e-12</td>\n",
       "    </tr>\n",
       "    <tr>\n",
       "      <th>L-BFGS-B</th>\n",
       "      <td>[0.999999569191, 0.999999146161, 0.99999833610...</td>\n",
       "      <td>1.504062e-11</td>\n",
       "    </tr>\n",
       "    <tr>\n",
       "      <th>BFGS</th>\n",
       "      <td>[0.999999245546, 0.999998516729, 0.99999706458...</td>\n",
       "      <td>4.582239e-11</td>\n",
       "    </tr>\n",
       "    <tr>\n",
       "      <th>CG</th>\n",
       "      <td>[0.999998258204, 0.99999652201, 0.99999303492,...</td>\n",
       "      <td>2.587047e-10</td>\n",
       "    </tr>\n",
       "    <tr>\n",
       "      <th>SLSQP</th>\n",
       "      <td>[0.999996799614, 0.999995480491, 0.99999335775...</td>\n",
       "      <td>2.434160e-09</td>\n",
       "    </tr>\n",
       "    <tr>\n",
       "      <th>TNC</th>\n",
       "      <td>[0.999971153807, 0.999943162109, 0.9998872987,...</td>\n",
       "      <td>6.736061e-08</td>\n",
       "    </tr>\n",
       "    <tr>\n",
       "      <th>Nelder-Mead</th>\n",
       "      <td>[0.999101151259, 0.998209232287, 0.99646345959...</td>\n",
       "      <td>6.617482e-05</td>\n",
       "    </tr>\n",
       "    <tr>\n",
       "      <th>COBYLA</th>\n",
       "      <td>[1.03328356885, 1.06781943615, 1.14060138059, ...</td>\n",
       "      <td>1.166637e-01</td>\n",
       "    </tr>\n",
       "  </tbody>\n",
       "</table>\n",
       "</div>"
      ],
      "text/plain": [
       "                                                             min     min_value\n",
       "Method                                                                        \n",
       "Powell                                 [1.0, 1.0, 1.0, 1.0, 1.0]  1.696763e-22\n",
       "Basin Hopping  [0.999999730064, 0.999999391769, 0.99999877674...  8.361875e-12\n",
       "L-BFGS-B       [0.999999569191, 0.999999146161, 0.99999833610...  1.504062e-11\n",
       "BFGS           [0.999999245546, 0.999998516729, 0.99999706458...  4.582239e-11\n",
       "CG             [0.999998258204, 0.99999652201, 0.99999303492,...  2.587047e-10\n",
       "SLSQP          [0.999996799614, 0.999995480491, 0.99999335775...  2.434160e-09\n",
       "TNC            [0.999971153807, 0.999943162109, 0.9998872987,...  6.736061e-08\n",
       "Nelder-Mead    [0.999101151259, 0.998209232287, 0.99646345959...  6.617482e-05\n",
       "COBYLA         [1.03328356885, 1.06781943615, 1.14060138059, ...  1.166637e-01"
      ]
     },
     "execution_count": 312,
     "metadata": {},
     "output_type": "execute_result"
    }
   ],
   "source": [
    "min_df = pd.DataFrame({'Method' : opt_methods_no_Jacobian+['Basin Hopping'],\n",
    " 'min' : [m.x for m in mins]+[res.x], \n",
    "  'min_value': [rosen(m.x) for m in mins]+[rosen(res.x)]\n",
    "  }).set_index('Method')\n",
    "min_df.sort_values(by = 'min_value' , inplace=True)\n",
    "min_df"
   ]
  },
  {
   "cell_type": "markdown",
   "metadata": {},
   "source": [
    "### Bounds\n",
    "\n",
    "Let's say variables must be not negative. \n",
    "As there are methods (e.g. Nelder-Mead) that cannot handle constraints nor bounds we use a different approach. \n",
    "We modify the cost function so that if constraints or bounds don't hold a very large value is returned. "
   ]
  },
  {
   "cell_type": "code",
   "execution_count": 326,
   "metadata": {
    "collapsed": false
   },
   "outputs": [],
   "source": [
    "def my_rosen(x,out_value=10e10):\n",
    "    \n",
    "    ## no negative values \n",
    "    if np.any(x<0.0):\n",
    "        return out_value\n",
    "    \n",
    "    return rosen(x)"
   ]
  },
  {
   "cell_type": "code",
   "execution_count": 330,
   "metadata": {
    "collapsed": false
   },
   "outputs": [
    {
     "data": {
      "text/html": [
       "<div>\n",
       "<table border=\"1\" class=\"dataframe\">\n",
       "  <thead>\n",
       "    <tr style=\"text-align: right;\">\n",
       "      <th></th>\n",
       "      <th>min</th>\n",
       "      <th>min_value</th>\n",
       "    </tr>\n",
       "    <tr>\n",
       "      <th>Method</th>\n",
       "      <th></th>\n",
       "      <th></th>\n",
       "    </tr>\n",
       "  </thead>\n",
       "  <tbody>\n",
       "    <tr>\n",
       "      <th>Powell</th>\n",
       "      <td>[1.0, 1.0, 1.0, 1.0, 1.0]</td>\n",
       "      <td>3.319898e-22</td>\n",
       "    </tr>\n",
       "    <tr>\n",
       "      <th>CG</th>\n",
       "      <td>[1.00000000075, 1.00000001398, 1.00000003705, ...</td>\n",
       "      <td>1.111023e-13</td>\n",
       "    </tr>\n",
       "    <tr>\n",
       "      <th>Basin Hopping</th>\n",
       "      <td>[0.999999740044, 0.999999617752, 0.99999920757...</td>\n",
       "      <td>1.167208e-11</td>\n",
       "    </tr>\n",
       "    <tr>\n",
       "      <th>L-BFGS-B</th>\n",
       "      <td>[0.999999569191, 0.999999146161, 0.99999833610...</td>\n",
       "      <td>1.504062e-11</td>\n",
       "    </tr>\n",
       "    <tr>\n",
       "      <th>BFGS</th>\n",
       "      <td>[0.999999305001, 0.999998588025, 0.99999718981...</td>\n",
       "      <td>4.205330e-11</td>\n",
       "    </tr>\n",
       "    <tr>\n",
       "      <th>TNC</th>\n",
       "      <td>[0.999971153807, 0.999943162109, 0.9998872987,...</td>\n",
       "      <td>6.736061e-08</td>\n",
       "    </tr>\n",
       "    <tr>\n",
       "      <th>SLSQP</th>\n",
       "      <td>[0.999981003037, 1.00000561327, 1.00001633397,...</td>\n",
       "      <td>2.008566e-07</td>\n",
       "    </tr>\n",
       "    <tr>\n",
       "      <th>Nelder-Mead</th>\n",
       "      <td>[0.999101151259, 0.998209232287, 0.99646345959...</td>\n",
       "      <td>6.617482e-05</td>\n",
       "    </tr>\n",
       "    <tr>\n",
       "      <th>COBYLA</th>\n",
       "      <td>[1.03328356885, 1.06781943615, 1.14060138059, ...</td>\n",
       "      <td>1.166637e-01</td>\n",
       "    </tr>\n",
       "  </tbody>\n",
       "</table>\n",
       "</div>"
      ],
      "text/plain": [
       "                                                             min     min_value\n",
       "Method                                                                        \n",
       "Powell                                 [1.0, 1.0, 1.0, 1.0, 1.0]  3.319898e-22\n",
       "CG             [1.00000000075, 1.00000001398, 1.00000003705, ...  1.111023e-13\n",
       "Basin Hopping  [0.999999740044, 0.999999617752, 0.99999920757...  1.167208e-11\n",
       "L-BFGS-B       [0.999999569191, 0.999999146161, 0.99999833610...  1.504062e-11\n",
       "BFGS           [0.999999305001, 0.999998588025, 0.99999718981...  4.205330e-11\n",
       "TNC            [0.999971153807, 0.999943162109, 0.9998872987,...  6.736061e-08\n",
       "SLSQP          [0.999981003037, 1.00000561327, 1.00001633397,...  2.008566e-07\n",
       "Nelder-Mead    [0.999101151259, 0.998209232287, 0.99646345959...  6.617482e-05\n",
       "COBYLA         [1.03328356885, 1.06781943615, 1.14060138059, ...  1.166637e-01"
      ]
     },
     "execution_count": 330,
     "metadata": {},
     "output_type": "execute_result"
    }
   ],
   "source": [
    "mins = [spo.minimize(my_rosen,[1.3, 0.7, 0.8, 1.9, 1.2],method=om,) for om in opt_methods_no_Jacobian]\n",
    "\n",
    "min_df = pd.DataFrame({'Method' : opt_methods_no_Jacobian,\n",
    " 'min' : [m.x for m in mins], \n",
    "  'min_value': [rosen(m.x) for m in mins]\n",
    "  }).set_index('Method')\n",
    "min_df.sort_values(by = 'min_value' , inplace=True)\n",
    "res = basinhopping(my_rosen, [1.3, 0.7, 0.8, 1.9, 1.2], minimizer_kwargs={\"method\": \"BFGS\"},niter=200)\n",
    "min_df = pd.DataFrame({'Method' : opt_methods_no_Jacobian+['Basin Hopping'],\n",
    " 'min' : [m.x for m in mins]+[res.x], \n",
    "  'min_value': [rosen(m.x) for m in mins]+[rosen(res.x)]\n",
    "  }).set_index('Method')\n",
    "min_df.sort_values(by = 'min_value' , inplace=True)\n",
    "min_df"
   ]
  },
  {
   "cell_type": "markdown",
   "metadata": {},
   "source": [
    "We know that the global minima is (1,1,1,1) so we should not have sub-optimal solution requiring the constraints that \n",
    "the points must lie on the hyperplane identified by all vector components with same value, i.e. $x_1=x_2=x_3=x_4$ "
   ]
  },
  {
   "cell_type": "code",
   "execution_count": 382,
   "metadata": {
    "collapsed": false
   },
   "outputs": [],
   "source": [
    "def my_rosen(x,out_value=10e10,approx = 0.1):\n",
    "    \n",
    "    ## no negative values \n",
    "    if np.any(x<0.0):\n",
    "        return out_value\n",
    "    \n",
    "    ## x1 = x2 = x3 = x4 \n",
    "    if type(x) is list:\n",
    "        x = np.array(x)\n",
    "    if  np.absolute(x[0] - x[1])<approx and np.absolute(x[0] - x[2])<approx and np.absolute(x[0] - x[3])<approx and np.absolute(x[1] - x[2])<approx and np.absolute(x[1] - x[3])<approx and np.absolute(x[2] - x[3])<approx:\n",
    "        rosen(x)\n",
    "    else:\n",
    "        return out_value"
   ]
  },
  {
   "cell_type": "code",
   "execution_count": 383,
   "metadata": {
    "collapsed": false
   },
   "outputs": [
    {
     "data": {
      "text/html": [
       "<div>\n",
       "<table border=\"1\" class=\"dataframe\">\n",
       "  <thead>\n",
       "    <tr style=\"text-align: right;\">\n",
       "      <th></th>\n",
       "      <th>min</th>\n",
       "      <th>min_value</th>\n",
       "    </tr>\n",
       "    <tr>\n",
       "      <th>Method</th>\n",
       "      <th></th>\n",
       "      <th></th>\n",
       "    </tr>\n",
       "  </thead>\n",
       "  <tbody>\n",
       "    <tr>\n",
       "      <th>Nelder-Mead</th>\n",
       "      <td>[1.3, 0.7, 0.8, 1.9, 1.2]</td>\n",
       "      <td>848.220000</td>\n",
       "    </tr>\n",
       "    <tr>\n",
       "      <th>CG</th>\n",
       "      <td>[1.3, 0.7, 0.8, 1.9, 1.2]</td>\n",
       "      <td>848.220000</td>\n",
       "    </tr>\n",
       "    <tr>\n",
       "      <th>BFGS</th>\n",
       "      <td>[1.3, 0.7, 0.8, 1.9, 1.2]</td>\n",
       "      <td>848.220000</td>\n",
       "    </tr>\n",
       "    <tr>\n",
       "      <th>L-BFGS-B</th>\n",
       "      <td>[1.3, 0.7, 0.8, 1.9, 1.2]</td>\n",
       "      <td>848.220000</td>\n",
       "    </tr>\n",
       "    <tr>\n",
       "      <th>TNC</th>\n",
       "      <td>[1.3, 0.7, 0.8, 1.9, 1.2]</td>\n",
       "      <td>848.220000</td>\n",
       "    </tr>\n",
       "    <tr>\n",
       "      <th>COBYLA</th>\n",
       "      <td>[1.3, 0.7, 0.8, 1.9, 1.2]</td>\n",
       "      <td>848.220000</td>\n",
       "    </tr>\n",
       "    <tr>\n",
       "      <th>SLSQP</th>\n",
       "      <td>[1.3, 0.7, 0.8, 1.9, 1.2]</td>\n",
       "      <td>848.220000</td>\n",
       "    </tr>\n",
       "    <tr>\n",
       "      <th>Basin Hopping</th>\n",
       "      <td>[1.3, 0.7, 0.8, 1.9, 1.2]</td>\n",
       "      <td>848.220000</td>\n",
       "    </tr>\n",
       "    <tr>\n",
       "      <th>Powell</th>\n",
       "      <td>[3.88792896155, 3.28792896155, 3.38792896155, ...</td>\n",
       "      <td>51161.317214</td>\n",
       "    </tr>\n",
       "  </tbody>\n",
       "</table>\n",
       "</div>"
      ],
      "text/plain": [
       "                                                             min     min_value\n",
       "Method                                                                        \n",
       "Nelder-Mead                            [1.3, 0.7, 0.8, 1.9, 1.2]    848.220000\n",
       "CG                                     [1.3, 0.7, 0.8, 1.9, 1.2]    848.220000\n",
       "BFGS                                   [1.3, 0.7, 0.8, 1.9, 1.2]    848.220000\n",
       "L-BFGS-B                               [1.3, 0.7, 0.8, 1.9, 1.2]    848.220000\n",
       "TNC                                    [1.3, 0.7, 0.8, 1.9, 1.2]    848.220000\n",
       "COBYLA                                 [1.3, 0.7, 0.8, 1.9, 1.2]    848.220000\n",
       "SLSQP                                  [1.3, 0.7, 0.8, 1.9, 1.2]    848.220000\n",
       "Basin Hopping                          [1.3, 0.7, 0.8, 1.9, 1.2]    848.220000\n",
       "Powell         [3.88792896155, 3.28792896155, 3.38792896155, ...  51161.317214"
      ]
     },
     "execution_count": 383,
     "metadata": {},
     "output_type": "execute_result"
    }
   ],
   "source": [
    "mins = [spo.minimize(my_rosen,[1.3, 0.7, 0.8, 1.9, 1.2],method=om,) for om in opt_methods_no_Jacobian]\n",
    "\n",
    "min_df = pd.DataFrame({'Method' : opt_methods_no_Jacobian,\n",
    " 'min' : [m.x for m in mins], \n",
    "  'min_value': [rosen(m.x) for m in mins]\n",
    "  }).set_index('Method')\n",
    "min_df.sort_values(by = 'min_value' , inplace=True)\n",
    "res = basinhopping(my_rosen, [1.3, 0.7, 0.8, 1.9, 1.2], minimizer_kwargs={\"method\": \"BFGS\"},niter=200)\n",
    "min_df = pd.DataFrame({'Method' : opt_methods_no_Jacobian+['Basin Hopping'],\n",
    " 'min' : [m.x for m in mins]+[res.x], \n",
    "  'min_value': [rosen(m.x) for m in mins]+[rosen(res.x)]\n",
    "  }).set_index('Method')\n",
    "min_df.sort_values(by = 'min_value' , inplace=True)\n",
    "min_df"
   ]
  },
  {
   "cell_type": "markdown",
   "metadata": {},
   "source": [
    "__We can see that no one handled this constraint properly__.\n",
    "\n",
    "We need to change approach restricting the list of methods to the ones able to handle constraints and bounds."
   ]
  }
 ],
 "metadata": {
  "kernelspec": {
   "display_name": "Python 3",
   "language": "python",
   "name": "python3"
  },
  "language_info": {
   "codemirror_mode": {
    "name": "ipython",
    "version": 3
   },
   "file_extension": ".py",
   "mimetype": "text/x-python",
   "name": "python",
   "nbconvert_exporter": "python",
   "pygments_lexer": "ipython3",
   "version": "3.5.2"
  }
 },
 "nbformat": 4,
 "nbformat_minor": 1
}
