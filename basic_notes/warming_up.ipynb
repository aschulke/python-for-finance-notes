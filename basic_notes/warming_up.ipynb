{
 "cells": [
  {
   "cell_type": "markdown",
   "metadata": {
    "collapsed": true
   },
   "source": [
    "## Value of an European Call Option\n",
    "\n",
    "The [Black-Scholes-Merton](https://en.wikipedia.org/wiki/Black%E2%80%93Scholes_model) model is a \n",
    "mathematical model applicable in financial markets containing derivative investment instruments for \n",
    "the theoretical estimation of European-style options' price. According to such model, \n",
    "__the index level at maturity__ of a call option can be modeled as it follows with z normally distributed\n",
    "\n",
    "$$S_T(z)=S_0e^{(r-0.5\\sigma^2)T+\\sigma\\sqrt{T}z}$$\n",
    "\n",
    "where \n",
    "* $S_0$ is the initial stock index level\n",
    "* K is the strike price of the European call option\n",
    "* T is the Time-to-maturity in year \n",
    "* r is the riskless short rate \n",
    "* $\\sigma^2$ is the volatility\n",
    "\n",
    "Let's assume the following values \n",
    "* $S_0 = 105$\n",
    "* K = 109 \n",
    "* T = 1 \n",
    "* r = 6% \n",
    "* $\\sigma^2$ = 22%\n",
    "\n",
    "In order to calculate the present value of the call option, it is possible to apply a Monte Carlo approach\n",
    "according to the following procedure: \n",
    "* Let's consider R realizations of the random variable z from a standard normal distribution \n",
    "* Compute related index levels at maturity $S_T(i)$ for $z(i)\\in\\{1,2,...,R\\}$ \n",
    "* Compute the call option value $h_T(i)=\\max{(S_T(i)–K,0)}$. \n",
    "* Compute the __present value__ of the call option, i.e. \n",
    "\n",
    "$$C_0=e^{-rT}{R}^{-1}\\sum_{i=1}^{R} h_T{(i)}$$\n",
    "\n"
   ]
  },
  {
   "cell_type": "code",
   "execution_count": 59,
   "metadata": {
    "collapsed": true
   },
   "outputs": [],
   "source": [
    "import numpy as np\n",
    "\n",
    "def bsm(S0,r,sigma,T,K,R = 100000 , seed=500):\n",
    "    np.random.seed(seed)\n",
    "    z = np.random.standard_normal(R) \n",
    "    ST = S0 * np.exp(( r - 0.5 * sigma ** 2) * T + sigma * np.sqrt(T) * z)\n",
    "    hT = np.maximum(ST - K, 0)\n",
    "    C0 = np.exp(-r * T) * np.sum(hT) / R\n",
    "    return C0"
   ]
  },
  {
   "cell_type": "code",
   "execution_count": 60,
   "metadata": {
    "collapsed": false
   },
   "outputs": [
    {
     "name": "stdout",
     "output_type": "stream",
     "text": [
      "Value of European Call Option: 10.31 - time[0.009614 secs]\n"
     ]
    }
   ],
   "source": [
    "import time\n",
    "tm = time.time()\n",
    "C0 = bsm(S0=105,r=0.06,sigma=0.22,T=1.0,K=109,R = 100000 , seed=500)\n",
    "pm = time.time() - tm\n",
    "print(\"Value of European Call Option: {0:.4g}\".format(C0)+\" - time[{0:.4g} secs]\".format(pm))"
   ]
  },
  {
   "cell_type": "markdown",
   "metadata": {},
   "source": [
    "Let's see how much time is necessary for 70,000,000 iterations intead of 100,000 iterations. "
   ]
  },
  {
   "cell_type": "code",
   "execution_count": 61,
   "metadata": {
    "collapsed": false
   },
   "outputs": [
    {
     "name": "stdout",
     "output_type": "stream",
     "text": [
      "Value of European Call Option: 10.32 - time[6.338 secs]\n"
     ]
    }
   ],
   "source": [
    "tm = time.time()\n",
    "C0 = bsm(S0=105,r=0.06,sigma=0.22,T=1.0,K=109,R = 70000000 , seed=500)\n",
    "pm = time.time() - tm\n",
    "print(\"Value of European Call Option: {0:.4g}\".format(C0)+\" - time[{0:.4g} secs]\".format(pm))"
   ]
  },
  {
   "cell_type": "markdown",
   "metadata": {},
   "source": [
    "Let's see how we can speed up the computation with the __numexpr__ package. "
   ]
  },
  {
   "cell_type": "code",
   "execution_count": 62,
   "metadata": {
    "collapsed": false
   },
   "outputs": [],
   "source": [
    "import numexpr as ne\n",
    "def bsm_ne(S0,r,sigma,T,K,R = 70000000 , seed=500):\n",
    "    np.random.seed(seed)\n",
    "    z = np.random.standard_normal(R) \n",
    "    ST = ne.evaluate('S0 * exp(( r - 0.5 * sigma ** 2) * T + sigma * sqrt(T) * z)')\n",
    "    hT = np.maximum(ST - K, 0)\n",
    "    C0 = np.exp(-r * T) * np.sum(hT) / R\n",
    "    return C0"
   ]
  },
  {
   "cell_type": "code",
   "execution_count": 63,
   "metadata": {
    "collapsed": false
   },
   "outputs": [
    {
     "name": "stdout",
     "output_type": "stream",
     "text": [
      "Value of the European Call Option: 10.32 - time[4.34 secs]\n"
     ]
    }
   ],
   "source": [
    "tm = time.time()\n",
    "C0 = bsm_ne(S0=105,r=0.06,sigma=0.22,T=1.0,K=109,R = 70000000 , seed=500)\n",
    "pm = time.time() - tm\n",
    "print(\"Value of the European Call Option: {0:.4g}\".format(C0)+\" - time[{0:.4g} secs]\".format(pm))"
   ]
  },
  {
   "cell_type": "markdown",
   "metadata": {},
   "source": [
    "## Plotting the return of a stock \n",
    "\n",
    "The __daily return__ of a stock is easily computable as it follows  $$dr(t)=\\frac{P(t)}{P(t-1)}-1$$\n",
    "Similarly, the __cumulative return__ of a stock  is easily computable as it follows $$cr(t)=\\frac{P(t)}{P(0)}-1$$\n",
    "What is it P(t)? There are basically 2 options for this value, i.e. \n",
    "* the __adjusted close price__ of a stock typically indicated in financial feed as __Adj Close__, or \n",
    "* the __close price__ of a stock typically indicated in financial feed as __Adj__. \n",
    "\n",
    "We take the __adjusted close price__ \n",
    "(see [What Hedge Funds Really Do](https://www.amazon.com/What-Hedge-Funds-Really-Introduction-ebook/dp/B00MYFT0TQ#nav-subnav)\n",
    "to understand why).                                     \n",
    "   \n",
    " \n",
    "### Get financial data \n",
    "Functions from __pandas.io.data__ and __pandas.io.ga__ extract data from various Internet sources into a __DataFrame__\n",
    "The following sources are supported:\n",
    "\n",
    "* Yahoo! Finance\n",
    "* Google Finance\n",
    "* St.Louis FED (FRED)\n",
    "* Kenneth French’s data library\n",
    "* World Bank\n",
    "* Google Analytics\n",
    "\n",
    "For further info see [pandas documentation](http://pandas.pydata.org/pandas-docs/stable/remote_data.html)"
   ]
  },
  {
   "cell_type": "code",
   "execution_count": 104,
   "metadata": {
    "collapsed": false
   },
   "outputs": [
    {
     "name": "stdout",
     "output_type": "stream",
     "text": [
      "<class 'pandas.core.panel.Panel'>\n",
      "Dimensions: 6 (items) x 1570 (major_axis) x 2 (minor_axis)\n",
      "Items axis: Open to Adj Close\n",
      "Major_axis axis: 2010-01-21 00:00:00 to 2016-04-15 00:00:00\n",
      "Minor_axis axis: GOOG to SPY\n",
      "(6, 1570, 2)\n"
     ]
    }
   ],
   "source": [
    "import numpy as np\n",
    "import pandas as pd\n",
    "import pandas.io.data as web\n",
    "\n",
    "\n",
    "symbols = ['GOOG','SPY']\n",
    "df_final = web.DataReader(symbols, data_source='yahoo',\n",
    "                      start='1/21/2010', end='4/15/2016')\n",
    "\n",
    "print(df_final)\n",
    "print(df_final.shape)"
   ]
  },
  {
   "cell_type": "code",
   "execution_count": 105,
   "metadata": {
    "collapsed": false
   },
   "outputs": [
    {
     "data": {
      "text/html": [
       "<div>\n",
       "<table border=\"1\" class=\"dataframe\">\n",
       "  <thead>\n",
       "    <tr style=\"text-align: right;\">\n",
       "      <th></th>\n",
       "      <th>Open</th>\n",
       "      <th>High</th>\n",
       "      <th>Low</th>\n",
       "      <th>Close</th>\n",
       "      <th>Volume</th>\n",
       "      <th>Adj Close</th>\n",
       "    </tr>\n",
       "    <tr>\n",
       "      <th>Date</th>\n",
       "      <th></th>\n",
       "      <th></th>\n",
       "      <th></th>\n",
       "      <th></th>\n",
       "      <th></th>\n",
       "      <th></th>\n",
       "    </tr>\n",
       "  </thead>\n",
       "  <tbody>\n",
       "    <tr>\n",
       "      <th>2010-01-21</th>\n",
       "      <td>113.919998</td>\n",
       "      <td>114.269997</td>\n",
       "      <td>111.559998</td>\n",
       "      <td>111.699997</td>\n",
       "      <td>344859600.0</td>\n",
       "      <td>97.864196</td>\n",
       "    </tr>\n",
       "    <tr>\n",
       "      <th>2010-01-22</th>\n",
       "      <td>111.199997</td>\n",
       "      <td>111.739998</td>\n",
       "      <td>109.089996</td>\n",
       "      <td>109.209999</td>\n",
       "      <td>345942400.0</td>\n",
       "      <td>95.682624</td>\n",
       "    </tr>\n",
       "    <tr>\n",
       "      <th>2010-01-25</th>\n",
       "      <td>110.209999</td>\n",
       "      <td>110.410004</td>\n",
       "      <td>109.410004</td>\n",
       "      <td>109.769997</td>\n",
       "      <td>186937500.0</td>\n",
       "      <td>96.173257</td>\n",
       "    </tr>\n",
       "    <tr>\n",
       "      <th>2010-01-26</th>\n",
       "      <td>109.339996</td>\n",
       "      <td>110.470001</td>\n",
       "      <td>109.040001</td>\n",
       "      <td>109.309998</td>\n",
       "      <td>211168800.0</td>\n",
       "      <td>95.770236</td>\n",
       "    </tr>\n",
       "    <tr>\n",
       "      <th>2010-01-27</th>\n",
       "      <td>109.169998</td>\n",
       "      <td>110.080002</td>\n",
       "      <td>108.330002</td>\n",
       "      <td>109.830002</td>\n",
       "      <td>271863600.0</td>\n",
       "      <td>96.225829</td>\n",
       "    </tr>\n",
       "  </tbody>\n",
       "</table>\n",
       "</div>"
      ],
      "text/plain": [
       "                  Open        High         Low       Close       Volume  \\\n",
       "Date                                                                      \n",
       "2010-01-21  113.919998  114.269997  111.559998  111.699997  344859600.0   \n",
       "2010-01-22  111.199997  111.739998  109.089996  109.209999  345942400.0   \n",
       "2010-01-25  110.209999  110.410004  109.410004  109.769997  186937500.0   \n",
       "2010-01-26  109.339996  110.470001  109.040001  109.309998  211168800.0   \n",
       "2010-01-27  109.169998  110.080002  108.330002  109.830002  271863600.0   \n",
       "\n",
       "            Adj Close  \n",
       "Date                   \n",
       "2010-01-21  97.864196  \n",
       "2010-01-22  95.682624  \n",
       "2010-01-25  96.173257  \n",
       "2010-01-26  95.770236  \n",
       "2010-01-27  96.225829  "
      ]
     },
     "execution_count": 105,
     "metadata": {},
     "output_type": "execute_result"
    }
   ],
   "source": [
    "df_final.ix[:,:,'SPY'].head()"
   ]
  },
  {
   "cell_type": "code",
   "execution_count": 106,
   "metadata": {
    "collapsed": false
   },
   "outputs": [
    {
     "name": "stdout",
     "output_type": "stream",
     "text": [
      "<class 'pandas.core.frame.DataFrame'>\n",
      "\n",
      ">>> null values:0\n"
     ]
    }
   ],
   "source": [
    "print(type(df_final.ix[:,:,'SPY']))\n",
    "print(\"\\n>>> null values:\"+str(pd.isnull(df_final.ix[:,:,'GOOG']).sum().sum()))"
   ]
  },
  {
   "cell_type": "code",
   "execution_count": 107,
   "metadata": {
    "collapsed": false
   },
   "outputs": [
    {
     "data": {
      "text/html": [
       "<div>\n",
       "<table border=\"1\" class=\"dataframe\">\n",
       "  <thead>\n",
       "    <tr style=\"text-align: right;\">\n",
       "      <th></th>\n",
       "      <th>Open</th>\n",
       "      <th>High</th>\n",
       "      <th>Low</th>\n",
       "      <th>Close</th>\n",
       "      <th>Volume</th>\n",
       "      <th>Adj Close</th>\n",
       "    </tr>\n",
       "    <tr>\n",
       "      <th>Date</th>\n",
       "      <th></th>\n",
       "      <th></th>\n",
       "      <th></th>\n",
       "      <th></th>\n",
       "      <th></th>\n",
       "      <th></th>\n",
       "    </tr>\n",
       "  </thead>\n",
       "  <tbody>\n",
       "    <tr>\n",
       "      <th>1999-01-21</th>\n",
       "      <td>NaN</td>\n",
       "      <td>NaN</td>\n",
       "      <td>NaN</td>\n",
       "      <td>NaN</td>\n",
       "      <td>NaN</td>\n",
       "      <td>NaN</td>\n",
       "    </tr>\n",
       "    <tr>\n",
       "      <th>1999-01-22</th>\n",
       "      <td>NaN</td>\n",
       "      <td>NaN</td>\n",
       "      <td>NaN</td>\n",
       "      <td>NaN</td>\n",
       "      <td>NaN</td>\n",
       "      <td>NaN</td>\n",
       "    </tr>\n",
       "    <tr>\n",
       "      <th>1999-01-25</th>\n",
       "      <td>NaN</td>\n",
       "      <td>NaN</td>\n",
       "      <td>NaN</td>\n",
       "      <td>NaN</td>\n",
       "      <td>NaN</td>\n",
       "      <td>NaN</td>\n",
       "    </tr>\n",
       "    <tr>\n",
       "      <th>1999-01-26</th>\n",
       "      <td>NaN</td>\n",
       "      <td>NaN</td>\n",
       "      <td>NaN</td>\n",
       "      <td>NaN</td>\n",
       "      <td>NaN</td>\n",
       "      <td>NaN</td>\n",
       "    </tr>\n",
       "    <tr>\n",
       "      <th>1999-01-27</th>\n",
       "      <td>NaN</td>\n",
       "      <td>NaN</td>\n",
       "      <td>NaN</td>\n",
       "      <td>NaN</td>\n",
       "      <td>NaN</td>\n",
       "      <td>NaN</td>\n",
       "    </tr>\n",
       "  </tbody>\n",
       "</table>\n",
       "</div>"
      ],
      "text/plain": [
       "            Open  High  Low  Close  Volume  Adj Close\n",
       "Date                                                 \n",
       "1999-01-21   NaN   NaN  NaN    NaN     NaN        NaN\n",
       "1999-01-22   NaN   NaN  NaN    NaN     NaN        NaN\n",
       "1999-01-25   NaN   NaN  NaN    NaN     NaN        NaN\n",
       "1999-01-26   NaN   NaN  NaN    NaN     NaN        NaN\n",
       "1999-01-27   NaN   NaN  NaN    NaN     NaN        NaN"
      ]
     },
     "execution_count": 107,
     "metadata": {},
     "output_type": "execute_result"
    }
   ],
   "source": [
    "df_final = web.DataReader(symbols, data_source='yahoo',\n",
    "                      start='1/21/1999', end='4/15/2016')\n",
    "df_final.ix[:,:,'GOOG'].head()"
   ]
  },
  {
   "cell_type": "code",
   "execution_count": 108,
   "metadata": {
    "collapsed": false
   },
   "outputs": [
    {
     "name": "stdout",
     "output_type": "stream",
     "text": [
      "<class 'pandas.core.frame.DataFrame'>\n",
      "\n",
      ">>> null values:8412\n"
     ]
    }
   ],
   "source": [
    "print(type(df_final.ix[:,:,'GOOG']))\n",
    "print(\"\\n>>> null values:\"+str(pd.isnull(df_final.ix[:,:,'GOOG']).sum().sum()))"
   ]
  },
  {
   "cell_type": "markdown",
   "metadata": {},
   "source": [
    "There is a couple of observations to be done:\n",
    "1. calling __pandas.io.data__ with multiple stocks gets a __pandas.core.panel.Panel__ instead of a __pandas.DataFrame__\n",
    "but filtering to specific axis (e.g. Google) we get __pandas.core.frame.DataFrame__\n",
    "2. __pandas.io.data__ does not handle missing values \n",
    "\n",
    "Hence, we can define the following functions.  "
   ]
  },
  {
   "cell_type": "code",
   "execution_count": 114,
   "metadata": {
    "collapsed": false
   },
   "outputs": [
    {
     "data": {
      "text/html": [
       "<div>\n",
       "<table border=\"1\" class=\"dataframe\">\n",
       "  <thead>\n",
       "    <tr style=\"text-align: right;\">\n",
       "      <th></th>\n",
       "      <th>GOOG</th>\n",
       "      <th>SPY</th>\n",
       "    </tr>\n",
       "    <tr>\n",
       "      <th>Date</th>\n",
       "      <th></th>\n",
       "      <th></th>\n",
       "    </tr>\n",
       "  </thead>\n",
       "  <tbody>\n",
       "    <tr>\n",
       "      <th>2016-04-11</th>\n",
       "      <td>736.099976</td>\n",
       "      <td>202.964506</td>\n",
       "    </tr>\n",
       "    <tr>\n",
       "      <th>2016-04-12</th>\n",
       "      <td>743.090027</td>\n",
       "      <td>204.854670</td>\n",
       "    </tr>\n",
       "    <tr>\n",
       "      <th>2016-04-13</th>\n",
       "      <td>751.719971</td>\n",
       "      <td>206.923911</td>\n",
       "    </tr>\n",
       "    <tr>\n",
       "      <th>2016-04-14</th>\n",
       "      <td>753.200012</td>\n",
       "      <td>206.933854</td>\n",
       "    </tr>\n",
       "    <tr>\n",
       "      <th>2016-04-15</th>\n",
       "      <td>759.000000</td>\n",
       "      <td>206.705048</td>\n",
       "    </tr>\n",
       "  </tbody>\n",
       "</table>\n",
       "</div>"
      ],
      "text/plain": [
       "                  GOOG         SPY\n",
       "Date                              \n",
       "2016-04-11  736.099976  202.964506\n",
       "2016-04-12  743.090027  204.854670\n",
       "2016-04-13  751.719971  206.923911\n",
       "2016-04-14  753.200012  206.933854\n",
       "2016-04-15  759.000000  206.705048"
      ]
     },
     "execution_count": 114,
     "metadata": {},
     "output_type": "execute_result"
    }
   ],
   "source": [
    "import matplotlib.pyplot as plt\n",
    "def get_data(symbols, \n",
    "             add_ref=True,\n",
    "             data_source='yahoo',\n",
    "             price='Adj Close',\n",
    "             start='1/21/2010', \n",
    "             end='4/15/2016'):\n",
    "    \"\"\"Read stock data (adjusted close) for given symbols from.\"\"\"\n",
    "    \n",
    "    if add_ref and 'SPY' not in symbols:  # add SPY for reference, if absent\n",
    "        symbols.insert(0, 'SPY')\n",
    "\n",
    "    df = web.DataReader(symbols, \n",
    "                        data_source=data_source,\n",
    "                        start=start, \n",
    "                        end=end)\n",
    "    \n",
    "    return df[price,:,:]\n",
    "\n",
    "def plot_data(df_data):\n",
    "    \"\"\"Plot stock data with appropriate axis labels.\"\"\"\n",
    "    ax = df_data.plot(title=\"Stock Data\", fontsize=2)\n",
    "    ax.set_xlabel(\"Date\")\n",
    "    ax.set_ylabel(\"Price\")\n",
    "    plt.show()\n",
    "\n",
    "\n",
    "get_data(symbols=['GOOG','SPY']).tail()"
   ]
  },
  {
   "cell_type": "code",
   "execution_count": 129,
   "metadata": {
    "collapsed": false
   },
   "outputs": [
    {
     "data": {
      "image/png": "[encoded data removed]",
      "text/plain": [
       "<matplotlib.figure.Figure at 0x112a1f940>"
      ]
     },
     "metadata": {},
     "output_type": "display_data"
    }
   ],
   "source": [
    "ax = get_data(symbols=['GOOG','SPY'],start='1/21/1999', end='4/15/2016').plot(title=\"Stock Data\", fontsize=9)\n",
    "ax.set_xlabel(\"Date\")\n",
    "ax.set_ylabel(\"Price\")\n",
    "plt.show()"
   ]
  },
  {
   "cell_type": "markdown",
   "metadata": {},
   "source": [
    "As clear from above plot, we need to handle missing values. "
   ]
  },
  {
   "cell_type": "code",
   "execution_count": 130,
   "metadata": {
    "collapsed": false
   },
   "outputs": [
    {
     "data": {
      "image/png": "[encoded data removed]",
      "text/plain": [
       "<matplotlib.figure.Figure at 0x112a1f6d8>"
      ]
     },
     "metadata": {},
     "output_type": "display_data"
    }
   ],
   "source": [
    "def fill_missing_values(df_data):\n",
    "    \"\"\"Fill missing values in data frame, in place.\"\"\"\n",
    "    df_data.fillna(method='ffill',inplace=True)\n",
    "    df_data.fillna(method='backfill',inplace=True)\n",
    "    return df_data\n",
    "ax = fill_missing_values(get_data(symbols=['GOOG','SPY'],\n",
    "                             start='1/21/1999', \n",
    "                             end='4/15/2016')).plot(title=\"Stock Data\", fontsize=9)\n",
    "ax.set_xlabel(\"Date\")\n",
    "ax.set_ylabel(\"Price\")\n",
    "plt.show()"
   ]
  }
 ],
 "metadata": {
  "kernelspec": {
   "display_name": "Python 3",
   "language": "python",
   "name": "python3"
  },
  "language_info": {
   "codemirror_mode": {
    "name": "ipython",
    "version": 3
   },
   "file_extension": ".py",
   "mimetype": "text/x-python",
   "name": "python",
   "nbconvert_exporter": "python",
   "pygments_lexer": "ipython3",
   "version": "3.5.2"
  }
 },
 "nbformat": 4,
 "nbformat_minor": 0
}
