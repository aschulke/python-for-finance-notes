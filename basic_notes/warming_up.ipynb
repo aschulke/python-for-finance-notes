{
 "cells": [
  {
   "cell_type": "markdown",
   "metadata": {
    "collapsed": true
   },
   "source": [
    "## Value of an European Call Option\n",
    "\n",
    "The [Black-Scholes-Merton](https://en.wikipedia.org/wiki/Black%E2%80%93Scholes_model) model is a \n",
    "mathematical model applicable in financial markets containing derivative investment instruments for \n",
    "the theoretical estimation of European-style options' price. According to such model, \n",
    "__the index level at maturity__ of a call option can be modeled as it follows with z normally distributed\n",
    "\n",
    "$$S_T(z)=S_0e^{(r-0.5\\sigma^2)T+\\sigma\\sqrt{T}z}$$\n",
    "\n",
    "where \n",
    "* $S_0$ is the initial stock index level\n",
    "* K is the strike price of the European call option\n",
    "* T is the Time-to-maturity in year \n",
    "* r is the riskless short rate \n",
    "* $\\sigma^2$ is the volatility\n",
    "\n",
    "Let's assume the following values \n",
    "* $S_0 = 105$\n",
    "* K = 109 \n",
    "* T = 1 \n",
    "* r = 6% \n",
    "* $\\sigma^2$ = 22%\n",
    "\n",
    "In order to calculate the present value of the call option, it is possible to apply a Monte Carlo approach\n",
    "according to the following procedure: \n",
    "* Let's consider R realizations of the random variable z from a standard normal distribution \n",
    "* Compute related index levels at maturity $S_T(i)$ for $z(i)\\in\\{1,2,...,R\\}$ \n",
    "* Compute the call option value $h_T(i)=\\max{(S_T(i)–K,0)}$. \n",
    "* Compute the __present value__ of the call option, i.e. \n",
    "\n",
    "$$C_0=e^{-rT}{R}^{-1}\\sum_{i=1}^{R} h_T{(i)}$$\n",
    "\n"
   ]
  },
  {
   "cell_type": "code",
   "execution_count": 1,
   "metadata": {
    "collapsed": true
   },
   "outputs": [],
   "source": [
    "import numpy as np\n",
    "\n",
    "def bsm(S0,r,sigma,T,K,R = 100000 , seed=500):\n",
    "    np.random.seed(seed)\n",
    "    z = np.random.standard_normal(R) \n",
    "    ST = S0 * np.exp(( r - 0.5 * sigma ** 2) * T + sigma * np.sqrt(T) * z)\n",
    "    hT = np.maximum(ST - K, 0)\n",
    "    C0 = np.exp(-r * T) * np.sum(hT) / R\n",
    "    return C0"
   ]
  },
  {
   "cell_type": "code",
   "execution_count": 2,
   "metadata": {
    "collapsed": false
   },
   "outputs": [
    {
     "name": "stdout",
     "output_type": "stream",
     "text": [
      "Value of the European Call Option is 10.31 - time[0.008368 secs]\n"
     ]
    }
   ],
   "source": [
    "import time\n",
    "tm = time.time()\n",
    "C0 = bsm(S0=105,r=0.06,sigma=0.22,T=1.0,K=109,R = 100000 , seed=500)\n",
    "pm = time.time() - tm\n",
    "print(\"Value of the European Call Option is {0:.4g}\".format(C0)+\" - time[{0:.4g} secs]\".format(pm))"
   ]
  },
  {
   "cell_type": "markdown",
   "metadata": {},
   "source": [
    "Let's see how much time is necessary for 70,000,000 iterations intead of 100,000 iterations. "
   ]
  },
  {
   "cell_type": "code",
   "execution_count": 3,
   "metadata": {
    "collapsed": false
   },
   "outputs": [
    {
     "name": "stdout",
     "output_type": "stream",
     "text": [
      "Value of the European Call Option is 10.32 - time[5.455 secs]\n"
     ]
    }
   ],
   "source": [
    "tm = time.time()\n",
    "C0 = bsm(S0=105,r=0.06,sigma=0.22,T=1.0,K=109,R = 70000000 , seed=500)\n",
    "pm = time.time() - tm\n",
    "print(\"Value of the European Call Option is {0:.4g}\".format(C0)+\" - time[{0:.4g} secs]\".format(pm))"
   ]
  },
  {
   "cell_type": "markdown",
   "metadata": {},
   "source": [
    "Let's see how we can speed up the computation with the __numexpr__ package. "
   ]
  },
  {
   "cell_type": "code",
   "execution_count": 4,
   "metadata": {
    "collapsed": false
   },
   "outputs": [],
   "source": [
    "import numexpr as ne\n",
    "def bsm_ne(S0,r,sigma,T,K,R = 70000000 , seed=500):\n",
    "    np.random.seed(seed)\n",
    "    z = np.random.standard_normal(R) \n",
    "    ST = ne.evaluate('S0 * exp(( r - 0.5 * sigma ** 2) * T + sigma * sqrt(T) * z)')\n",
    "    hT = np.maximum(ST - K, 0)\n",
    "    C0 = np.exp(-r * T) * np.sum(hT) / R\n",
    "    return C0"
   ]
  },
  {
   "cell_type": "code",
   "execution_count": 5,
   "metadata": {
    "collapsed": false
   },
   "outputs": [
    {
     "name": "stdout",
     "output_type": "stream",
     "text": [
      "Value of the European Call Option is 10.32 - time[4.196 secs]\n"
     ]
    }
   ],
   "source": [
    "tm = time.time()\n",
    "C0 = bsm_ne(S0=105,r=0.06,sigma=0.22,T=1.0,K=109,R = 70000000 , seed=500)\n",
    "pm = time.time() - tm\n",
    "print(\"Value of the European Call Option is {0:.4g}\".format(C0)+\" - time[{0:.4g} secs]\".format(pm))"
   ]
  },
  {
   "cell_type": "code",
   "execution_count": null,
   "metadata": {
    "collapsed": true
   },
   "outputs": [],
   "source": []
  }
 ],
 "metadata": {
  "kernelspec": {
   "display_name": "Python 3",
   "language": "python",
   "name": "python3"
  },
  "language_info": {
   "codemirror_mode": {
    "name": "ipython",
    "version": 3
   },
   "file_extension": ".py",
   "mimetype": "text/x-python",
   "name": "python",
   "nbconvert_exporter": "python",
   "pygments_lexer": "ipython3",
   "version": "3.5.2"
  }
 },
 "nbformat": 4,
 "nbformat_minor": 0
}
