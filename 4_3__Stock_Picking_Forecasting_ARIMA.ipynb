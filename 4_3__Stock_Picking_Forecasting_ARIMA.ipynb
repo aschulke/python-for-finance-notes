{
 "cells": [
  {
   "cell_type": "code",
   "execution_count": null,
   "metadata": {
    "collapsed": true
   },
   "outputs": [],
   "source": []
  },
  {
   "cell_type": "code",
   "execution_count": null,
   "metadata": {
    "collapsed": true
   },
   "outputs": [],
   "source": []
  },
  {
   "cell_type": "code",
   "execution_count": 21,
   "metadata": {},
   "outputs": [
    {
     "data": {
      "image/png": "[encoded data removed]",
      "text/plain": [
       "<matplotlib.figure.Figure at 0x11d8de630>"
      ]
     },
     "metadata": {},
     "output_type": "display_data"
    }
   ],
   "source": [
    "import numpy as np\n",
    "import pandas as pd \n",
    "import matplotlib.pyplot as plt\n",
    "import pandas_datareader.data as web\n",
    "import datetime\n",
    "\n",
    "def get_data(symbols, \n",
    "             add_ref=True,\n",
    "             data_source='yahoo',\n",
    "             price='Adj Close',\n",
    "             start='1/21/2010', \n",
    "             end='4/15/2016'):\n",
    "    \"\"\"Read stock data (adjusted close) for given symbols from.\"\"\"\n",
    "    \n",
    "    if add_ref and 'SPY' not in symbols:  # add SPY for reference, if absent\n",
    "        symbols.insert(0, 'SPY')\n",
    "\n",
    "    df = web.DataReader(symbols, \n",
    "                        data_source=data_source,\n",
    "                        start=start, \n",
    "                        end=end)\n",
    "    \n",
    "    return df[price,:,:]\n",
    "\n",
    "def compute_daily_returns(df):\n",
    "    \"\"\"Compute and return the daily return values.\"\"\"\n",
    "    # Note: Returned DataFrame must have the same number of rows\n",
    "    daily_returns = (df / df.shift(1)) - 1 \n",
    "    daily_returns.ix[0,:] = 0 \n",
    "    return daily_returns\n",
    "\n",
    "def fill_missing_values(df_data):\n",
    "    \"\"\"Fill missing values in data frame, in place.\"\"\"\n",
    "    df_data.fillna(method='ffill',inplace=True)\n",
    "    df_data.fillna(method='backfill',inplace=True)\n",
    "    return df_data\n",
    "\n",
    "def cumulative_returns(df):\n",
    "    return df/df.ix[0,:] - 1 \n",
    "\n",
    "df = fill_missing_values(get_data(symbols=['GOOG','SPY','IBM','GLD'],\n",
    "                             start='4/21/2015', \n",
    "                             end='7/15/2016'))\n",
    "df.plot()\n",
    "plt.show(1)"
   ]
  },
  {
   "cell_type": "code",
   "execution_count": 22,
   "metadata": {},
   "outputs": [
    {
     "data": {
      "text/html": [
       "<div>\n",
       "<table border=\"1\" class=\"dataframe\">\n",
       "  <thead>\n",
       "    <tr style=\"text-align: right;\">\n",
       "      <th></th>\n",
       "      <th>GLD</th>\n",
       "      <th>GOOG</th>\n",
       "      <th>IBM</th>\n",
       "      <th>SPY</th>\n",
       "    </tr>\n",
       "    <tr>\n",
       "      <th>Date</th>\n",
       "      <th></th>\n",
       "      <th></th>\n",
       "      <th></th>\n",
       "      <th></th>\n",
       "    </tr>\n",
       "  </thead>\n",
       "  <tbody>\n",
       "    <tr>\n",
       "      <th>2015-04-21</th>\n",
       "      <td>115.379997</td>\n",
       "      <td>533.972413</td>\n",
       "      <td>151.610189</td>\n",
       "      <td>201.067670</td>\n",
       "    </tr>\n",
       "    <tr>\n",
       "      <th>2015-04-22</th>\n",
       "      <td>113.830002</td>\n",
       "      <td>539.367458</td>\n",
       "      <td>152.625483</td>\n",
       "      <td>202.055740</td>\n",
       "    </tr>\n",
       "    <tr>\n",
       "      <th>2015-04-23</th>\n",
       "      <td>114.660004</td>\n",
       "      <td>547.002472</td>\n",
       "      <td>157.129675</td>\n",
       "      <td>202.564164</td>\n",
       "    </tr>\n",
       "    <tr>\n",
       "      <th>2015-04-24</th>\n",
       "      <td>113.050003</td>\n",
       "      <td>565.062561</td>\n",
       "      <td>156.705093</td>\n",
       "      <td>203.034208</td>\n",
       "    </tr>\n",
       "    <tr>\n",
       "      <th>2015-04-27</th>\n",
       "      <td>115.330002</td>\n",
       "      <td>555.369995</td>\n",
       "      <td>157.581930</td>\n",
       "      <td>202.190041</td>\n",
       "    </tr>\n",
       "  </tbody>\n",
       "</table>\n",
       "</div>"
      ],
      "text/plain": [
       "                   GLD        GOOG         IBM         SPY\n",
       "Date                                                      \n",
       "2015-04-21  115.379997  533.972413  151.610189  201.067670\n",
       "2015-04-22  113.830002  539.367458  152.625483  202.055740\n",
       "2015-04-23  114.660004  547.002472  157.129675  202.564164\n",
       "2015-04-24  113.050003  565.062561  156.705093  203.034208\n",
       "2015-04-27  115.330002  555.369995  157.581930  202.190041"
      ]
     },
     "execution_count": 22,
     "metadata": {},
     "output_type": "execute_result"
    }
   ],
   "source": [
    "df.head()"
   ]
  },
  {
   "cell_type": "code",
   "execution_count": 3,
   "metadata": {},
   "outputs": [],
   "source": [
    "simbols = [\"A\",\"AA\",\"AAL\",\"AAP\",\"AAPL\",\"ABB\",\"ABBV\",\"ABC\",\"ABMD\",\"ABT\",\"ABX\",\"ACC\",\"ACGL\",\"ACM\",\"ACN\",\"ADBE\",\"ADI\",\"ADM\",\"ADNT\",\"ADP\",\"ADS\",\"ADSK\",\"AEE\",\"AEG\",\"AEM\",\"AEP\",\"AER\",\"AES\",\"AET\",\"AFG\",\"AFL\",\"AGCO\",\"AGN\",\"AGNC\",\"AGR\",\"AGU\",\"AIG\",\"AIV\",\"AIZ\",\"AJG\",\"AKAM\",\"ALB\",\"ALGN\",\"ALK\",\"ALKS\",\"ALL\",\"ALLE\",\"ALLY\",\"ALSN\",\"ALV\",\"ALXN\",\"AM\",\"AMAT\",\"AMD\",\"AME\",\"AMG\",\"AMGN\",\"AMH\",\"AMP\",\"AMT\",\"AMTD\",\"AMX\",\"AMZN\",\"ANET\",\"ANSS\",\"ANTM\",\"AON\",\"AOS\",\"APA\",\"APC\",\"APD\",\"APH\",\"APO\",\"AR\",\"ARCC\",\"ARD\",\"ARE\",\"ARMK\",\"ARNC\",\"ARRS\",\"ARW\",\"ASH\",\"ASML\",\"ASR\",\"ASX\",\"ATH\",\"ATO\",\"ATR\",\"ATVI\",\"AVB\",\"AVGO\",\"AVY\",\"AWK\",\"AXP\",\"AXS\",\"AXTA\",\"AYI\",\"AZN\",\"AZO\",\"BA\",\"BABA\",\"BAC\",\"BAH\",\"BAM\",\"BAP\",\"BAX\",\"BBBY\",\"BBD\",\"BBL\",\"BBRY\",\"BBT\",\"BBVA\",\"BBY\",\"BC\",\"BCE\",\"BCH\",\"BCR\",\"BCS\",\"BDX\",\"BEN\",\"BERY\",\"BF.B\",\"BG\",\"BHI\",\"BHP\",\"BIDU\",\"BIIB\",\"BIO\",\"BIP\",\"BIVV\",\"BK\",\"BKFS\",\"BLK\",\"BLL\",\"BMA\",\"BMO\",\"BMRN\",\"BMY\",\"BNS\",\"BOKF\",\"BP\",\"BPL\",\"BPY\",\"BR\",\"BRCD\",\"BRFS\",\"BRK.A\",\"BRO\",\"BRX\",\"BSAC\",\"BSBR\",\"BSMX\",\"BSX\",\"BT\",\"BUD\",\"BURL\",\"BWA\",\"BX\",\"BXP\",\"C\",\"CA\",\"CAG\",\"CAH\",\"CAJ\",\"CAT\",\"CB\",\"CBG\",\"CBOE\",\"CBS\",\"CBSH\",\"CC\",\"CCE\",\"CCI\",\"CCK\",\"CCL\",\"CDK\",\"CDNS\",\"CDW\",\"CE\",\"CELG\",\"CEO\",\"CERN\",\"CF\",\"CFG\",\"CFR\",\"CG\",\"CGNX\",\"CHA\",\"CHD\",\"CHK\",\"CHKP\",\"CHL\",\"CHRW\",\"CHT\",\"CHTR\",\"CHU\",\"CI\",\"CINF\",\"CIT\",\"CL\",\"CLNS\",\"CLR\",\"CLX\",\"CM\",\"CMA\",\"CMCSA\",\"CME\",\"CMG\",\"CMI\",\"CMS\",\"CNA\",\"CNC\",\"CNHI\",\"CNI\",\"CNK\",\"CNP\",\"CNQ\",\"COF\",\"COG\",\"COH\",\"COHR\",\"COL\",\"COMM\",\"COO\",\"COP\",\"COST\",\"COTY\",\"CP\",\"CPA\",\"CPB\",\"CPL\",\"CPRT\",\"CPT\",\"CRH\",\"CRM\",\"CS\",\"CSCO\",\"CSGP\",\"CSL\",\"CSX\",\"CTAS\",\"CTL\",\"CTRP\",\"CTSH\",\"CTXS\",\"CUK\",\"CVE\",\"CVS\",\"CVX\",\"CX\",\"CXO\",\"D\",\"DAL\",\"DB\",\"DCI\",\"DCM\",\"DCP\",\"DD\",\"DE\",\"DEI\",\"DEO\",\"DFS\",\"DG\",\"DGX\",\"DHI\",\"DHR\",\"DIS\",\"DISH\",\"DKS\",\"DLB\",\"DLPH\",\"DLR\",\"DLTR\",\"DNKN\",\"DOV\",\"DOW\",\"DOX\",\"DPS\",\"DPZ\",\"DRE\",\"DRI\",\"DTE\",\"DUK\",\"DVA\",\"DVMT\",\"DVN\",\"DXC\",\"DXCM\",\"E\",\"EA\",\"EBAY\",\"EC\",\"ECA\",\"ECL\",\"ED\",\"EDU\",\"EEP\",\"EFX\",\"EGN\",\"EIX\",\"EL\",\"ELS\",\"EMN\",\"EMR\",\"ENB\",\"ENBL\",\"ENIA\",\"ENIC\",\"ENLK\",\"EOCC\",\"EOG\",\"EPD\",\"EPR\",\"EQGP\",\"EQIX\",\"EQM\",\"EQR\",\"EQT\",\"ERIC\",\"ERIE\",\"ES\",\"ESLT\",\"ESRX\",\"ESS\",\"ETE\",\"ETFC\",\"ETN\",\"ETR\",\"EV\",\"EVHC\",\"EW\",\"EWBC\",\"EXC\",\"EXEL\",\"EXPD\",\"EXPE\",\"EXR\",\"F\",\"FANG\",\"FAST\",\"FB\",\"FBHS\",\"FBR\",\"FCE.A\",\"FCX\",\"FDC\",\"FDS\",\"FDX\",\"FE\",\"FFIV\",\"FIS\",\"FISV\",\"FITB\",\"FL\",\"FLEX\",\"FLIR\",\"FLR\",\"FLS\",\"FLT\",\"FMC\",\"FMS\",\"FMX\",\"FNF\",\"FOXA\",\"FRC\",\"FRT\",\"FTI\",\"FTNT\",\"FTV\",\"G\",\"GD\",\"GDDY\",\"GE\",\"GG\",\"GGG\",\"GGP\",\"GIB\",\"GIL\",\"GILD\",\"GIS\",\"GLPI\",\"GLW\",\"GM\",\"GNTX\",\"GOLD\",\"GOOGL\",\"GPC\",\"GPN\",\"GPS\",\"GRMN\",\"GS\",\"GSK\",\"GT\",\"GWW\",\"GXP\",\"H\",\"HAL\",\"HAS\",\"HBAN\",\"HBI\",\"HCA\",\"HCN\",\"HCP\",\"HD\",\"HDB\",\"HDS\",\"HES\",\"HFC\",\"HHC\",\"HIG\",\"HII\",\"HIW\",\"HLF\",\"HLT\",\"HMC\",\"HOG\",\"HOLX\",\"HON\",\"HP\",\"HPE\",\"HPP\",\"HPQ\",\"HRB\",\"HRL\",\"HRS\",\"HSBC\",\"HSIC\",\"HST\",\"HSY\",\"HTA\",\"HTHT\",\"HUBB\",\"HUM\",\"HUN\",\"IAC\",\"IBKR\",\"IBM\",\"IBN\",\"ICE\",\"IDXX\",\"IEP\",\"IEX\",\"IFF\",\"IHG\",\"ILMN\",\"INCY\",\"INFO\",\"INFY\",\"ING\",\"INGR\",\"INTC\",\"INTU\",\"INVH\",\"IONS\",\"IP\",\"IPG\",\"IPGP\",\"IR\",\"IRM\",\"ISRG\",\"IT\",\"ITUB\",\"ITW\",\"IVZ\",\"IX\",\"JAZZ\",\"JBHT\",\"JBL\",\"JBLU\",\"JD\",\"JEC\",\"JHX\",\"JKHY\",\"JLL\",\"JNJ\",\"JNPR\",\"JPM\",\"JWN\",\"K\",\"KAR\",\"KB\",\"KEP\",\"KEY\",\"KEYS\",\"KHC\",\"KIM\",\"KKR\",\"KLAC\",\"KMB\",\"KMI\",\"KMX\",\"KO\",\"KORS\",\"KR\",\"KRC\",\"KSS\",\"KSU\",\"KT\",\"KYO\",\"L\",\"LAMR\",\"LAZ\",\"LB\",\"LBTYA\",\"LDOS\",\"LEA\",\"LECO\",\"LEG\",\"LEN\",\"LFC\",\"LFL\",\"LH\",\"LII\",\"LKQ\",\"LLL\",\"LLY\",\"LMT\",\"LN\",\"LNC\",\"LNT\",\"LOGI\",\"LOGM\",\"LOW\",\"LPL\",\"LPT\",\"LRCX\",\"LUK\",\"LULU\",\"LUV\",\"LUX\",\"LVLT\",\"LVS\",\"LW\",\"LYB\",\"LYG\",\"LYV\",\"M\",\"MA\",\"MAA\",\"MAC\",\"MAN\",\"MAR\",\"MAS\",\"MAT\",\"MBLY\",\"MBT\",\"MCD\",\"MCHP\",\"MCK\",\"MCO\",\"MD\",\"MDLZ\",\"MDT\",\"MDU\",\"MELI\",\"MET\",\"MFC\",\"MFG\",\"MGA\",\"MGM\",\"MHK\",\"MIC\",\"MIDD\",\"MJN\",\"MKC\",\"MKL\",\"MKTX\",\"MLCO\",\"MLM\",\"MMC\",\"MMM\",\"MMP\",\"MNST\",\"MO\",\"MOMO\",\"MON\",\"MOS\",\"MPC\",\"MPLX\",\"MRK\",\"MRO\",\"MRVL\",\"MS\",\"MSCC\",\"MSCI\",\"MSFT\",\"MSI\",\"MSM\",\"MT\",\"MTB\",\"MTD\",\"MTN\",\"MTU\",\"MU\",\"MXIM\",\"MYL\",\"NBL\",\"NCLH\",\"NCR\",\"NDAQ\",\"NDSN\",\"NEE\",\"NEM\",\"NEU\",\"NFLX\",\"NFX\",\"NGG\",\"NI\",\"NKE\",\"NLSN\",\"NLY\",\"NMR\",\"NNN\",\"NOC\",\"NOK\",\"NOV\",\"NOW\",\"NRZ\",\"NSC\",\"NTAP\",\"NTES\",\"NTRS\",\"NUAN\",\"NUE\",\"NVDA\",\"NVO\",\"NVR\",\"NVS\",\"NWL\",\"NXPI\",\"NYCB\",\"O\",\"OA\",\"OAK\",\"OC\",\"ODFL\",\"OGE\",\"OHI\",\"OKE\",\"OKS\",\"OLED\",\"OLN\",\"OMC\",\"ON\",\"ORAN\",\"ORCL\",\"ORI\",\"ORLY\",\"OSK\",\"OTEX\",\"OXY\",\"OZRK\",\"PAA\",\"PAC\",\"PACW\",\"PAGP\",\"PANW\",\"PAYX\",\"PBCT\",\"PBR\",\"PCAR\",\"PCG\",\"PCLN\",\"PE\",\"PEG\",\"PEP\",\"PF\",\"PFE\",\"PFG\",\"PG\",\"PGR\",\"PH\",\"PHG\",\"PHI\",\"PHM\",\"PII\",\"PK\",\"PKG\",\"PKI\",\"PKX\",\"PLD\",\"PM\",\"PNC\",\"PNR\",\"PNRA\",\"PNW\",\"POOL\",\"POST\",\"POT\",\"PPC\",\"PPG\",\"PPL\",\"PRGO\",\"PRU\",\"PSA\",\"PSO\",\"PSX\",\"PSXP\",\"PTC\",\"PTR\",\"PUK\",\"PVH\",\"PWR\",\"PX\",\"PXD\",\"PYPL\",\"Q\",\"QCOM\",\"QGEN\",\"QRVO\",\"QVCA\",\"RACE\",\"RAI\",\"RBS\",\"RCI\",\"RCL\",\"RDS.A\",\"RDY\",\"RE\",\"REG\",\"REGN\",\"RELX\",\"RENX\",\"RF\",\"RGA\",\"RHI\",\"RHT\",\"RIO\",\"RJF\",\"RL\",\"RMD\",\"RNR\",\"ROK\",\"ROL\",\"ROP\",\"ROST\",\"RPM\",\"RRC\",\"RS\",\"RSG\",\"RSPP\",\"RTN\",\"RY\",\"RYAAY\",\"S\",\"SABR\",\"SAN\",\"SAP\",\"SATS\",\"SBAC\",\"SBNY\",\"SBS\",\"SBUX\",\"SCCO\",\"SCG\",\"SCHW\",\"SCI\",\"SEE\",\"SEIC\",\"SEP\",\"SERV\",\"SGEN\",\"SHG\",\"SHLX\",\"SHOP\",\"SHPG\",\"SHW\",\"SINA\",\"SIRI\",\"SIVB\",\"SIX\",\"SJM\",\"SJR\",\"SKM\",\"SLB\",\"SLF\",\"SLG\",\"SLM\",\"SLW\",\"SMFG\",\"SMG\",\"SMI\",\"SNA\",\"SNAP\",\"SNE\",\"SNI\",\"SNN\",\"SNP\",\"SNPS\",\"SNV\",\"SNY\",\"SO\",\"SON\",\"SPB\",\"SPG\",\"SPGI\",\"SPLK\",\"SPLS\",\"SPR\",\"SQ\",\"SRCL\",\"SRE\",\"SSL\",\"SSNC\",\"ST\",\"STE\",\"STI\",\"STLD\",\"STM\",\"STO\",\"STT\",\"STWD\",\"STX\",\"STZ\",\"SU\",\"SUI\",\"SWK\",\"SWKS\",\"SYF\",\"SYK\",\"SYMC\",\"SYT\",\"SYY\",\"T\",\"TAL\",\"TAP\",\"TD\",\"TDG\",\"TEAM\",\"TECK\",\"TEF\",\"TEL\",\"TER\",\"TEVA\",\"TFX\",\"TGNA\",\"TGT\",\"TI\",\"TIF\",\"TJX\",\"TKC\",\"TLK\",\"TLLP\",\"TM\",\"TMK\",\"TMO\",\"TMUS\",\"TOL\",\"TOT\",\"TRGP\",\"TRI\",\"TRIP\",\"TRMB\",\"TROW\",\"TRP\",\"TRQ\",\"TRU\",\"TRV\",\"TS\",\"TSCO\",\"TSLA\",\"TSM\",\"TSN\",\"TSO\",\"TSRO\",\"TSS\",\"TSU\",\"TTC\",\"TTM\",\"TTWO\",\"TU\",\"TV\",\"TWTR\",\"TWX\",\"TXN\",\"TXT\",\"TYL\",\"UAL\",\"UBS\",\"UDR\",\"UGI\",\"UGP\",\"UHAL\",\"UHS\",\"UL\",\"ULTA\",\"ULTI\",\"UMC\",\"UN\",\"UNH\",\"UNM\",\"UNP\",\"UPS\",\"URI\",\"USB\",\"USFD\",\"UTHR\",\"UTX\",\"V\",\"VAL\",\"VALE\",\"VAR\",\"VEDL\",\"VEEV\",\"VEON\",\"VER\",\"VFC\",\"VIAB\",\"VIPS\",\"VIV\",\"VLO\",\"VMC\",\"VMW\",\"VNO\",\"VNTV\",\"VOD\",\"VOYA\",\"VRSK\",\"VRSN\",\"VRTX\",\"VTR\",\"VZ\",\"W\",\"WAB\",\"WAL\",\"WAT\",\"WB\",\"WBA\",\"WBC\",\"WBK\",\"WCG\",\"WCN\",\"WDAY\",\"WDC\",\"WEC\",\"WES\",\"WF\",\"WFC\",\"WFM\",\"WFT\",\"WGP\",\"WHR\",\"WIT\",\"WLK\",\"WLTW\",\"WM\",\"WMB\",\"WMT\",\"WOOF\",\"WPC\",\"WPPGY\",\"WPZ\",\"WR\",\"WRB\",\"WRK\",\"WST\",\"WTR\",\"WU\",\"WUBA\",\"WY\",\"WYN\",\"WYNN\",\"XEC\",\"XEL\",\"XL\",\"XLNX\",\"XOM\",\"XPO\",\"XRAY\",\"XRX\",\"XYL\",\"Y\",\"YHOO\",\"YNDX\",\"YPF\",\"YUM\",\"YUMC\",\"ZAYO\",\"ZBH\",\"ZBRA\",\"ZION\",\"ZTO\",\"ZTS\"]"
   ]
  },
  {
   "cell_type": "code",
   "execution_count": 5,
   "metadata": {},
   "outputs": [
    {
     "data": {
      "text/plain": [
       "983"
      ]
     },
     "execution_count": 5,
     "metadata": {},
     "output_type": "execute_result"
    }
   ],
   "source": [
    "len(simbols)"
   ]
  },
  {
   "cell_type": "code",
   "execution_count": 25,
   "metadata": {},
   "outputs": [
    {
     "name": "stdout",
     "output_type": "stream",
     "text": [
      "start_date 03-27-2017\n"
     ]
    }
   ],
   "source": [
    "DELTA = 45 ## delay in days \n",
    "start_date = (datetime.date.today() - datetime.timedelta(DELTA)).strftime(\"%m-%d-%Y\")\n",
    "print(\"start_date\",start_date)"
   ]
  },
  {
   "cell_type": "code",
   "execution_count": 26,
   "metadata": {},
   "outputs": [
    {
     "name": "stdout",
     "output_type": "stream",
     "text": [
      "end_date 05-11-2017\n"
     ]
    }
   ],
   "source": [
    "end_date = (datetime.date.today()).strftime(\"%m-%d-%Y\")\n",
    "print(\"end_date\",end_date)"
   ]
  },
  {
   "cell_type": "code",
   "execution_count": null,
   "metadata": {
    "collapsed": true
   },
   "outputs": [],
   "source": []
  },
  {
   "cell_type": "code",
   "execution_count": 27,
   "metadata": {},
   "outputs": [
    {
     "name": "stderr",
     "output_type": "stream",
     "text": [
      "/Users/gino/anaconda3/lib/python3.5/site-packages/pandas_datareader/base.py:174: SymbolWarning: Failed to read symbol: 'BF.B', replacing with NaN.\n",
      "  warnings.warn(msg.format(sym), SymbolWarning)\n",
      "/Users/gino/anaconda3/lib/python3.5/site-packages/pandas_datareader/base.py:174: SymbolWarning: Failed to read symbol: 'BRK.A', replacing with NaN.\n",
      "  warnings.warn(msg.format(sym), SymbolWarning)\n",
      "/Users/gino/anaconda3/lib/python3.5/site-packages/pandas_datareader/base.py:174: SymbolWarning: Failed to read symbol: 'FCE.A', replacing with NaN.\n",
      "  warnings.warn(msg.format(sym), SymbolWarning)\n",
      "/Users/gino/anaconda3/lib/python3.5/site-packages/pandas_datareader/base.py:174: SymbolWarning: Failed to read symbol: 'RDS.A', replacing with NaN.\n",
      "  warnings.warn(msg.format(sym), SymbolWarning)\n"
     ]
    }
   ],
   "source": [
    "df = fill_missing_values(get_data(symbols=simbols,\n",
    "                             start=start_date, \n",
    "                             end=end_date))"
   ]
  },
  {
   "cell_type": "code",
   "execution_count": 32,
   "metadata": {},
   "outputs": [
    {
     "data": {
      "text/plain": [
       "(32, 984)"
      ]
     },
     "execution_count": 32,
     "metadata": {},
     "output_type": "execute_result"
    }
   ],
   "source": [
    "df.shape"
   ]
  },
  {
   "cell_type": "code",
   "execution_count": 28,
   "metadata": {},
   "outputs": [
    {
     "data": {
      "text/html": [
       "<div>\n",
       "<table border=\"1\" class=\"dataframe\">\n",
       "  <thead>\n",
       "    <tr style=\"text-align: right;\">\n",
       "      <th></th>\n",
       "      <th>A</th>\n",
       "      <th>AA</th>\n",
       "      <th>AAL</th>\n",
       "      <th>AAP</th>\n",
       "      <th>AAPL</th>\n",
       "      <th>ABB</th>\n",
       "      <th>ABBV</th>\n",
       "      <th>ABC</th>\n",
       "      <th>ABMD</th>\n",
       "      <th>ABT</th>\n",
       "      <th>...</th>\n",
       "      <th>YNDX</th>\n",
       "      <th>YPF</th>\n",
       "      <th>YUM</th>\n",
       "      <th>YUMC</th>\n",
       "      <th>ZAYO</th>\n",
       "      <th>ZBH</th>\n",
       "      <th>ZBRA</th>\n",
       "      <th>ZION</th>\n",
       "      <th>ZTO</th>\n",
       "      <th>ZTS</th>\n",
       "    </tr>\n",
       "    <tr>\n",
       "      <th>Date</th>\n",
       "      <th></th>\n",
       "      <th></th>\n",
       "      <th></th>\n",
       "      <th></th>\n",
       "      <th></th>\n",
       "      <th></th>\n",
       "      <th></th>\n",
       "      <th></th>\n",
       "      <th></th>\n",
       "      <th></th>\n",
       "      <th></th>\n",
       "      <th></th>\n",
       "      <th></th>\n",
       "      <th></th>\n",
       "      <th></th>\n",
       "      <th></th>\n",
       "      <th></th>\n",
       "      <th></th>\n",
       "      <th></th>\n",
       "      <th></th>\n",
       "      <th></th>\n",
       "    </tr>\n",
       "  </thead>\n",
       "  <tbody>\n",
       "    <tr>\n",
       "      <th>2017-03-27</th>\n",
       "      <td>53.108200</td>\n",
       "      <td>32.470001</td>\n",
       "      <td>41.740002</td>\n",
       "      <td>147.800003</td>\n",
       "      <td>140.880005</td>\n",
       "      <td>22.597819</td>\n",
       "      <td>65.448868</td>\n",
       "      <td>87.480003</td>\n",
       "      <td>125.260002</td>\n",
       "      <td>44.428253</td>\n",
       "      <td>...</td>\n",
       "      <td>22.170000</td>\n",
       "      <td>23.530001</td>\n",
       "      <td>63.212898</td>\n",
       "      <td>26.459999</td>\n",
       "      <td>33.230000</td>\n",
       "      <td>120.051783</td>\n",
       "      <td>86.500000</td>\n",
       "      <td>40.779999</td>\n",
       "      <td>12.63</td>\n",
       "      <td>53.863420</td>\n",
       "    </tr>\n",
       "    <tr>\n",
       "      <th>2017-03-28</th>\n",
       "      <td>53.307702</td>\n",
       "      <td>32.919998</td>\n",
       "      <td>42.599998</td>\n",
       "      <td>148.360001</td>\n",
       "      <td>143.800003</td>\n",
       "      <td>22.665505</td>\n",
       "      <td>65.330055</td>\n",
       "      <td>87.500000</td>\n",
       "      <td>125.050003</td>\n",
       "      <td>44.428253</td>\n",
       "      <td>...</td>\n",
       "      <td>22.430000</td>\n",
       "      <td>23.900000</td>\n",
       "      <td>64.168410</td>\n",
       "      <td>26.549999</td>\n",
       "      <td>32.900002</td>\n",
       "      <td>120.950002</td>\n",
       "      <td>88.580002</td>\n",
       "      <td>41.299999</td>\n",
       "      <td>12.88</td>\n",
       "      <td>54.053044</td>\n",
       "    </tr>\n",
       "    <tr>\n",
       "      <th>2017-03-29</th>\n",
       "      <td>52.988494</td>\n",
       "      <td>32.910000</td>\n",
       "      <td>41.959999</td>\n",
       "      <td>149.669998</td>\n",
       "      <td>144.119995</td>\n",
       "      <td>22.588149</td>\n",
       "      <td>65.122117</td>\n",
       "      <td>89.510002</td>\n",
       "      <td>124.879997</td>\n",
       "      <td>44.398432</td>\n",
       "      <td>...</td>\n",
       "      <td>22.240000</td>\n",
       "      <td>23.850000</td>\n",
       "      <td>63.750376</td>\n",
       "      <td>26.610001</td>\n",
       "      <td>32.910000</td>\n",
       "      <td>121.370003</td>\n",
       "      <td>88.830002</td>\n",
       "      <td>41.320000</td>\n",
       "      <td>13.27</td>\n",
       "      <td>53.713715</td>\n",
       "    </tr>\n",
       "    <tr>\n",
       "      <th>2017-03-30</th>\n",
       "      <td>53.188000</td>\n",
       "      <td>33.490002</td>\n",
       "      <td>42.540001</td>\n",
       "      <td>148.669998</td>\n",
       "      <td>143.929993</td>\n",
       "      <td>22.568809</td>\n",
       "      <td>64.815174</td>\n",
       "      <td>89.139999</td>\n",
       "      <td>125.000000</td>\n",
       "      <td>44.279163</td>\n",
       "      <td>...</td>\n",
       "      <td>22.059999</td>\n",
       "      <td>24.180000</td>\n",
       "      <td>63.720510</td>\n",
       "      <td>26.520000</td>\n",
       "      <td>32.810001</td>\n",
       "      <td>121.360001</td>\n",
       "      <td>89.559998</td>\n",
       "      <td>42.380001</td>\n",
       "      <td>13.01</td>\n",
       "      <td>53.364408</td>\n",
       "    </tr>\n",
       "    <tr>\n",
       "      <th>2017-03-31</th>\n",
       "      <td>52.869999</td>\n",
       "      <td>34.400002</td>\n",
       "      <td>42.299999</td>\n",
       "      <td>148.259995</td>\n",
       "      <td>143.660004</td>\n",
       "      <td>22.626826</td>\n",
       "      <td>64.518133</td>\n",
       "      <td>88.500000</td>\n",
       "      <td>125.199997</td>\n",
       "      <td>44.140015</td>\n",
       "      <td>...</td>\n",
       "      <td>21.930000</td>\n",
       "      <td>24.280001</td>\n",
       "      <td>63.601077</td>\n",
       "      <td>27.200001</td>\n",
       "      <td>32.900002</td>\n",
       "      <td>122.110001</td>\n",
       "      <td>91.250000</td>\n",
       "      <td>42.000000</td>\n",
       "      <td>13.09</td>\n",
       "      <td>53.264603</td>\n",
       "    </tr>\n",
       "  </tbody>\n",
       "</table>\n",
       "<p>5 rows × 984 columns</p>\n",
       "</div>"
      ],
      "text/plain": [
       "                    A         AA        AAL         AAP        AAPL  \\\n",
       "Date                                                                  \n",
       "2017-03-27  53.108200  32.470001  41.740002  147.800003  140.880005   \n",
       "2017-03-28  53.307702  32.919998  42.599998  148.360001  143.800003   \n",
       "2017-03-29  52.988494  32.910000  41.959999  149.669998  144.119995   \n",
       "2017-03-30  53.188000  33.490002  42.540001  148.669998  143.929993   \n",
       "2017-03-31  52.869999  34.400002  42.299999  148.259995  143.660004   \n",
       "\n",
       "                  ABB       ABBV        ABC        ABMD        ABT    ...      \\\n",
       "Date                                                                  ...       \n",
       "2017-03-27  22.597819  65.448868  87.480003  125.260002  44.428253    ...       \n",
       "2017-03-28  22.665505  65.330055  87.500000  125.050003  44.428253    ...       \n",
       "2017-03-29  22.588149  65.122117  89.510002  124.879997  44.398432    ...       \n",
       "2017-03-30  22.568809  64.815174  89.139999  125.000000  44.279163    ...       \n",
       "2017-03-31  22.626826  64.518133  88.500000  125.199997  44.140015    ...       \n",
       "\n",
       "                 YNDX        YPF        YUM       YUMC       ZAYO         ZBH  \\\n",
       "Date                                                                            \n",
       "2017-03-27  22.170000  23.530001  63.212898  26.459999  33.230000  120.051783   \n",
       "2017-03-28  22.430000  23.900000  64.168410  26.549999  32.900002  120.950002   \n",
       "2017-03-29  22.240000  23.850000  63.750376  26.610001  32.910000  121.370003   \n",
       "2017-03-30  22.059999  24.180000  63.720510  26.520000  32.810001  121.360001   \n",
       "2017-03-31  21.930000  24.280001  63.601077  27.200001  32.900002  122.110001   \n",
       "\n",
       "                 ZBRA       ZION    ZTO        ZTS  \n",
       "Date                                                \n",
       "2017-03-27  86.500000  40.779999  12.63  53.863420  \n",
       "2017-03-28  88.580002  41.299999  12.88  54.053044  \n",
       "2017-03-29  88.830002  41.320000  13.27  53.713715  \n",
       "2017-03-30  89.559998  42.380001  13.01  53.364408  \n",
       "2017-03-31  91.250000  42.000000  13.09  53.264603  \n",
       "\n",
       "[5 rows x 984 columns]"
      ]
     },
     "execution_count": 28,
     "metadata": {},
     "output_type": "execute_result"
    }
   ],
   "source": [
    "df.head()"
   ]
  },
  {
   "cell_type": "code",
   "execution_count": 31,
   "metadata": {},
   "outputs": [
    {
     "data": {
      "text/plain": [
       "128"
      ]
     },
     "execution_count": 31,
     "metadata": {},
     "output_type": "execute_result"
    }
   ],
   "source": [
    "pd.isnull(df).sum().sum()"
   ]
  },
  {
   "cell_type": "code",
   "execution_count": null,
   "metadata": {
    "collapsed": true
   },
   "outputs": [],
   "source": []
  }
 ],
 "metadata": {
  "kernelspec": {
   "display_name": "Python 3",
   "language": "python",
   "name": "python3"
  },
  "language_info": {
   "codemirror_mode": {
    "name": "ipython",
    "version": 3
   },
   "file_extension": ".py",
   "mimetype": "text/x-python",
   "name": "python",
   "nbconvert_exporter": "python",
   "pygments_lexer": "ipython3",
   "version": "3.5.3"
  }
 },
 "nbformat": 4,
 "nbformat_minor": 2
}
