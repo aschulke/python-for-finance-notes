{
 "cells": [
  {
   "cell_type": "markdown",
   "metadata": {
    "collapsed": true
   },
   "source": [
    "## Value of a European Call Option\n",
    "\n",
    "\n",
    "According to the [Black-Scholes-Merton](https://en.wikipedia.org/wiki/Black%E2%80%93Scholes_model) model, \n",
    "__the index level at maturity__ of a call option is a random variable given by the following formula where \n",
    "z is assumed to be normally distributed\n",
    "\n",
    "$$S_T(z)=S_0e^{(r-0.5\\sigma^2)T+\\sigma\\sqrt{T}z}$$\n",
    "\n",
    "Suppose we have the following parameter for the evaluation  \n",
    "* Initial stock index level $S_0 = 100$\n",
    "* Strike price of the European call option K = 105 \n",
    "* Time-to-maturity T = 1 year \n",
    "* Constant, riskless short rate r = 5% \n",
    "* Constant volatility $\\sigma^2$ = 20%\n",
    "\n",
    "The following is an algorithmic description of the Monte Carlo valuation procedure: \n",
    "* Draw I (pseudo) random numbers z(i), i ∈ {1, 2, …, I}, from the standard normal distribution. \n",
    "* Calculate all resulting index levels at maturity $S_T(i)$ for given z(i) and above equation\n",
    "* Calculate all inner values of the option at maturity as $h_T(i)=\\max{(S_T(i)–K,0)}$. \n",
    "* Estimate the __option present value__ via the Monte Carlo estimator given by the following formula\n",
    "\n",
    "$$C_0=e^{-rT}I^{-1}\\sum_{i=1}^{I} h_T{(i)}$$\n",
    "\n"
   ]
  },
  {
   "cell_type": "code",
   "execution_count": 39,
   "metadata": {
    "collapsed": false
   },
   "outputs": [],
   "source": [
    "import numpy as np\n",
    "\n",
    "def opt_BSM_pres_val(S0,r,sigma,T,K,iterations = 100000 , seed=500):\n",
    "    np.random.seed(seed)\n",
    "    z = np.random.standard_normal(iterations)\n",
    "    ST = S0 * np.exp(( r - 0.5 * sigma ** 2) * T + sigma * np.sqrt(T) * z)\n",
    "    hT = np.maximum(ST - K, 0)\n",
    "    C0 = np.exp(-r * T) * np.sum( hT) / iterations\n",
    "    return C0"
   ]
  },
  {
   "cell_type": "code",
   "execution_count": 40,
   "metadata": {
    "collapsed": false
   },
   "outputs": [
    {
     "name": "stdout",
     "output_type": "stream",
     "text": [
      "Value of the European Call Option is 8.018\n"
     ]
    }
   ],
   "source": [
    "C0 = opt_BSM_pres_val(S0=100,r=0.05,sigma=0.2,T=1.0,K=105,iterations = 100000 , seed=500)\n",
    "print(\"Value of the European Call Option is {0:.4g}\".format(C0))"
   ]
  }
 ],
 "metadata": {
  "kernelspec": {
   "display_name": "Python 3",
   "language": "python",
   "name": "python3"
  },
  "language_info": {
   "codemirror_mode": {
    "name": "ipython",
    "version": 3
   },
   "file_extension": ".py",
   "mimetype": "text/x-python",
   "name": "python",
   "nbconvert_exporter": "python",
   "pygments_lexer": "ipython3",
   "version": "3.5.2"
  }
 },
 "nbformat": 4,
 "nbformat_minor": 0
}
